{
 "cells": [
  {
   "cell_type": "markdown",
   "metadata": {},
   "source": [
    "Dylan Liesenfelt"
   ]
  },
  {
   "cell_type": "markdown",
   "metadata": {},
   "source": [
    "# Questions:\n",
    "\n",
    "Write the first four terms of the sequences defined by the formulas:\n",
    "\n",
    "(a) $\\frac{3}{1}, \\frac{7}{4}, \\frac{4}{3}, \\frac{9}{8}$\n",
    "​\n",
    "\n",
    "\n",
    "(b) $\\frac{5}{3}, \\frac{3}{1}, \\frac{7}{1}, 0$"
   ]
  },
  {
   "cell_type": "markdown",
   "metadata": {},
   "source": [
    "# Question:\n",
    "$e_{m}= 2 +(\\frac{1}{3})^m$, for all integers $m ≥0$.\n",
    "\n",
    "(a) Write the first four terms of the sequence.\n",
    "\n",
    "$3, \\frac{7}{3}, \\frac{19}{9}, \\frac{55}{27}$\n",
    "\n",
    "(b) Show that the sequence converges to 2 as m approaches infinity\n",
    "\n",
    "$$"
   ]
  },
  {
   "cell_type": "markdown",
   "metadata": {},
   "source": [
    "# Questions:\n",
    "Find explicit formulas for sequences of the form a1, a2, a3, . . . with the initial terms given in the following exercise:\n",
    "\n",
    "(a)\n",
    "\n",
    "$a_n = (-1)^{n+1}$\n",
    "\n",
    "(b)\n",
    "\n",
    "$a_n = (-1)^{n+1} \\lvert \\frac{n}{2} \\rvert$\n",
    "\n",
    "(c)\n",
    "\n",
    "$a_n = \\frac{2n-1}{2n}$"
   ]
  },
  {
   "cell_type": "markdown",
   "metadata": {},
   "source": [
    "# Question\n",
    "Compute the summations and products:\n",
    "\n",
    "(a)\n",
    "\n",
    "33\n",
    "\n",
    "(b)\n",
    "\n",
    "3600"
   ]
  },
  {
   "cell_type": "markdown",
   "metadata": {},
   "source": [
    "# Question\n",
    "Prove the following proposition using mathematical induction:\n",
    "\n",
    "$P(n) : 1 + 2 + 4 + 8 + ···+ 2^n= 2^{n+1} −1$\n",
    "\n",
    "(a) Prove the base case P(0).\n",
    "\n",
    "$2^0 = 1$\n",
    "\n",
    "$2^{0+1} - 1 = 2^1 - 1 = 2 - 1 = 1$\n",
    "\n",
    "$1 = 1, \\text{this is true so base case is correct}$\n",
    "\n",
    "(b) Assume P (k) is true and prove P (k + 1).\n",
    "\n",
    "Since P(0) is true and P(k) were assuming is true, using induction we can conclude P(n) holds for all non-negative integers"
   ]
  }
 ],
 "metadata": {
  "language_info": {
   "name": "python"
  }
 },
 "nbformat": 4,
 "nbformat_minor": 2
}
