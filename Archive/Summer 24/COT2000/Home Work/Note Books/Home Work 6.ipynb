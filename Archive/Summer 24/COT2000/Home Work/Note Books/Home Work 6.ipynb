{
 "cells": [
  {
   "cell_type": "markdown",
   "metadata": {},
   "source": [
    "Dylan Liesenfelt"
   ]
  },
  {
   "cell_type": "markdown",
   "metadata": {},
   "source": [
    "# Counting and Probability\n",
    "\n",
    "Select and solve a total of 5\n",
    "exercises from the document ”Counting and Probability Exercises v2 With\n",
    "solutions.pdf” on Canvas. Choose exercises from the following list:"
   ]
  },
  {
   "cell_type": "markdown",
   "metadata": {},
   "source": [
    "## Exercise 3:\n",
    "\n",
    "Professor Shortcut records his grades using only his students’ first and last\n",
    "initials. What is the smallest class size that will definitely force Prof. S.\n",
    "to use a different system?\n",
    "\n",
    "- Solution:\n",
    "\n",
    "Total Unique Combos = (First Initials) x (Last Initials)\n",
    "\n",
    "Since there are 26 letters in the english alphabet....\n",
    "\n",
    "T = 26 x 26\n",
    "\n",
    "T = 676 Unique Combos\n",
    "\n",
    "But since this is all unique combos to ensure there is a 100% chance of a repeat existing we must add 1\n",
    "\n",
    "676 Students is the smallest class size that would ensure the professor would have to change the system."
   ]
  },
  {
   "cell_type": "markdown",
   "metadata": {},
   "source": [
    "## Exercise 5:\n",
    "\n",
    "A builder of modular homes would like to impress his potential customers\n",
    "with the variety of styles of his houses. For each house there are blueprints\n",
    "for three different living rooms, four different bedroom configurations, and\n",
    "two different garage styles. In addition, the outside can be finished in cedar\n",
    "shingles or brick. How many different houses can be designed from these\n",
    "plans?\n",
    "\n",
    "- Solution:\n",
    "\n",
    "Total Unique combos = (living room options) x (bedroom options) x (garage options) x (exterior finish options)\n",
    "\n",
    "T = 3 x 4 x 2 x 2\n",
    "\n",
    "T = 48 Unique Combos of Houses\n"
   ]
  },
  {
   "cell_type": "markdown",
   "metadata": {},
   "source": [
    "## Exercise 7:\n",
    "\n",
    "An automobile dealer has several options available for each of three different\n",
    "packages of a particular model car: a choice of two styles of seats\n",
    "in three different colors, a choice of four different radios, and five different\n",
    "exteriors. How many choices of automobile does a customer have?\n",
    "\n",
    "- Solution:\n",
    "\n",
    "Total Unique Combos = (Seat Options) x (Color Options) x (Radio Options) x (Exterior Options)\n",
    "\n",
    "T = 2 x 3 x 4 x 5\n",
    "\n",
    "T = 120"
   ]
  },
  {
   "cell_type": "markdown",
   "metadata": {},
   "source": [
    "## Exercise 9:\n",
    "\n",
    "As a freshman, suppose you had to take two of four lab science courses, one\n",
    "of two literature courses, two of three math courses, and one of seven physical\n",
    "education courses. Disregarding possible time conflicts, how many\n",
    "different schedules do you have to choose from?\n",
    "\n",
    "- Solution:\n",
    "\n",
    "Science Labs:\n",
    "${4}\\choose{2}$ = $\\frac{4!}{2!(4-2)!}$ = $6$\n",
    "\n",
    "Lit Courses:\n",
    "${2}\\choose{1}$ = $2$\n",
    "\n",
    "Math Courses:\n",
    "${3}\\choose{2}$ = $\\frac{3!}{2!(3-2)!}$ = $3$\n",
    "\n",
    "PE Courses:\n",
    "${7}\\choose{1}$ = $7$\n",
    "\n",
    "Total schedule combos:\n",
    "6 x 2 x 3 x 7 = 252 Unique Schedule Combos\n"
   ]
  },
  {
   "cell_type": "markdown",
   "metadata": {},
   "source": [
    "## Exercise 11:\n",
    "\n",
    "Automobile license plates in Massachusetts usually consist of three digits\n",
    "followed by three letters. The first digit is never zero. How many different\n",
    "plates of this type could be made?\n",
    "\n",
    "- Solution:\n",
    "\n",
    "First digit is never 0, 1-9 is 9, so Digit combos = 9 x 10 x 10 = 900\n",
    "\n",
    "Letter combos = 26 x 26 x 26 = 17576\n",
    "\n",
    "Total Plate Combos = 900 x 17576 = 15818400"
   ]
  }
 ],
 "metadata": {
  "language_info": {
   "name": "python"
  }
 },
 "nbformat": 4,
 "nbformat_minor": 2
}
