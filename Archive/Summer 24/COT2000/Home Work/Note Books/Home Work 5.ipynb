{
 "cells": [
  {
   "cell_type": "markdown",
   "metadata": {},
   "source": [
    "# Home Work 5\n",
    "Dylan Liesenfelt"
   ]
  },
  {
   "cell_type": "markdown",
   "metadata": {},
   "source": [
    "# Question 1\n",
    "Fill in each blank with the word most or least.\n",
    "\n",
    "(a) A function $F$ is one-to-one if, and only if, each element in the co-\n",
    "domain of $F$ is the image of at $\\textbf{MOST}$ one element in the\n",
    "domain of $F$ .\n",
    "\n",
    "(b) A function $F$ is onto if, and only if, each element in the co-domain of\n",
    "$F$ is the image of at $\\textbf{LEAST}$ one element in the domain of $F$ ."
   ]
  },
  {
   "cell_type": "markdown",
   "metadata": {},
   "source": [
    "# Question 2\n",
    "When asked to state the definition of one-to-one, a student replies, ”A\n",
    "function $f$ is one-to-one if, and only if, every element of X is sent by $f$\n",
    "to exactly one element of Y .” Give a counterexample to show that the\n",
    "student’s reply is incorrect.\n",
    "\n",
    "Counter:\n",
    "\n",
    "Let $X = \\{1,2\\}$ and $Y = \\{3\\}$.\n",
    "\n",
    "Define $f:X \\rightarrow Y$ by:\n",
    "\n",
    "- $f(1)=3$\n",
    "\n",
    "- $f(2)=3$"
   ]
  },
  {
   "cell_type": "markdown",
   "metadata": {},
   "source": [
    "# Question 3\n",
    "Let $X = \\{1, 5, 9\\}$ and $Y = \\{3, 4, 7\\}$.\n",
    "\n",
    "$\\textbf{(a)}$ Define $f : X \\rightarrow Y$ by specifying that\n",
    "\n",
    "$f (1) = 4$,\n",
    "\n",
    "$f (5) = 7$,\n",
    "\n",
    "$f (9) = 4$.\n",
    "\n",
    "Is $f$ one-to-one? Is $f$ onto? Explain your answers.\n",
    "\n",
    "- One-To-One: No, because $f(1)=4$ and $f(9)=4$\n",
    "- Onto: No, because 3 in $Y$ is not an image of any element in $X$\n",
    "\n",
    "$\\textbf{(b)}$ Define $g : X \\rightarrow Y$ by specifying that\n",
    "\n",
    "$g(1) = 7$,\n",
    "\n",
    "$g(5) = 30$,\n",
    "\n",
    "$g(9) = 4$.\n",
    "\n",
    "Is $g$ one-to-one? Is $g$ onto? Explain your answers.\n",
    "- One-To-One: Yes, because all images are distinct.\n",
    "- Onto: Yes, because every element in $Y$ is an image of some element in $X$"
   ]
  },
  {
   "cell_type": "markdown",
   "metadata": {},
   "source": [
    "# Question 4\n",
    "Let $X = \\{a, b, c, d\\}$ and $Y = \\{e, f, g\\}$. Define functions $F$ and $G$ by the\n",
    "arrow diagrams below.\n",
    "\n",
    "(a) Is $F$ one-to-one? Why or why not? Is it onto? Why or why not?\n",
    "- No its not One-To-One, because c and d map to e.\n",
    "- But it is Onto, because all elements of $Y$ are covered by an element of $X$\n",
    "\n",
    "(b) Is $G$ one-to-one? Why or why not? Is it onto? Why or why not?\n",
    "- Neither One-To-One or Onto, because f is covered by a,b,and d. And g is not covered by any element."
   ]
  },
  {
   "cell_type": "markdown",
   "metadata": {},
   "source": [
    "# Question 5\n",
    "Let $X = \\{a, b, c\\}$ and $Y = \\{w, x, y, z\\}$. Define functions H and K by the\n",
    "arrow diagrams below.\n",
    "\n",
    "(a) Is H one-to-one? Why or why not? Is it onto? Why or why not?\n",
    "- $H$ is neither, y is covered by b and c, and x and z are not covered.\n",
    "\n",
    "(b) Is K one-to-one? Why or why not? Is it onto? Why or why not?\n",
    "- $K$ is One-To-One, because every element of $X$ maps to only one element of $Y$, but it is not onto because z is not covered by any element of $X$."
   ]
  },
  {
   "cell_type": "markdown",
   "metadata": {},
   "source": [
    "# Question 6\n",
    "Let X = {1, 2, 3}, Y = {1, 2, 3, 4}, and Z = {1, 2}.\n",
    "\n",
    "(a) Define a function Let f : X → Y that is one-to-one but not onto.\n",
    "- $f(1)=1, \n",
    "\n",
    "f(2)=2, \n",
    "\n",
    "f(3)=3$\n",
    "\n",
    "(b) Define a function g : X → Z that is onto but not one-to-one.\n",
    "- $g(1)=1, \n",
    "\n",
    "g(2)=2, \n",
    "\n",
    "g(3)=2$\n",
    "\n",
    "(c) Define a function h : X → X that is neither one-to-one nor onto.\n",
    "- $h(1)=2, \n",
    "\n",
    "h(2)=2, \n",
    "\n",
    "h(3)=2$\n",
    "\n",
    "(d) Define a function k : X → X that is one-to-one and onto but is not\n",
    "the identity function on X.\n",
    "- $k(1)=2, \n",
    "\n",
    "k(2)=3, \n",
    "\n",
    "k(3)=1$"
   ]
  },
  {
   "cell_type": "markdown",
   "metadata": {},
   "source": [
    "# Question 7\n",
    "\n",
    "(a) Define $g : Z \\rightarrow Z$ by the rule $g(n) = 4n − 5$, for all integers $n$.\n",
    "\n",
    "i. Is g one-to-one? Prove or give a counterexample.\n",
    "- Yes. Proof: $g(n_1)=g(n_2)$, then $4n_1-5=4n_2-5$. So, $n_1=n_2$\n",
    "\n",
    "ii. Is g onto? Prove or give a counterexample.\n",
    "- Yes, Proof: For any $m \\in \\mathbb{Z}, n = \\frac{m+5}{4}$ is an integer, so $g(n)=m$\n",
    "\n",
    "(b) Define $G : R \\rightarrow R$ by the rule $G(x) = 4x − 5$ for all real numbers $x$.\n",
    "\n",
    "Is G onto? Prove or give a counterexample.\n",
    "- Yes, Proof: For any $y \\in \\mathbb{R}, x = \\frac{y+5}{4}$ is a real number, so $G(x)=y$"
   ]
  },
  {
   "cell_type": "markdown",
   "metadata": {},
   "source": [
    "# Question 8\n",
    "(a) Define $H : R \\rightarrow R$ by the rule $H(x) = x2$, for all real numbers $x$.\n",
    "\n",
    "i. Is H one-to-one? Prove or give a counterexample.\n",
    "- No, Counter: $H(1)=1$ and $H(-1)=1$\n",
    "\n",
    "ii. Is H onto? Prove or give a counterexample.\n",
    "- No, Counter: There is no $x \\in \\mathbb{R}$ that $x^2=-1$\n",
    "\n",
    "(b) Define $K : R^{nonneg} \\rightarrow R^{nonneg}$ by the rule $K(x) = x2$, for all non-\n",
    "negative real numbers $x$. Is $K$ onto? Prove or give a counterexample.\n",
    "- Yes. Proof: For any $y\\geq 0,x=\\sqrt y$ is a non-neg real number, so $K(x)=y$"
   ]
  },
  {
   "cell_type": "markdown",
   "metadata": {},
   "source": [
    "In each of the following a function $f$ is defined on a set of real\n",
    "numbers. Determine whether or not $f$ is one-to-one and justify\n",
    "your answer.\n",
    "\n",
    "# Question 9\n",
    "$f(x)=\\frac{x+1}{x}$, for all real numbers $x \\neq 0$\n",
    "- Yes, Proof: if $\\frac{x_1+1}{x_1} = \\frac{x_2+1}{x_2} $, then $x_1 = x_2$"
   ]
  },
  {
   "cell_type": "markdown",
   "metadata": {},
   "source": [
    "# Question 10\n",
    "$f(x)=\\frac{x}{x^2+1}$, for all real numbers $x$\n",
    "- No, Counter: $f(1) =\\frac{1}{2}$ and $f(-1)=\\frac{-1}{2}$"
   ]
  }
 ],
 "metadata": {
  "kernelspec": {
   "display_name": "Python 3",
   "language": "python",
   "name": "python3"
  },
  "language_info": {
   "codemirror_mode": {
    "name": "ipython",
    "version": 3
   },
   "file_extension": ".py",
   "mimetype": "text/x-python",
   "name": "python",
   "nbconvert_exporter": "python",
   "pygments_lexer": "ipython3",
   "version": "3.12.4"
  }
 },
 "nbformat": 4,
 "nbformat_minor": 2
}
