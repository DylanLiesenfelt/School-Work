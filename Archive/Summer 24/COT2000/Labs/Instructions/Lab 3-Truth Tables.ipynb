{
 "cells": [
  {
   "cell_type": "markdown",
   "id": "40cfe139-11a1-486e-a133-7c247e6f34cc",
   "metadata": {},
   "source": [
    "# Truth tables using Python"
   ]
  },
  {
   "cell_type": "markdown",
   "id": "4e73e660-b643-41b9-aae6-28f2f080ebcb",
   "metadata": {},
   "source": [
    "## 1. Logical Functions\n",
    "TASK: Read the following code, and notice how a truth table is constructed"
   ]
  },
  {
   "cell_type": "code",
   "execution_count": 13,
   "id": "7629db99-4628-48cc-97d6-0cd257489075",
   "metadata": {},
   "outputs": [
    {
     "name": "stdout",
     "output_type": "stream",
     "text": [
      "p\tq\tp -> q\tp <-> q\n",
      "----------------------------------------\n",
      "True\tTrue\tTrue\tTrue\n",
      "True\tFalse\tFalse\tFalse\n",
      "False\tTrue\tTrue\tFalse\n",
      "False\tFalse\tTrue\tTrue\n"
     ]
    }
   ],
   "source": [
    "# Logical functions\n",
    "\n",
    "# Conditional equivalence\n",
    "def implies(p, q):\n",
    "    return not p or q\n",
    "\n",
    "# Bi-conditional\n",
    "def biconditional(p, q):\n",
    "    return p == q\n",
    "\n",
    "# Sample truth table for conditional and bi-conditional\n",
    "def truth_table():\n",
    "    print('p\\tq\\tp -> q\\tp <-> q')\n",
    "    print('-'*40)\n",
    "    for p in [True, False]:\n",
    "        for q in [True, False]:\n",
    "            print(f'{p}\\t{q}\\t{implies(p, q)}\\t{biconditional(p, q)}')\n",
    "\n",
    "truth_table()"
   ]
  },
  {
   "cell_type": "markdown",
   "id": "32213b99-5c91-45a4-b013-210a73cb414f",
   "metadata": {},
   "source": [
    "## 2. Testing the conditional and biconditional\n",
    "TASK: Modify values of the propositions p and q"
   ]
  },
  {
   "cell_type": "code",
   "execution_count": 8,
   "id": "9c538170-d334-4a77-afcd-af031eb7e448",
   "metadata": {},
   "outputs": [
    {
     "data": {
      "text/plain": [
       "True"
      ]
     },
     "execution_count": 8,
     "metadata": {},
     "output_type": "execute_result"
    }
   ],
   "source": [
    "# Testing for p and q values\n",
    "p = True                      # TASK: Modify\n",
    "q = True                      # TASK: Modify\n",
    "implies(p,q)       # Conditional\n",
    "biconditional(p,q) # Bi-conditional"
   ]
  },
  {
   "cell_type": "markdown",
   "id": "7f1a240a-df8f-4d78-bee9-9c1e41e995d0",
   "metadata": {},
   "source": [
    "# 3. Compound statement in LaTeX\n",
    "TASK: Modify the markdown cell below for different compound statements"
   ]
  },
  {
   "cell_type": "markdown",
   "id": "6e7076ab-2b61-4269-b33c-77fd66b3ae7a",
   "metadata": {},
   "source": [
    "# $ p \\rightarrow (q \\lor r)  \\equiv (p \\land \\sim q) \\rightarrow r $"
   ]
  },
  {
   "cell_type": "markdown",
   "id": "33c1793f-5e44-4ae0-920c-fb6053ee917e",
   "metadata": {},
   "source": [
    "## 4. Compound statement truth table\n",
    "TASK: Read and modify code acordingly to implement a different compound statement"
   ]
  },
  {
   "cell_type": "code",
   "execution_count": 15,
   "id": "dcf8fd8b-64d2-487a-8d97-62720ef19ac9",
   "metadata": {},
   "outputs": [
    {
     "name": "stdout",
     "output_type": "stream",
     "text": [
      "p \tq \tr \t¬q \tq ∨ r \tp → (q ∨ r) \tp ∧ ¬q \t\t(p ∧ ¬q) → r\n",
      "--------------------------------------------------------------------------------\n",
      "True \tTrue \tTrue \tFalse \tTrue \tTrue \t\tFalse \t\tTrue\n",
      "True \tTrue \tFalse \tFalse \tTrue \tTrue \t\tFalse \t\tTrue\n",
      "True \tFalse \tTrue \tTrue \tTrue \tTrue \t\tTrue \t\tTrue\n",
      "True \tFalse \tFalse \tTrue \tFalse \tFalse \t\tTrue \t\tFalse\n",
      "False \tTrue \tTrue \tFalse \tTrue \tTrue \t\tFalse \t\tTrue\n",
      "False \tTrue \tFalse \tFalse \tTrue \tTrue \t\tFalse \t\tTrue\n",
      "False \tFalse \tTrue \tTrue \tTrue \tTrue \t\tFalse \t\tTrue\n",
      "False \tFalse \tFalse \tTrue \tFalse \tTrue \t\tFalse \t\tTrue\n"
     ]
    }
   ],
   "source": [
    "# Columns\n",
    "# TASK: Modify each column as required for your compound statement\n",
    "col1 = 'p'\n",
    "col2 = 'q'\n",
    "col3 = 'r'\n",
    "col4 = '¬q'\n",
    "col5 = 'q ∨ r'\n",
    "col6 = 'p → (q ∨ r)'\n",
    "col7 = 'p ∧ ¬q'\n",
    "col8 = '(p ∧ ¬q) → r'\n",
    "print(f'{col1} \\t{col2} \\t{col3} \\t{col4} \\t{col5} \\t{col6} \\t{col7} \\t\\t{col8}')\n",
    "print('-'*80)\n",
    "\n",
    "# Iteration of proposition values\n",
    "for p in [True, False]:\n",
    "    for q in [True, False]:\n",
    "        for r in [True, False]:\n",
    "            # TASK: Modify each column as required for your compound statement\n",
    "            col1 = p\n",
    "            col2 = q\n",
    "            col3 = r\n",
    "            col4 = not q\n",
    "            col5 = q or r\n",
    "            col6 = implies(p, q or r)\n",
    "            col7 = p and not q\n",
    "            col8 = implies(p and not q, r)\n",
    "            print(f'{col1} \\t{col2} \\t{col3} \\t{col4} \\t{col5} \\t{col6} \\t\\t{col7} \\t\\t{col8}')"
   ]
  },
  {
   "cell_type": "code",
   "execution_count": null,
   "id": "e8451b9c-ebf5-410c-9843-b30bd129613b",
   "metadata": {},
   "outputs": [],
   "source": []
  }
 ],
 "metadata": {
  "kernelspec": {
   "display_name": "anaconda-panel-2023.05-py310",
   "language": "python",
   "name": "conda-env-anaconda-panel-2023.05-py310-py"
  },
  "language_info": {
   "codemirror_mode": {
    "name": "ipython",
    "version": 3
   },
   "file_extension": ".py",
   "mimetype": "text/x-python",
   "name": "python",
   "nbconvert_exporter": "python",
   "pygments_lexer": "ipython3",
   "version": "3.11.5"
  }
 },
 "nbformat": 4,
 "nbformat_minor": 5
}
