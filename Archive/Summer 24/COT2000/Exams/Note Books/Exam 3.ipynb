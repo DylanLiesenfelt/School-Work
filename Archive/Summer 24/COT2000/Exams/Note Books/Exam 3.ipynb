{
 "cells": [
  {
   "cell_type": "markdown",
   "metadata": {},
   "source": [
    "# Exam 3"
   ]
  },
  {
   "cell_type": "markdown",
   "metadata": {},
   "source": [
    "Dylan Liesenfelt\n",
    "\n",
    "Z23688417"
   ]
  },
  {
   "cell_type": "markdown",
   "metadata": {},
   "source": [
    "# Question 1\n",
    "\n",
    "(a) 6, 5.5, 5.25, 5.125\n",
    "\n",
    "(b) as $n$ approaches infinity, $(\\frac{1}{2})^n$ approaches 0. Therefore, $a_n$ approaches 5 + 0 = 5. So the sequence converges to 5."
   ]
  },
  {
   "cell_type": "markdown",
   "metadata": {},
   "source": [
    "# Question 2\n",
    "\n",
    "(a) $b_n = 2n$\n",
    "\n",
    "(b) $b_n = 3 (-1)^{n+1}$\n",
    "\n",
    "(c) $b_n = \\frac{n}{2n+1}$"
   ]
  },
  {
   "cell_type": "markdown",
   "metadata": {},
   "source": [
    "# Question 3\n",
    "\n",
    "(a) 5, 6, 7, 8, 9, 10. Sum: 45\n",
    "\n",
    "(b) 9, 16, 25. Product: 3600"
   ]
  },
  {
   "cell_type": "markdown",
   "metadata": {},
   "source": [
    "# Question 4\n",
    "\n",
    "(a) One-To-One: No, $f$(1) and $f$(7) are both 8. Onto: No, 2 is not mapped to any element in X\n",
    "\n",
    "(b) One-To-One: Yes, each element is mapped to a unique element. Onto: Yes, every element is mapped to another element"
   ]
  },
  {
   "cell_type": "markdown",
   "metadata": {},
   "source": [
    "# Question 5\n",
    "\n",
    "(a) No, $F$ is not One-To-One, c and d of X both map to e of Y\n",
    "\n",
    "(b) No, $G$ is not One-To-One, a,b, and d of X all map to f of Y\n",
    "\n",
    "(c) As they stand we can not make F or G One-To-One with out expanding Y, because X has 4 elements and Y only has 3"
   ]
  },
  {
   "cell_type": "markdown",
   "metadata": {},
   "source": [
    "# Question 6\n",
    "\n",
    "(a)\n",
    "\n",
    "(i) Yes, h is One-to-One.\n",
    "\n",
    "Proof: $h(x_1)=h(x_2);$ $2x_1+1 = 2x_2+1;$ $2x_1 = 2x_2;$ $x_1 =x_2$\n",
    "\n",
    "(ii) Yes, h is Onto.\n",
    "\n",
    "Proof: for any $y \\in Z$, we can find an $x \\in Z$ such that $h(x) = y$\n",
    "\n",
    "$y=2x+1;$ $ x = \\frac{y-1}{2}$\n",
    "\n",
    "(b)\n",
    "\n",
    "(i) No, g is not One-To-One.\n",
    "\n",
    "Counter: $g(1)=1^2-1=0$; $g(-1) = (-1)^2 - 1 = 0$\n",
    "\n",
    "(ii) No, g is not Onto.\n",
    "\n",
    "Counter: Ther is no $x \\in R$ such that $g(x) = -2$\n",
    "\n",
    "$x^2 -1=-2$; $x^2=-1$"
   ]
  }
 ],
 "metadata": {
  "language_info": {
   "name": "python"
  }
 },
 "nbformat": 4,
 "nbformat_minor": 2
}
