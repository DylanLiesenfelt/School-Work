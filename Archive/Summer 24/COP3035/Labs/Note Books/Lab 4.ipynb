{
 "cells": [
  {
   "cell_type": "markdown",
   "metadata": {},
   "source": [
    "Dylan Liesenfelt"
   ]
  },
  {
   "cell_type": "markdown",
   "metadata": {},
   "source": [
    "# Section\n"
   ]
  },
  {
   "cell_type": "markdown",
   "metadata": {},
   "source": [
    "## Topic: List Methods"
   ]
  },
  {
   "cell_type": "code",
   "execution_count": 2,
   "metadata": {},
   "outputs": [],
   "source": [
    "fruits = ['apple', 'orange', 'banana']"
   ]
  },
  {
   "cell_type": "code",
   "execution_count": 3,
   "metadata": {},
   "outputs": [
    {
     "name": "stdout",
     "output_type": "stream",
     "text": [
      "['apple', 'orange', 'banana', 'grape']\n"
     ]
    }
   ],
   "source": [
    "fruits.append('grape')\n",
    "print(fruits)"
   ]
  },
  {
   "cell_type": "code",
   "execution_count": 5,
   "metadata": {},
   "outputs": [
    {
     "name": "stdout",
     "output_type": "stream",
     "text": [
      "['apple', 'orange', 'banana', 'grape', 'kiwi', 'mango', 'strawberry']\n"
     ]
    }
   ],
   "source": [
    "newFruits = ('kiwi', 'mango', 'strawberry')\n",
    "fruits.extend(newFruits)\n",
    "print(fruits)"
   ]
  },
  {
   "cell_type": "code",
   "execution_count": 8,
   "metadata": {},
   "outputs": [
    {
     "name": "stdout",
     "output_type": "stream",
     "text": [
      "['apple', 'peach', 'orange', 'banana', 'grape', 'kiwi', 'mango', 'strawberry']\n"
     ]
    }
   ],
   "source": [
    "fruits.insert(1,'peach')\n",
    "print(fruits)"
   ]
  },
  {
   "cell_type": "code",
   "execution_count": 10,
   "metadata": {},
   "outputs": [
    {
     "name": "stdout",
     "output_type": "stream",
     "text": [
      "['apple', 'peach', 'banana', 'grape', 'kiwi', 'mango', 'strawberry']\n"
     ]
    }
   ],
   "source": [
    "fruits.remove('orange')\n",
    "print(fruits)"
   ]
  },
  {
   "cell_type": "code",
   "execution_count": 11,
   "metadata": {},
   "outputs": [
    {
     "name": "stdout",
     "output_type": "stream",
     "text": [
      "['apple', 'peach', 'banana', 'grape', 'kiwi', 'mango']\n"
     ]
    }
   ],
   "source": [
    "fruits.pop()\n",
    "print(fruits)"
   ]
  },
  {
   "cell_type": "code",
   "execution_count": 12,
   "metadata": {},
   "outputs": [
    {
     "name": "stdout",
     "output_type": "stream",
     "text": [
      "[]\n"
     ]
    }
   ],
   "source": [
    "fruits.clear()\n",
    "print(fruits)"
   ]
  },
  {
   "cell_type": "code",
   "execution_count": 15,
   "metadata": {},
   "outputs": [
    {
     "name": "stdout",
     "output_type": "stream",
     "text": [
      "0\n"
     ]
    }
   ],
   "source": [
    "fruits = ['apple', 'orange', 'banana']\n",
    "print(fruits.index('apple'))"
   ]
  },
  {
   "cell_type": "code",
   "execution_count": 16,
   "metadata": {},
   "outputs": [
    {
     "name": "stdout",
     "output_type": "stream",
     "text": [
      "1\n"
     ]
    }
   ],
   "source": [
    "print(fruits.count('orange'))"
   ]
  },
  {
   "cell_type": "code",
   "execution_count": 17,
   "metadata": {},
   "outputs": [
    {
     "name": "stdout",
     "output_type": "stream",
     "text": [
      "['apple', 'banana', 'orange']\n"
     ]
    }
   ],
   "source": [
    "fruits.sort()\n",
    "print(fruits)"
   ]
  },
  {
   "cell_type": "code",
   "execution_count": 18,
   "metadata": {},
   "outputs": [
    {
     "name": "stdout",
     "output_type": "stream",
     "text": [
      "['orange', 'banana', 'apple']\n"
     ]
    }
   ],
   "source": [
    "fruits.reverse()\n",
    "print(fruits)"
   ]
  },
  {
   "cell_type": "code",
   "execution_count": 20,
   "metadata": {},
   "outputs": [
    {
     "name": "stdout",
     "output_type": "stream",
     "text": [
      "['orange', 'banana', 'apple']\n"
     ]
    }
   ],
   "source": [
    "x = fruits.copy()\n",
    "print(x)"
   ]
  },
  {
   "cell_type": "markdown",
   "metadata": {},
   "source": [
    "## Topic: Dictionary Methods"
   ]
  },
  {
   "cell_type": "code",
   "execution_count": 22,
   "metadata": {},
   "outputs": [],
   "source": [
    "cars = {'Honda':'Civic', 'Toyota':'Tacoma', 'Ford':'Focus'}"
   ]
  },
  {
   "cell_type": "code",
   "execution_count": 23,
   "metadata": {},
   "outputs": [
    {
     "name": "stdout",
     "output_type": "stream",
     "text": [
      "Civic\n"
     ]
    }
   ],
   "source": [
    "print(cars.get('Honda'))"
   ]
  },
  {
   "cell_type": "code",
   "execution_count": null,
   "metadata": {},
   "outputs": [
    {
     "name": "stdout",
     "output_type": "stream",
     "text": [
      "{'Honda': 'Civic', 'Toyota': 'Tacoma', 'Ford': 'Focus', '1': 1, '2': 2, '3': 3}\n"
     ]
    }
   ],
   "source": [
    "numbers = {'1':1, '2':2, '3':3}\n",
    "cars.update(numbers)\n",
    "print(cars)"
   ]
  },
  {
   "cell_type": "code",
   "execution_count": 27,
   "metadata": {},
   "outputs": [
    {
     "name": "stdout",
     "output_type": "stream",
     "text": [
      "dict_keys(['Honda', 'Toyota', 'Ford', '1', '2', '3'])\n",
      "dict_values(['Civic', 'Tacoma', 'Focus', 1, 2, 3])\n",
      "dict_items([('Honda', 'Civic'), ('Toyota', 'Tacoma'), ('Ford', 'Focus'), ('1', 1), ('2', 2), ('3', 3)])\n"
     ]
    }
   ],
   "source": [
    "print(cars.keys())\n",
    "print(cars.values())\n",
    "print(cars.items())\n"
   ]
  },
  {
   "cell_type": "code",
   "execution_count": 29,
   "metadata": {},
   "outputs": [
    {
     "name": "stdout",
     "output_type": "stream",
     "text": [
      "{'Honda': 'Civic', 'Toyota': 'Tacoma', 'Ford': 'Focus', '2': 2, '3': 3}\n"
     ]
    }
   ],
   "source": [
    "cars.pop('1')\n",
    "print(cars)"
   ]
  },
  {
   "cell_type": "code",
   "execution_count": 31,
   "metadata": {},
   "outputs": [
    {
     "name": "stdout",
     "output_type": "stream",
     "text": [
      "{'Honda': 'Civic', 'Toyota': 'Tacoma', 'Ford': 'Focus', '2': 2}\n"
     ]
    }
   ],
   "source": [
    "cars.popitem()\n",
    "print(cars)"
   ]
  },
  {
   "cell_type": "code",
   "execution_count": 32,
   "metadata": {},
   "outputs": [
    {
     "name": "stdout",
     "output_type": "stream",
     "text": [
      "{'Honda': 'Civic', 'Toyota': 'Tacoma', 'Ford': 'Focus', '2': 2}\n"
     ]
    }
   ],
   "source": [
    "y = cars.copy()\n",
    "print(y)"
   ]
  },
  {
   "cell_type": "code",
   "execution_count": 33,
   "metadata": {},
   "outputs": [
    {
     "name": "stdout",
     "output_type": "stream",
     "text": [
      "{}\n"
     ]
    }
   ],
   "source": [
    "y.clear()\n",
    "print(y)"
   ]
  },
  {
   "cell_type": "markdown",
   "metadata": {},
   "source": [
    "## Topic: Tuple Methods"
   ]
  },
  {
   "cell_type": "code",
   "execution_count": 50,
   "metadata": {},
   "outputs": [
    {
     "name": "stdout",
     "output_type": "stream",
     "text": [
      "1\n",
      "2\n"
     ]
    }
   ],
   "source": [
    "number = (5,72,78,3,11,97,5)\n",
    "print(number.index(72))\n",
    "print(number.count(5))"
   ]
  },
  {
   "cell_type": "markdown",
   "metadata": {},
   "source": [
    "## Topic: Set Methods"
   ]
  },
  {
   "cell_type": "code",
   "execution_count": 53,
   "metadata": {},
   "outputs": [
    {
     "name": "stdout",
     "output_type": "stream",
     "text": [
      "{'apple', 'orange', 'banana'} <class 'set'>\n"
     ]
    }
   ],
   "source": [
    "fruitSet = set(fruits)\n",
    "print(fruitSet, type(fruitSet))"
   ]
  },
  {
   "cell_type": "code",
   "execution_count": 54,
   "metadata": {},
   "outputs": [
    {
     "name": "stdout",
     "output_type": "stream",
     "text": [
      "{'Hamburger', 'apple', 'orange', 'banana'}\n"
     ]
    }
   ],
   "source": [
    "fruitSet.add('Hamburger')\n",
    "print(fruitSet)"
   ]
  },
  {
   "cell_type": "code",
   "execution_count": 55,
   "metadata": {},
   "outputs": [
    {
     "name": "stdout",
     "output_type": "stream",
     "text": [
      "{'apple', 'orange', 'banana'}\n"
     ]
    }
   ],
   "source": [
    "fruitSet.remove('Hamburger')\n",
    "print(fruitSet)"
   ]
  },
  {
   "cell_type": "code",
   "execution_count": 60,
   "metadata": {},
   "outputs": [
    {
     "name": "stdout",
     "output_type": "stream",
     "text": [
      "{'apple'}\n",
      "{'orange', 'banana', 'taco', 'apple', 'potato'}\n",
      "{'orange', 'banana'}\n"
     ]
    }
   ],
   "source": [
    "food = {'apple', 'taco', 'potato'}\n",
    "print(fruitSet.intersection(food))\n",
    "print(fruitSet.union(food))\n",
    "print(fruitSet.difference(food))\n"
   ]
  },
  {
   "cell_type": "markdown",
   "metadata": {},
   "source": [
    "## Topic: Booleans"
   ]
  },
  {
   "cell_type": "code",
   "execution_count": 66,
   "metadata": {},
   "outputs": [
    {
     "name": "stdout",
     "output_type": "stream",
     "text": [
      "False\n",
      "True\n",
      "True\n"
     ]
    }
   ],
   "source": [
    "t = True\n",
    "f = False\n",
    "print(f and t)\n",
    "print(f or t)\n",
    "print(not f)"
   ]
  },
  {
   "cell_type": "code",
   "execution_count": 3,
   "metadata": {},
   "outputs": [
    {
     "name": "stdout",
     "output_type": "stream",
     "text": [
      "False\n",
      "True\n",
      "True\n"
     ]
    }
   ],
   "source": [
    "boolList = [True, True, True, False]\n",
    "print(all(boolList))\n",
    "print(any(boolList))\n",
    "print(False in boolList)"
   ]
  },
  {
   "cell_type": "markdown",
   "metadata": {},
   "source": [
    "# Section"
   ]
  },
  {
   "cell_type": "code",
   "execution_count": 36,
   "metadata": {},
   "outputs": [
    {
     "name": "stdout",
     "output_type": "stream",
     "text": [
      "List: ['Y', 'A', 'B', 'B', 'A', ' ', ' ', 'D', 'A', 'B', 'B', 'A', ' ', 'D', 'O', 'O', '.']\n",
      "\n",
      "Vowel count: \n",
      " A: 4\n",
      " E: 0\n",
      " I: 0\n",
      " O: 2\n",
      " U: 0\n",
      "\n",
      "Vowels dictionary: {'A': 4, 'E': 0, 'I': 0, 'O': 2, 'U': 0}\n",
      "\n",
      "Vowels in sentence: {'O', 'A'}\n",
      "\n",
      "Consonants in the sentence: {'D', 'Y', 'B'}\n"
     ]
    }
   ],
   "source": [
    "sentence = 'Yabba  Dabba Doo.'\n",
    "sentenceList = list(sentence.upper())\n",
    "print(f'List: {sentenceList}')\n",
    "\n",
    "a = sentenceList.count('A')\n",
    "e = sentenceList.count('E')\n",
    "i = sentenceList.count('I')\n",
    "o = sentenceList.count('O')\n",
    "u = sentenceList.count('U')\n",
    "print('\\nVowel count: ')\n",
    "print(f' A: {a}\\n E: {e}\\n I: {i}\\n O: {o}\\n U: {u}')\n",
    "\n",
    "vowelDict = {'A':a, 'E':e, 'I':i, 'O':o, 'U':u}\n",
    "print(f'\\nVowels dictionary: {vowelDict}')\n",
    "\n",
    "setOfSentence = set(sentenceList)\n",
    "setOfSentence.remove(' ')\n",
    "setOfSentence.remove('.')\n",
    "\n",
    "vowels = set(vowelDict.keys())\n",
    "\n",
    "print(f'\\nVowels in sentence: {setOfSentence.intersection(vowels)}')\n",
    "\n",
    "print(f'\\nConsonants in the sentence: {setOfSentence.difference(vowels)}')"
   ]
  }
 ],
 "metadata": {
  "kernelspec": {
   "display_name": "Python 3",
   "language": "python",
   "name": "python3"
  },
  "language_info": {
   "codemirror_mode": {
    "name": "ipython",
    "version": 3
   },
   "file_extension": ".py",
   "mimetype": "text/x-python",
   "name": "python",
   "nbconvert_exporter": "python",
   "pygments_lexer": "ipython3",
   "version": "3.11.5"
  }
 },
 "nbformat": 4,
 "nbformat_minor": 2
}
