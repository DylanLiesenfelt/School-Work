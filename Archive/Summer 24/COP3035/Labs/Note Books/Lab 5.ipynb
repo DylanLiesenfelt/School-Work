{
 "cells": [
  {
   "cell_type": "markdown",
   "metadata": {},
   "source": [
    "Dylan Liesenfelt"
   ]
  },
  {
   "cell_type": "markdown",
   "metadata": {},
   "source": [
    "# Step:\n",
    "Download the file Electric_Vehicle_Population_Data.csv from \n",
    "\n",
    "https://catalog.data.gov/dataset/electric-vehicle-population-data"
   ]
  },
  {
   "cell_type": "markdown",
   "metadata": {},
   "source": [
    "# Step:\n",
    "Upload the file"
   ]
  },
  {
   "cell_type": "markdown",
   "metadata": {},
   "source": [
    "# Step:\n",
    "Open the file in read mode (mode='r') and read the header (the first line), then print it. \n",
    "\n",
    "Tip: Use .readline() to read only one line from the file."
   ]
  },
  {
   "cell_type": "code",
   "execution_count": 95,
   "metadata": {},
   "outputs": [
    {
     "name": "stdout",
     "output_type": "stream",
     "text": [
      "VIN (1-10),County,City,State,Postal Code,Model Year,Make,Model,Electric Vehicle Type,Clean Alternative Fuel Vehicle (CAFV) Eligibility,Electric Range,Base MSRP,Legislative District,DOL Vehicle ID,Vehicle Location,Electric Utility,2020 Census Tract\n",
      "\n"
     ]
    }
   ],
   "source": [
    "with open(\"./Electric_Vehicle_Population_Data.csv\", mode=\"r\") as evFile:\n",
    "    print(evFile.readline())"
   ]
  },
  {
   "cell_type": "markdown",
   "metadata": {},
   "source": [
    "# Step:\n",
    "Convert the header to a list and print each field along with its index.\n",
    "Tip: Use a for loop combined with enumerate()."
   ]
  },
  {
   "cell_type": "code",
   "execution_count": 96,
   "metadata": {},
   "outputs": [
    {
     "name": "stdout",
     "output_type": "stream",
     "text": [
      "Index: 0, Field: VIN (1-10)\n",
      "Index: 1, Field: County\n",
      "Index: 2, Field: City\n",
      "Index: 3, Field: State\n",
      "Index: 4, Field: Postal Code\n",
      "Index: 5, Field: Model Year\n",
      "Index: 6, Field: Make\n",
      "Index: 7, Field: Model\n",
      "Index: 8, Field: Electric Vehicle Type\n",
      "Index: 9, Field: Clean Alternative Fuel Vehicle (CAFV) Eligibility\n",
      "Index: 10, Field: Electric Range\n",
      "Index: 11, Field: Base MSRP\n",
      "Index: 12, Field: Legislative District\n",
      "Index: 13, Field: DOL Vehicle ID\n",
      "Index: 14, Field: Vehicle Location\n",
      "Index: 15, Field: Electric Utility\n",
      "Index: 16, Field: 2020 Census Tract\n"
     ]
    }
   ],
   "source": [
    "with open(\"./Electric_Vehicle_Population_Data.csv\", mode=\"r\") as evFile:\n",
    "    header = list(evFile.readline().strip().split(','))\n",
    "    for index, field in enumerate(header):\n",
    "        print(f'Index: {index}, Field: {field}')"
   ]
  },
  {
   "cell_type": "markdown",
   "metadata": {},
   "source": [
    "# Step:\n",
    "Create a dictionary with 'TESLA' as the key and 0 as the value. This dictionary will be used to count Tesla vehicles in the dataset. Read each line from the file, updating the count whenever a Tesla vehicle is found.\n",
    "\n",
    "Question: How many Teslas did you find in the dataset?\n",
    "\n",
    "Tip: Determine the index of the 'Make' field to identify Tesla vehicles."
   ]
  },
  {
   "cell_type": "code",
   "execution_count": 97,
   "metadata": {},
   "outputs": [
    {
     "name": "stdout",
     "output_type": "stream",
     "text": [
      "Total Teslas in file: 83349\n"
     ]
    }
   ],
   "source": [
    "makeDict = {'TESLA':0}\n",
    "with open(\"./Electric_Vehicle_Population_Data.csv\", mode=\"r\") as evFile:\n",
    "    header = list(evFile.readline().strip().split(','))\n",
    "    makeIndex = header.index('Make')\n",
    "    for lines in evFile:\n",
    "        fields = lines.strip().split(',')\n",
    "        make = fields[makeIndex].upper()\n",
    "        if make in makeDict:\n",
    "            makeDict[make] += 1\n",
    "teslaCount = makeDict['TESLA']\n",
    "print(f'Total Teslas in file: {teslaCount}')"
   ]
  },
  {
   "cell_type": "markdown",
   "metadata": {},
   "source": [
    "# Step\n",
    "Modify the program to also count BMW vehicles.\n",
    "Question: How many BMWs are in the dataset?"
   ]
  },
  {
   "cell_type": "code",
   "execution_count": 98,
   "metadata": {},
   "outputs": [
    {
     "name": "stdout",
     "output_type": "stream",
     "text": [
      "Total Teslas in file: 83349\n",
      "Total BMWs in file: 7856\n"
     ]
    }
   ],
   "source": [
    "makeDict = {'TESLA':0, 'BMW':0}\n",
    "with open(\"./Electric_Vehicle_Population_Data.csv\", mode=\"r\") as evFile:\n",
    "    header = list(evFile.readline().strip().split(','))\n",
    "    makeIndex = header.index('Make')\n",
    "    for lines in evFile:\n",
    "        fields = lines.strip().split(',')\n",
    "        make = fields[makeIndex].upper()\n",
    "        if make in makeDict:\n",
    "            makeDict[make] += 1\n",
    "teslaCount = makeDict['TESLA']\n",
    "BMWCount = makeDict['BMW']\n",
    "print(f'Total Teslas in file: {teslaCount}\\nTotal BMWs in file: {BMWCount}')"
   ]
  }
 ],
 "metadata": {
  "kernelspec": {
   "display_name": "Python 3",
   "language": "python",
   "name": "python3"
  },
  "language_info": {
   "codemirror_mode": {
    "name": "ipython",
    "version": 3
   },
   "file_extension": ".py",
   "mimetype": "text/x-python",
   "name": "python",
   "nbconvert_exporter": "python",
   "pygments_lexer": "ipython3",
   "version": "3.11.5"
  }
 },
 "nbformat": 4,
 "nbformat_minor": 2
}
