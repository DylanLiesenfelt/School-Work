{
 "cells": [
  {
   "cell_type": "markdown",
   "metadata": {},
   "source": [
    "Dylan Liesenfelt"
   ]
  },
  {
   "cell_type": "markdown",
   "metadata": {},
   "source": [
    "# Exercise: Defining a Polygon Class\n",
    "\n",
    "Define a Polygon class with attributes for the number of sides (num_sides) and the size of each side (side_length).\n",
    "Implement the \\_\\_init\\_\\_ method to allow for creating instances of a Polygon with specific attributes."
   ]
  },
  {
   "cell_type": "code",
   "execution_count": 5,
   "metadata": {},
   "outputs": [
    {
     "name": "stdout",
     "output_type": "stream",
     "text": [
      "Polygon 1, sides:3, length:1\n",
      "Polygon 2, sides:6, length:3\n"
     ]
    }
   ],
   "source": [
    "class Polygon:\n",
    "    def __init__(self, num_sides, side_lengths):\n",
    "        self.sides = num_sides\n",
    "        self.length = side_lengths\n",
    "\n",
    "p1 = Polygon(3,1)\n",
    "p2 = Polygon(6,3)\n",
    "\n",
    "print(f'Polygon 1, sides:{p1.sides}, length:{p1.length}')\n",
    "print(f'Polygon 2, sides:{p2.sides}, length:{p2.length}')"
   ]
  },
  {
   "cell_type": "markdown",
   "metadata": {},
   "source": [
    "# Exercise: Adding Methods to the Polygon Class\n",
    "\n",
    "Implement an instance method perimeter that calculates the perimeter of the polygon. Also, implement an\n",
    "instance method description that returns a string describing the polygon, including the number of sides and its\n",
    "perimeter."
   ]
  },
  {
   "cell_type": "code",
   "execution_count": 6,
   "metadata": {},
   "outputs": [
    {
     "name": "stdout",
     "output_type": "stream",
     "text": [
      "This Polygon has 4 sides, each of a length of 1, and a perimeter of 4\n"
     ]
    }
   ],
   "source": [
    "class Polygon:\n",
    "    def __init__(self, num_sides, side_lengths):\n",
    "        self.sides = num_sides\n",
    "        self.length = side_lengths\n",
    "\n",
    "    def perimeter(self):\n",
    "        return self.sides * self.length\n",
    "\n",
    "    def description(self):\n",
    "        print(f'This Polygon has {self.sides} sides, each of a length of {self.length}, and a perimeter of {self.perimeter()}')\n",
    "\n",
    "p3 = Polygon(4,1)\n",
    "p3.description()"
   ]
  },
  {
   "cell_type": "markdown",
   "metadata": {},
   "source": [
    "# Exercise: Introducing Class Variables\n",
    "\n",
    "Introduce a class variable polygon_type that describes the type of polygon (e.g., \"Polygon\"). Modify the description\n",
    "method to include the polygon_type in the description."
   ]
  },
  {
   "cell_type": "code",
   "execution_count": 7,
   "metadata": {},
   "outputs": [
    {
     "name": "stdout",
     "output_type": "stream",
     "text": [
      "A Generic with 5 sides, each of a length of 1, and a perimeter of 5\n"
     ]
    }
   ],
   "source": [
    "class Polygon:\n",
    "    polygon_type = 'Generic'\n",
    "\n",
    "    def __init__(self, num_sides, side_lengths):\n",
    "        self.sides = num_sides\n",
    "        self.length = side_lengths\n",
    "\n",
    "    def perimeter(self):\n",
    "        return self.sides * self.length\n",
    "\n",
    "    def description(self):\n",
    "        print(f'A {self.polygon_type} with {self.sides} sides, each of a length of {self.length}, and a perimeter of {self.perimeter()}')\n",
    "\n",
    "p4 = Polygon(5,1)\n",
    "p4.description()"
   ]
  },
  {
   "cell_type": "markdown",
   "metadata": {},
   "source": [
    "# Exercise : Inheritance in Polygons and Polymorphism with \n",
    "\n",
    "For these exercises, let's introduce a Circle class to use pi, and demonstrate polymorphism with an overridden\n",
    "description method in both Triangle and Square classes."
   ]
  },
  {
   "cell_type": "code",
   "execution_count": 8,
   "metadata": {},
   "outputs": [
    {
     "name": "stdout",
     "output_type": "stream",
     "text": [
      "A Triangle with 3 sides, each of length 3, and a perimeter of 9.\n",
      "A Square with 4 sides, each of length 3, a perimeter of 12, and an area of 9.\n",
      "A Circle with a radius of 3, a perimeter (circumference) of 18.84955592153876, and an area of 28.274333882308138.\n"
     ]
    }
   ],
   "source": [
    "import math\n",
    "\n",
    "class Polygon:\n",
    "    polygon_type = \"Generic Polygon\"\n",
    "\n",
    "    def __init__(self, num_sides, side_length):\n",
    "        self.num_sides = num_sides\n",
    "        self.side_length = side_length\n",
    "\n",
    "    def perimeter(self):\n",
    "        return self.num_sides * self.side_length\n",
    "\n",
    "    def description(self):\n",
    "        return f'A {self.polygon_type} with {self.num_sides} sides, each of length {self.side_length}, and a perimeter of {self.perimeter()}.'\n",
    "\n",
    "class Triangle(Polygon):\n",
    "    polygon_type = \"Triangle\"\n",
    "\n",
    "    def __init__(self, side_length):\n",
    "        super().__init__(3, side_length)\n",
    "\n",
    "class Square(Polygon):\n",
    "    polygon_type = \"Square\"\n",
    "\n",
    "    def __init__(self, side_length):\n",
    "        super().__init__(4, side_length)\n",
    "\n",
    "    def area(self):\n",
    "        return self.side_length ** 2\n",
    "\n",
    "    def description(self):\n",
    "        return f'A {self.polygon_type} with {self.num_sides} sides, each of length {self.side_length}, a perimeter of {self.perimeter()}, and an area of {self.area()}.'\n",
    "\n",
    "class Circle(Polygon):\n",
    "    polygon_type = \"Circle\"\n",
    "\n",
    "    def __init__(self, radius):\n",
    "        self.radius = radius\n",
    "\n",
    "    def perimeter(self):\n",
    "        return 2 * math.pi * self.radius\n",
    "\n",
    "    def area(self):\n",
    "        return math.pi * self.radius ** 2\n",
    "\n",
    "    def description(self):\n",
    "        return f'A {self.polygon_type} with a radius of {self.radius}, a perimeter (circumference) of {self.perimeter()}, and an area of {self.area()}.'\n",
    "\n",
    "p5 = Triangle(3)\n",
    "p6 = Square(3)\n",
    "p7 = Circle(3)\n",
    "print(p5.description())\n",
    "print(p6.description())\n",
    "print(p7.description())\n"
   ]
  },
  {
   "cell_type": "markdown",
   "metadata": {},
   "source": [
    "# Exercise: Integrating Learned Concepts\n",
    "\n",
    "Create a class called GeometryLibrary with methods to list, add and remove polygons."
   ]
  },
  {
   "cell_type": "code",
   "execution_count": 9,
   "metadata": {},
   "outputs": [
    {
     "name": "stdout",
     "output_type": "stream",
     "text": [
      "A Triangle with 3 sides, each of length 3, and a perimeter of 9.\n",
      "A Square with 4 sides, each of length 4, a perimeter of 16, and an area of 16.\n",
      "A Circle with a radius of 5, a perimeter (circumference) of 31.41592653589793, and an area of 78.53981633974483.\n"
     ]
    }
   ],
   "source": [
    "class GeometryLibrary:\n",
    "    def __init__(self):\n",
    "        self.polygons = []\n",
    "\n",
    "    def add_polygon(self, polygon):\n",
    "        self.polygons.append(polygon)\n",
    "\n",
    "    def remove_polygon(self, polygon):\n",
    "        self.polygons.remove(polygon)\n",
    "\n",
    "    def list_polygons(self):\n",
    "        descriptions = [polygon.description() for polygon in self.polygons]\n",
    "        return '\\n'.join(descriptions)\n",
    "\n",
    "library = GeometryLibrary()\n",
    "triangle = Triangle(3)\n",
    "square = Square(4)\n",
    "circle = Circle(5)\n",
    "library.add_polygon(triangle)\n",
    "library.add_polygon(square)\n",
    "library.add_polygon(circle)\n",
    "print(library.list_polygons())\n"
   ]
  }
 ],
 "metadata": {
  "kernelspec": {
   "display_name": "Python 3",
   "language": "python",
   "name": "python3"
  },
  "language_info": {
   "codemirror_mode": {
    "name": "ipython",
    "version": 3
   },
   "file_extension": ".py",
   "mimetype": "text/x-python",
   "name": "python",
   "nbconvert_exporter": "python",
   "pygments_lexer": "ipython3",
   "version": "3.11.5"
  }
 },
 "nbformat": 4,
 "nbformat_minor": 2
}
