{
 "cells": [
  {
   "cell_type": "markdown",
   "metadata": {},
   "source": [
    "# Lab 1 \n",
    "### Dylan Liesenfelt COP3035"
   ]
  },
  {
   "cell_type": "code",
   "execution_count": 45,
   "metadata": {},
   "outputs": [
    {
     "name": "stdout",
     "output_type": "stream",
     "text": [
      "Hello, Jupyter\n"
     ]
    }
   ],
   "source": [
    "#Introduction to Jupyter Notebooks Objective\n",
    "print(\"Hello, Jupyter\")"
   ]
  },
  {
   "cell_type": "code",
   "execution_count": 46,
   "metadata": {},
   "outputs": [
    {
     "data": {
      "text/plain": [
       "'X'"
      ]
     },
     "execution_count": 46,
     "metadata": {},
     "output_type": "execute_result"
    }
   ],
   "source": [
    "#Variables and Types in Python Objective:\n",
    "x = 5\n",
    "x \n",
    "x = 'X'\n",
    "x"
   ]
  },
  {
   "cell_type": "code",
   "execution_count": 1,
   "metadata": {},
   "outputs": [],
   "source": [
    "#Introduction to Strings in Python Objective:\n",
    "#This is a comment"
   ]
  },
  {
   "cell_type": "markdown",
   "metadata": {},
   "source": [
    "# Title\n",
    "## Subtitle\n",
    "### Sub-subtitle"
   ]
  },
  {
   "cell_type": "code",
   "execution_count": 48,
   "metadata": {},
   "outputs": [
    {
     "name": "stdout",
     "output_type": "stream",
     "text": [
      "T\n",
      "This is\n",
      "THIS IS A STRING\n",
      "This is a string, umm yeah\n",
      " ¯\\_(ツ)_/¯  ¯\\_(ツ)_/¯  ¯\\_(ツ)_/¯  ¯\\_(ツ)_/¯  ¯\\_(ツ)_/¯ \n"
     ]
    }
   ],
   "source": [
    "#String Operations Objective:\n",
    "\n",
    "myString = 'This is a string'\n",
    "print(myString[0])\n",
    "print(myString[0:7])\n",
    "print(myString.upper())\n",
    "print(myString + ', umm yeah')\n",
    "print(' ¯\\_(ツ)_/¯ ' * 5)"
   ]
  },
  {
   "cell_type": "markdown",
   "metadata": {},
   "source": [
    "## Exercises and Examples Objective:"
   ]
  },
  {
   "cell_type": "code",
   "execution_count": 49,
   "metadata": {},
   "outputs": [
    {
     "name": "stdout",
     "output_type": "stream",
     "text": [
      "The sum is:  14\n"
     ]
    }
   ],
   "source": [
    "x = int(input('Enter First Number: '))\n",
    "y = int(input('Enter Second Number: '))\n",
    "sum = x + y\n",
    "print('The sum is: ',  sum)"
   ]
  },
  {
   "cell_type": "code",
   "execution_count": 50,
   "metadata": {},
   "outputs": [
    {
     "data": {
      "text/plain": [
       "4000"
      ]
     },
     "execution_count": 50,
     "metadata": {},
     "output_type": "execute_result"
    }
   ],
   "source": [
    "mass = 10\n",
    "speed = 20\n",
    "energy = mass * (speed * speed)\n",
    "energy "
   ]
  },
  {
   "cell_type": "code",
   "execution_count": 51,
   "metadata": {},
   "outputs": [
    {
     "data": {
      "text/plain": [
       "'This is string'"
      ]
     },
     "execution_count": 51,
     "metadata": {},
     "output_type": "execute_result"
    }
   ],
   "source": [
    "myString = 'This is a really big string wow look at this string it is truly a marvelous string'\n",
    "myString[0:4] + ' ' + myString[5:7] + ' ' + myString[21:27]"
   ]
  },
  {
   "cell_type": "code",
   "execution_count": 52,
   "metadata": {},
   "outputs": [
    {
     "name": "stdout",
     "output_type": "stream",
     "text": [
      "raC ecaR"
     ]
    },
    {
     "data": {
      "text/plain": [
       "'raC ecaR'"
      ]
     },
     "execution_count": 52,
     "metadata": {},
     "output_type": "execute_result"
    }
   ],
   "source": [
    "string = 'Race Car'\n",
    "\n",
    "x = len(string) - 1\n",
    "while x >= 0:\n",
    "    print(string[x], end='')\n",
    "    x -= 1\n",
    "\n",
    "string[::-1]"
   ]
  },
  {
   "cell_type": "code",
   "execution_count": 53,
   "metadata": {},
   "outputs": [
    {
     "name": "stdout",
     "output_type": "stream",
     "text": [
      "     ACCORDING TO ALL KNOWN LAWS OF AVIATION, THERE IS NO WAY A BEE SHOULD BE ABLE TO FLY.\n",
      "     according to all known laws of aviation, there is no way a bee should be able to fly.\n",
      "According to all known laws of aviation, there is no way a bee should be able to fly.\n",
      "64\n",
      "     According to all known laws of aviation, there is no way a pig should be able to fly.\n",
      "['According', 'to', 'all', 'known', 'laws', 'of', 'aviation,', 'there', 'is', 'no', 'way', 'a', 'bee', 'should', 'be', 'able', 'to', 'fly.']\n",
      "bee\n"
     ]
    }
   ],
   "source": [
    "string = '     According to all known laws of aviation, there is no way a bee should be able to fly.' \n",
    "print(string.upper())\n",
    "print(string.lower())\n",
    "print(string.strip())\n",
    "\n",
    "x = string.find('bee')\n",
    "print(x)\n",
    "\n",
    "print(string.replace('bee', 'pig'))\n",
    "\n",
    "y = string.split()\n",
    "print(y)\n",
    "print(y[12])"
   ]
  }
 ],
 "metadata": {
  "kernelspec": {
   "display_name": "Python 3",
   "language": "python",
   "name": "python3"
  },
  "language_info": {
   "codemirror_mode": {
    "name": "ipython",
    "version": 3
   },
   "file_extension": ".py",
   "mimetype": "text/x-python",
   "name": "python",
   "nbconvert_exporter": "python",
   "pygments_lexer": "ipython3",
   "version": "3.11.5"
  }
 },
 "nbformat": 4,
 "nbformat_minor": 2
}
