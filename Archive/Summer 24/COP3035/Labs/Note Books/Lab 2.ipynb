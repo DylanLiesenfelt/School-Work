{
 "cells": [
  {
   "cell_type": "markdown",
   "metadata": {},
   "source": [
    "# LAB 2 \n",
    "Dylan Liesenfelt\n",
    "\n",
    "28 May 2024"
   ]
  },
  {
   "cell_type": "markdown",
   "metadata": {},
   "source": [
    "### Question 1"
   ]
  },
  {
   "cell_type": "code",
   "execution_count": 47,
   "metadata": {},
   "outputs": [
    {
     "name": "stdout",
     "output_type": "stream",
     "text": [
      "$        123.245\n",
      "$========123.245\n",
      "$123.245========\n",
      "****123.245****\n",
      "____123.245____\n"
     ]
    }
   ],
   "source": [
    "number = 123.245345346\n",
    "print(\"${0:>15.3f}\".format(number))\n",
    "print(\"${0:=>15.3f}\".format(number))\n",
    "print(\"${0:=<15.3f}\".format(number))\n",
    "print(\"{0:*^15.3f}\".format(number))\n",
    "print(\"{0:_^15.3f}\".format(number))\n",
    "\n"
   ]
  },
  {
   "cell_type": "markdown",
   "metadata": {},
   "source": [
    "#### Question 2"
   ]
  },
  {
   "cell_type": "code",
   "execution_count": 104,
   "metadata": {},
   "outputs": [
    {
     "name": "stdout",
     "output_type": "stream",
     "text": [
      "That's one giant leap for mankind, one small step for man.\n",
      "That's one giant leap for man, one small step for mankind.\n"
     ]
    }
   ],
   "source": [
    "apollo = 'That\\'s one small step for man, one giant leap for mankind.'\n",
    "\n",
    "mod = apollo[:7] + apollo[31:57] + apollo[29] + apollo[6:29] + apollo[57]\n",
    "print(mod)\n",
    "\n",
    "twist1 = apollo.replace('small step', 'giant leap')\n",
    "twist2 = apollo.replace('giant leap','small step')\n",
    "twist = twist1[:30] + twist2[30:58]\n",
    "print(twist)\n"
   ]
  },
  {
   "cell_type": "markdown",
   "metadata": {},
   "source": [
    "#### Question 3"
   ]
  },
  {
   "cell_type": "code",
   "execution_count": 8,
   "metadata": {},
   "outputs": [
    {
     "name": "stdout",
     "output_type": "stream",
     "text": [
      " 4CC0RD1NG T0 4LL KN0WN L4WS 0F 4V14T10N, TH3R3 1S N0 W4Y 4 B33 SH02LD B3 4BL3 T0 FLY.\n",
      " 1TS W1NGS 4R3 T00 SM4LL T0 G3T 1TS F4T L1TTL3 B0DY 0FF TH3 GR02ND.\n",
      " TH3 B33, 0F C02RS3, FL13S 4NYW4Y B3C42S3 B33S D0N'T C4R3 WH4T H2M4NS TH1NK 1S 1MP0SS1BL3.\n"
     ]
    }
   ],
   "source": [
    "beeMovie = \" According to all known laws of aviation, there is no way a bee should be able to fly.\\n Its wings are too small to get its fat little body off the ground.\\n The bee, of course, flies anyway because bees don't care what humans think is impossible.\"\n",
    "beeMovie = beeMovie.upper().replace('A', '4').replace('E', '3').replace('I', '1').replace('O', '0').replace('U', '2')\n",
    "print(beeMovie)"
   ]
  },
  {
   "cell_type": "markdown",
   "metadata": {},
   "source": [
    "#### Question 4"
   ]
  },
  {
   "cell_type": "code",
   "execution_count": 63,
   "metadata": {},
   "outputs": [
    {
     "name": "stdout",
     "output_type": "stream",
     "text": [
      "====================================================================================================\n",
      "Genre                Title                Director             Studio               Cost                \n",
      "====================================================================================================\n"
     ]
    }
   ],
   "source": [
    "def line():\n",
    "    print('=' * 100)\n",
    "\n",
    "info = ['Genre', 'Title', 'Director', 'Studio', 'Cost']\n",
    "\n",
    "def header():\n",
    "    line()\n",
    "    print(\"{0:<20}\".format(info[0]), \"{0:<20}\".format(info[1]), \"{0:<20}\".format(info[2]), \"{0:<20}\".format(info[3]), \"{0:<20}\".format(info[4]))\n",
    "    line()\n",
    "header()"
   ]
  },
  {
   "cell_type": "markdown",
   "metadata": {},
   "source": [
    "#### Question 5"
   ]
  },
  {
   "cell_type": "code",
   "execution_count": 112,
   "metadata": {},
   "outputs": [
    {
     "name": "stdout",
     "output_type": "stream",
     "text": [
      "===========================================================================================\n",
      "  Genre           Title               Director           Studio         Cost       Year   \n",
      "===========================================================================================\n",
      "--SciFi--- *Starship Troopers** Paul Verhoeven               TriStar $__110.0___    1997   \n",
      "--SciFi--- *******Alien******** Ridley Scott                     Fox $___11.0___    1979   \n",
      "--Comedy-- ***Grandma's Boy**** Nicholaus Gossen      Happy Maddison $___5.0____    2006   \n",
      "--Comedy-- ***Step Brothers**** Adam McKay                  Columbia $___65.0___    2008   \n",
      "--Action-- **The Dark Knight*** Christopher Nolan        Warner Bros $__185.0___    2008   \n"
     ]
    }
   ],
   "source": [
    "def line():\n",
    "    print('=' * 91)\n",
    "\n",
    "def header():\n",
    "    line()\n",
    "    print(\"{0:^10}\".format(info[0]), \"{0:^20}\".format(info[1]), \"{0:^20}\".format(info[2]), \"{0:^15}\".format(info[3]), \"{0:^10}\".format(info[4]), \"{0:^10}\".format(info[5]))\n",
    "    line()\n",
    "\n",
    "info = ['Genre', 'Title', 'Director', 'Studio', 'Cost', 'Year']\n",
    "genres = ['Action', 'Comedy', 'Comedy', 'SciFi', 'SciFi']\n",
    "titles = ['The Dark Knight', 'Step Brothers', 'Grandma\\'s Boy', 'Alien', 'Starship Troopers']\n",
    "directors = ['Christopher Nolan', 'Adam McKay', 'Nicholaus Gossen', 'Ridley Scott', 'Paul Verhoeven']\n",
    "studios = ['Warner Bros', 'Columbia', 'Happy Maddison', 'Fox', 'TriStar']\n",
    "costs = [185, 65, 5, 11, 110]\n",
    "years = ['2008', '2008', '2006', '1979', '1997']\n",
    "\n",
    "\n",
    "header()\n",
    "i = len(titles) - 1\n",
    "while i >= 0:\n",
    "    print(\"{0:-^10}\".format(genres[i]), \"{0:*^20}\".format(titles[i]), \"{0:<20}\".format(directors[i]), \"{0:>15}\".format(studios[i]), \"${0:_^10.1f}\".format(costs[i]), \"{0:^10}\".format(years[i]))\n",
    "    i -= 1"
   ]
  },
  {
   "cell_type": "markdown",
   "metadata": {},
   "source": []
  }
 ],
 "metadata": {
  "kernelspec": {
   "display_name": "Python 3",
   "language": "python",
   "name": "python3"
  },
  "language_info": {
   "codemirror_mode": {
    "name": "ipython",
    "version": 3
   },
   "file_extension": ".py",
   "mimetype": "text/x-python",
   "name": "python",
   "nbconvert_exporter": "python",
   "pygments_lexer": "ipython3",
   "version": "3.11.5"
  }
 },
 "nbformat": 4,
 "nbformat_minor": 2
}
