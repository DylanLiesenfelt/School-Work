{
 "cells": [
  {
   "cell_type": "markdown",
   "metadata": {},
   "source": [
    "Dylan Liesenfelt"
   ]
  },
  {
   "cell_type": "markdown",
   "metadata": {},
   "source": [
    "# Instructions:\n",
    "Select ***ONLY ONE*** of the following exercises and solve it.\n",
    "\n",
    "Submit your code along with explanations and test results that demonstrate the implementation of the\n",
    "required features.\n",
    "\n",
    "Submit a single .pdf document in Canvas with both code and results.\n",
    "\n",
    "Always remember, \"Practice makes perfect!\""
   ]
  },
  {
   "cell_type": "markdown",
   "metadata": {},
   "source": [
    "# Exercise 4: Simple Online Store Inventory\n",
    "Background: Develop a system to manage inventory for an online store.\n",
    "\n",
    "Tasks:\n",
    "* Define a Product class with attributes for the product ID, name, and price.\n",
    "* Define an Inventory class that maintains a list of Product objects.\n",
    "* Implement methods in the Inventory class to add, remove, and search for products within the\n",
    "inventory.\n",
    "* Test the system by creating multiple products and managing them within the inventory system."
   ]
  },
  {
   "cell_type": "code",
   "execution_count": 41,
   "metadata": {},
   "outputs": [],
   "source": [
    "class Product:\n",
    "    # Creating Product class w/ attributes ID, name, and price\n",
    "    def __init__(self, ID, name, price):\n",
    "        self.ID = ID\n",
    "        self.name = name\n",
    "        self.price = price\n",
    "\n",
    "    # Using __repr__ method so object data will be readable instead of showing memory address of object\n",
    "    def __repr__(self):\n",
    "        return f\"Product(ID: '{self.ID}', Name: '{self.name}', Price: {self.price})\"\n",
    "\n",
    "class Inventory:\n",
    "    # Creating Inventory class with a list of 'products' as na attribute\n",
    "    def __init__(self):\n",
    "        self.products = []\n",
    "\n",
    "    # Method to add a product to the Inventory\n",
    "    def addProduct(self, product):\n",
    "        self.products.append(product)\n",
    "        print(f'Added {product} to the Inventory')\n",
    "\n",
    "    # Method to remove a product from the Inventory\n",
    "    def removeProduct(self, ID):\n",
    "        # Searches the products list (Inventory), by product ID\n",
    "        for product in self.products:\n",
    "            if product.ID == ID:\n",
    "                self.products.remove(product)\n",
    "                print(f'Removed {product} from Inventory')\n",
    "                return\n",
    "        print(f'Product ID: {ID} does not exist')\n",
    "\n",
    "    # method to search Inventory tby product ID again but this time returns the intended object\n",
    "    def searchInventory(self, ID):\n",
    "        for product in self.products:\n",
    "            if product.ID == ID:\n",
    "                return product\n",
    "            else:\n",
    "                return print(f'Product ID: {ID} is not in Inventory')\n"
   ]
  },
  {
   "cell_type": "code",
   "execution_count": 43,
   "metadata": {},
   "outputs": [
    {
     "name": "stdout",
     "output_type": "stream",
     "text": [
      "The Inventory should be empty -> [] \n",
      "\n",
      "Added Product(ID: '001', Name: 'Computer', Price: 1500) to the Inventory\n",
      "Added Product(ID: '002', Name: 'Laptop', Price: 800) to the Inventory\n",
      "Added Product(ID: '003', Name: 'TV', Price: 500) to the Inventory\n",
      "Added Product(ID: '004', Name: 'Headphones', Price: 50) to the Inventory\n",
      "Added Product(ID: '005', Name: 'Phone', Price: 400) to the Inventory\n",
      "\n",
      "The Inventory should have stuff in it -> [Product(ID: '001', Name: 'Computer', Price: 1500), Product(ID: '002', Name: 'Laptop', Price: 800), Product(ID: '003', Name: 'TV', Price: 500), Product(ID: '004', Name: 'Headphones', Price: 50), Product(ID: '005', Name: 'Phone', Price: 400)] \n",
      "\n",
      "Removed Product(ID: '003', Name: 'TV', Price: 500) from Inventory\n",
      "The Inventory should have stuff in it -> [Product(ID: '001', Name: 'Computer', Price: 1500), Product(ID: '002', Name: 'Laptop', Price: 800), Product(ID: '004', Name: 'Headphones', Price: 50), Product(ID: '005', Name: 'Phone', Price: 400)] \n",
      "\n",
      "Product(ID: '001', Name: 'Computer', Price: 1500)\n",
      "Product ID: 003 is not in Inventory\n",
      "None\n"
     ]
    }
   ],
   "source": [
    "# Creating the Product objects\n",
    "product1 = Product('001', 'Computer', 1500)\n",
    "product2 = Product('002', 'Laptop', 800)\n",
    "product3 = Product('003', 'TV', 500)\n",
    "product4 = Product('004', 'Headphones', 50)\n",
    "product5 = Product('005', 'Phone', 400)\n",
    "\n",
    "electronicsStoreInventory = Inventory() # Call the inventory and assign it to a var\n",
    "print('The Inventory should be empty ->', electronicsStoreInventory.products, '\\n')\n",
    "\n",
    "# Demonstrating add method\n",
    "electronicsStoreInventory.addProduct(product1)\n",
    "electronicsStoreInventory.addProduct(product2)\n",
    "electronicsStoreInventory.addProduct(product3)\n",
    "electronicsStoreInventory.addProduct(product4)\n",
    "electronicsStoreInventory.addProduct(product5)\n",
    "\n",
    "print('\\nThe Inventory should have stuff in it ->', electronicsStoreInventory.products, '\\n')\n",
    "\n",
    "# Demonstrating remove method\n",
    "electronicsStoreInventory.removeProduct('003') # Removing product w/ the ID of 003\n",
    "print('The Inventory should have stuff in it ->', electronicsStoreInventory.products, '\\n')\n",
    "\n",
    "# Demonstrating search method\n",
    "print(electronicsStoreInventory.searchInventory('001'))\n",
    "print(electronicsStoreInventory.searchInventory('003'))\n",
    "\n",
    "\n"
   ]
  }
 ],
 "metadata": {
  "kernelspec": {
   "display_name": "Python 3",
   "language": "python",
   "name": "python3"
  },
  "language_info": {
   "codemirror_mode": {
    "name": "ipython",
    "version": 3
   },
   "file_extension": ".py",
   "mimetype": "text/x-python",
   "name": "python",
   "nbconvert_exporter": "python",
   "pygments_lexer": "ipython3",
   "version": "3.11.5"
  }
 },
 "nbformat": 4,
 "nbformat_minor": 2
}
