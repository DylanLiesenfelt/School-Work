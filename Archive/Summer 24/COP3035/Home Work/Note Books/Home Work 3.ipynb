{
 "cells": [
  {
   "cell_type": "markdown",
   "metadata": {},
   "source": [
    "Dylan Liesenfelt"
   ]
  },
  {
   "cell_type": "markdown",
   "metadata": {},
   "source": [
    "# Section\n",
    "Select eight exercises from the Appendix."
   ]
  },
  {
   "cell_type": "markdown",
   "metadata": {},
   "source": [
    "* Write down the number and the problem statement.\n",
    "* Provide the code for your solution.\n",
    "* Display the output to verify your solution."
   ]
  },
  {
   "cell_type": "code",
   "execution_count": 71,
   "metadata": {},
   "outputs": [
    {
     "name": "stdout",
     "output_type": "stream",
     "text": [
      "Appendix 1 Output\n",
      "-----------------\n",
      "1\n",
      "2\n",
      "3\n",
      "4\n",
      "5\n",
      "6\n",
      "7\n",
      "8\n",
      "9\n",
      "10\n"
     ]
    }
   ],
   "source": [
    "# Apx 1. Use a loop to print numbers from 1 to 10.\n",
    "print('Appendix 1 Output')\n",
    "print('-'*17)\n",
    "\n",
    "i = 0\n",
    "while i < 10:\n",
    "    i += 1\n",
    "    print(i)"
   ]
  },
  {
   "cell_type": "code",
   "execution_count": 2,
   "metadata": {},
   "outputs": [
    {
     "name": "stdout",
     "output_type": "stream",
     "text": [
      "\n",
      "Appendix 2 Output\n",
      "-----------------\n",
      "[10, 20, 30, 40, 50, 60, 70, 80, 90, 100]\n"
     ]
    }
   ],
   "source": [
    "# Apx 2. Create a list of the first ten natural numbers multiples of 10.\n",
    "print('\\nAppendix 2 Output')\n",
    "print('-'*17)\n",
    "\n",
    "nat10x = []\n",
    "for x in range(1,11):\n",
    "    nat10x.append(x*10)\n",
    "print(nat10x)"
   ]
  },
  {
   "cell_type": "code",
   "execution_count": 79,
   "metadata": {},
   "outputs": [
    {
     "name": "stdout",
     "output_type": "stream",
     "text": [
      "\n",
      "Appendix 3 Output\n",
      "-----------------\n",
      "124\n"
     ]
    }
   ],
   "source": [
    "# Apx 3. Return the largest number from a list.\n",
    "print('\\nAppendix 3 Output')\n",
    "print('-'*17)\n",
    "import random\n",
    "\n",
    "def genRandList(list):\n",
    "    i = 0\n",
    "    while i < 5:\n",
    "        i += 1\n",
    "        list.append(random.randint(1,1000))\n",
    "    return list\n",
    "\n",
    "myList  = []\n",
    "genRandList(myList)\n",
    "\n",
    "myList.sort()\n",
    "print(myList[0])\n"
   ]
  },
  {
   "cell_type": "code",
   "execution_count": 80,
   "metadata": {},
   "outputs": [
    {
     "name": "stdout",
     "output_type": "stream",
     "text": [
      "\n",
      "Appendix 4 Output\n",
      "-----------------\n",
      "898\n"
     ]
    }
   ],
   "source": [
    "# Apx 4. Return the smallest number from a list.\n",
    "print('\\nAppendix 4 Output')\n",
    "print('-'*17)\n",
    "\n",
    "print(myList[-1])"
   ]
  },
  {
   "cell_type": "code",
   "execution_count": 81,
   "metadata": {},
   "outputs": [
    {
     "name": "stdout",
     "output_type": "stream",
     "text": [
      "\n",
      "Appendix 5 Output\n",
      "-----------------\n",
      "Number is Positive,  814\n"
     ]
    }
   ],
   "source": [
    "# Apx 5. Check if a number is positive, negative, or zero.\n",
    "print('\\nAppendix 5 Output')\n",
    "print('-'*17)\n",
    "\n",
    "def getRandomNum():\n",
    "    return random.randint(-1000,1000)\n",
    "num = getRandomNum()\n",
    "\n",
    "if num == 0:\n",
    "    print('Number is Zero, ', num)\n",
    "elif num > 0:\n",
    "    print('Number is Positive, ', num)\n",
    "else:\n",
    "    print('Number is Negative, ', num)"
   ]
  },
  {
   "cell_type": "code",
   "execution_count": 82,
   "metadata": {},
   "outputs": [
    {
     "name": "stdout",
     "output_type": "stream",
     "text": [
      "\n",
      "Appendix 6 Output\n",
      "-----------------\n",
      "['H', 'E', 'L', 'L', 'O', ' ', 'W', 'O', 'R', 'L', 'D', '!']\n"
     ]
    }
   ],
   "source": [
    "# Apx 6. Convert a string into a list of its characters.\n",
    "print('\\nAppendix 6 Output')\n",
    "print('-'*17)\n",
    "\n",
    "myString = 'Hello World!'\n",
    "listOfString = list(myString.upper())\n",
    "print(listOfString)"
   ]
  },
  {
   "cell_type": "code",
   "execution_count": 83,
   "metadata": {},
   "outputs": [
    {
     "name": "stdout",
     "output_type": "stream",
     "text": [
      "\n",
      "Appendix 7 Output\n",
      "-----------------\n",
      "Number to square: 415, squared: 172225\n"
     ]
    }
   ],
   "source": [
    "# Apx 7. Return the square number from a list of numbers.\n",
    "print('\\nAppendix 7 Output')\n",
    "print('-'*17)\n",
    "\n",
    "randInd = random.randint(0, len(myList))\n",
    "numby = myList[randInd]\n",
    "print(f'Number to square: {numby}, squared: {pow(numby,2)}')"
   ]
  },
  {
   "cell_type": "code",
   "execution_count": 84,
   "metadata": {},
   "outputs": [
    {
     "name": "stdout",
     "output_type": "stream",
     "text": [
      "\n",
      "Appendix 8 Output\n",
      "-----------------\n"
     ]
    },
    {
     "data": {
      "text/plain": [
       "'looc si nohtyP'"
      ]
     },
     "execution_count": 84,
     "metadata": {},
     "output_type": "execute_result"
    }
   ],
   "source": [
    "# Apx 8. Reverses a string using a for loop'\n",
    "print('\\nAppendix 8 Output')\n",
    "print('-'*17)\n",
    "\n",
    "pyString = 'Python is cool'\n",
    "newString = ''\n",
    "for x in range(1, len(pyString) + 1):\n",
    "    newString += pyString[-x]\n",
    "newString"
   ]
  },
  {
   "cell_type": "markdown",
   "metadata": {},
   "source": [
    "# Section\n",
    "Select 2 exercises from the Appendix different from section 1."
   ]
  },
  {
   "cell_type": "markdown",
   "metadata": {},
   "source": [
    "* Write down the number and the problem statement.\n",
    "* Provide two different solutions to arrive at the same solution.\n",
    "* Display the output to verify your solution."
   ]
  },
  {
   "cell_type": "code",
   "execution_count": 88,
   "metadata": {},
   "outputs": [
    {
     "name": "stdout",
     "output_type": "stream",
     "text": [
      "Solution 1: [0, 1, 1, 2, 3, 5, 8, 13, 21, 34]\n",
      "Solution 2: [0, 1, 1, 2, 3, 5, 8, 13, 21, 34]\n",
      "Both solutions have the same result!\n"
     ]
    }
   ],
   "source": [
    "#Apx 24. Generate the first 10 Fibonacci numbers using a loop.\n",
    "# Solution 1\n",
    "fibSeq = []\n",
    "count = 0\n",
    "a = 0\n",
    "b = 1\n",
    "while count < 10:\n",
    "    fibSeq.append(a)\n",
    "    oldA = a\n",
    "    a = b\n",
    "    b = b + oldA\n",
    "    count += 1\n",
    "print(f'Solution 1: {fibSeq}')\n",
    "\n",
    "# Solution 2\n",
    "a = 0\n",
    "b = 1\n",
    "newfibSeq = []\n",
    "for x in range(1,11):\n",
    "    newfibSeq.append(a)\n",
    "    a, b = b, a + b\n",
    "print(f'Solution 2: {newfibSeq}')\n",
    "\n",
    "if fibSeq == newfibSeq:\n",
    "    print('Both solutions have the same result!')\n",
    "else:\n",
    "    print('Both are not the same, try again')\n",
    "\n",
    "\n"
   ]
  },
  {
   "cell_type": "code",
   "execution_count": 119,
   "metadata": {},
   "outputs": [
    {
     "name": "stdout",
     "output_type": "stream",
     "text": [
      "Solution 1: All even numbers from random list: [124, 160, 898]\n",
      "Solution 2: All even numbers from random list: [124, 160, 898]\n",
      "The Random List:  [124, 160, 415, 621, 898]\n"
     ]
    }
   ],
   "source": [
    "#Apx 20. From an arbitrary random list of numbers only print the even numbers\n",
    "# Solution 1\n",
    "evens = []\n",
    "count = 0\n",
    "while count < len(myList):\n",
    "    if myList[count] % 2 == 0:\n",
    "        evens.append(myList[count])\n",
    "    count += 1\n",
    "\n",
    "print(f'Solution 1: All even numbers from random list: {evens}')\n",
    "\n",
    "# Solution 2\n",
    "evens.clear()\n",
    "for i in range(len(myList)):\n",
    "    if myList[i] % 2 == 0:\n",
    "        evens.append(myList[i])\n",
    "print(f'Solution 2: All even numbers from random list: {evens}')\n",
    "print(\"The Random List: \", myList)"
   ]
  },
  {
   "cell_type": "markdown",
   "metadata": {},
   "source": [
    "# Section\n",
    "Engage in Peer Learning on Canvas."
   ]
  },
  {
   "cell_type": "markdown",
   "metadata": {},
   "source": [
    "* Create one exercise of your own.\n",
    "* Draft a concise explanation and post it on a discussion forum in Canvas for your classmates to see.\n",
    "* Then copy and paste your post in your homework PDF document to get the credit.\n",
    "* This is a great opportunity to share your creativity and learn from your peers!"
   ]
  },
  {
   "cell_type": "code",
   "execution_count": 3,
   "metadata": {},
   "outputs": [
    {
     "name": "stdout",
     "output_type": "stream",
     "text": [
      "The Julian date for 5/5/2024 is 126\n"
     ]
    }
   ],
   "source": [
    "# My Exercise\n",
    "# Convert a date to a to a julian date.\n",
    "# The julian date calendar is sequential, ex: 06/07/2024 would be Julian date: 159, 01/01/2024 would be JD: 1\n",
    "# Write a program that takes input of month, day, and year as integer values and returns the julian date dont forget to account for leap years.\n",
    "\n",
    "# My Solution\n",
    "month = int(input('Month(1-12): '))\n",
    "day = int(input('Day(1-31): '))\n",
    "year = int(input('Year(>0): '))\n",
    "\n",
    "julianDate = 0\n",
    "calendar = {1:31, 2:28, 3:31, 4:30, 5:31, 6:30, 7:31, 8:31, 9:30, 10:31, 11:30, 12:31}\n",
    "if year % 4 == 0:\n",
    "    calendar = {1:31, 2:29, 3:31, 4:30, 5:31, 6:30, 7:31, 8:31, 9:30, 10:31, 11:30, 12:31}\n",
    "\n",
    "for x in range(1,month):\n",
    "    julianDate += calendar[x]\n",
    "julianDate += day\n",
    "\n",
    "print(f'The Julian date for {month}/{day}/{year} is {julianDate}')"
   ]
  }
 ],
 "metadata": {
  "kernelspec": {
   "display_name": "Python 3",
   "language": "python",
   "name": "python3"
  },
  "language_info": {
   "codemirror_mode": {
    "name": "ipython",
    "version": 3
   },
   "file_extension": ".py",
   "mimetype": "text/x-python",
   "name": "python",
   "nbconvert_exporter": "python",
   "pygments_lexer": "ipython3",
   "version": "3.12.0"
  }
 },
 "nbformat": 4,
 "nbformat_minor": 2
}
