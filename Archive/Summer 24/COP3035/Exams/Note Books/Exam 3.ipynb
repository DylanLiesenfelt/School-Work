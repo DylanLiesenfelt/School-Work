{
 "cells": [
  {
   "cell_type": "markdown",
   "metadata": {},
   "source": [
    "Dylan Liesenfelt\n",
    "\n",
    "Z23688417"
   ]
  },
  {
   "cell_type": "markdown",
   "metadata": {},
   "source": [
    "# Question 1"
   ]
  },
  {
   "cell_type": "code",
   "execution_count": 39,
   "metadata": {},
   "outputs": [
    {
     "name": "stdout",
     "output_type": "stream",
     "text": [
      "Answer A: [0, 1, 4, 9, 16, 25, 36, 49, 64, 81]\n",
      "Answer B: [0, 1, 8, 27, 64, 125, 216, 343, 512, 729, 1000, 1331, 1728, 2197, 2744, 3375, 4096, 4913, 5832, 6859, 8000]\n",
      "111101011011 in binary is equal to 3931 in decimal\n"
     ]
    }
   ],
   "source": [
    "# A) Write code that creates a list of the squares of integers from 0 to 9 using a list comprehension.\n",
    "x = [i*i for i in range(0,10)]\n",
    "print('Answer A:', x)\n",
    "\n",
    "# B) Write code that creates a list of the cubes of even integers from 0 to 20 using a list comprehension.\n",
    "y = [i*i*i for i in range(0,21)]\n",
    "print('Answer B:', y)\n",
    "\n",
    "# Given the following code that converts a number from binary to decimal, create the same output using a list comprehension.\n",
    "num = '111101011011'\n",
    "decimal = sum([int(d) * 2**i for i, d in enumerate(num[::-1])])\n",
    "print(f'{num} in binary is equal to {decimal} in decimal')"
   ]
  },
  {
   "cell_type": "markdown",
   "metadata": {},
   "source": [
    "# Question 2"
   ]
  },
  {
   "cell_type": "code",
   "execution_count": 40,
   "metadata": {},
   "outputs": [
    {
     "name": "stdout",
     "output_type": "stream",
     "text": [
      "Answer: {'A': 3, 'E': 8, 'I': 7, 'O': 4, 'U': 3}\n"
     ]
    }
   ],
   "source": [
    "# Using a dictionary comprehension, count the occurrences of each vowel in the given text. Consider both uppercase and lowercase vowels.\n",
    "text = 'Life is like riding a bicycle. To keep your balance, you must keep moving.'\n",
    "vowels = 'AEIOU'\n",
    "x = {vowel : text.upper().count(vowel) for vowel in vowels}\n",
    "print('Answer:',x)"
   ]
  },
  {
   "cell_type": "markdown",
   "metadata": {},
   "source": [
    "# Question 3"
   ]
  },
  {
   "cell_type": "code",
   "execution_count": 41,
   "metadata": {},
   "outputs": [
    {
     "name": "stdout",
     "output_type": "stream",
     "text": [
      "Original results:  Positive\n",
      "Ternary conversion result: Positive\n"
     ]
    }
   ],
   "source": [
    "# Convert the following conditional structure to a ternary operation. Print and test both versions.\n",
    "\n",
    "num = 7\n",
    "\n",
    "# Given Code\n",
    "if num > 0:\n",
    "    result = \"Positive\"\n",
    "elif num == 0:\n",
    "    result = \"Zero\"\n",
    "else:\n",
    "    result = \"Negative\"\n",
    "print('Original results: ', result)\n",
    "\n",
    "# My Code (Ternary)\n",
    "myResult = 'Positive' if num > 0 else 'Zero' if num == 0 else 'Negative'\n",
    "print('Ternary conversion result:', myResult)"
   ]
  },
  {
   "cell_type": "markdown",
   "metadata": {},
   "source": [
    "# Question 4"
   ]
  },
  {
   "cell_type": "code",
   "execution_count": 42,
   "metadata": {},
   "outputs": [],
   "source": [
    "# Given the following function that returns the list of factors for an integer:\n",
    "n = 100\n",
    "def factors(n):\n",
    "    factors = []\n",
    "    for i in range(1,n+1):\n",
    "        #print(n,i,('Factor' if n%i == 0 else 'Not a factor'))\n",
    "        factors.append(i) if n%i == 0 else None\n",
    "    return factors"
   ]
  },
  {
   "cell_type": "code",
   "execution_count": 43,
   "metadata": {},
   "outputs": [
    {
     "name": "stdout",
     "output_type": "stream",
     "text": [
      "The Number 100 is prime: False\n",
      "Factors: [1, 2, 4, 5, 10, 20, 25, 50, 100]\n",
      "Primes up to 100: [2, 3, 5, 7, 11, 13, 17, 19, 23, 29, 31, 37, 41, 43, 47, 53, 59, 61, 67, 71, 73, 79, 83, 89, 97]\n",
      "Total number of primes up to 100: 25\n"
     ]
    }
   ],
   "source": [
    "# A) Write a function isPrime(n) that returns True or False if the number n is prime, using the factors(n) function. Remember, a number is prime if it has only 2 factors (1 and itself).\n",
    "def isPrime(n):\n",
    "    return len(factors(n)) == 2\n",
    "\n",
    "# B) Write a function primes(n) that returns a list of all the primes up to the number n. Use the isPrime(n) function you defined.\n",
    "def primes(n):\n",
    "    return [i for i in range(2, n+1) if isPrime(i)]\n",
    "\n",
    "# C) Use the functions to return a report\n",
    "print(f'The Number {n} is prime: {isPrime(n)}')\n",
    "print(f'Factors: {factors(n)}')\n",
    "print(f'Primes up to {n}: {primes(n)}')\n",
    "print(f'Total number of primes up to {n}: {len(primes(n))}')"
   ]
  },
  {
   "cell_type": "markdown",
   "metadata": {},
   "source": [
    "# Question 5"
   ]
  },
  {
   "cell_type": "code",
   "execution_count": 56,
   "metadata": {},
   "outputs": [
    {
     "name": "stdout",
     "output_type": "stream",
     "text": [
      "Result A: 625\n",
      "Result B: Hello World\n",
      "Result C: False\n",
      "Result D: nalyD\n"
     ]
    }
   ],
   "source": [
    "# Convert the following functions into lambda expressions. Test both the original and lambda versions and show your results.\n",
    "num, a, str1, str2 = 25, 'Dylan', 'Hello', ' World'\n",
    "\n",
    "# A)\n",
    "square = lambda num: num ** 2\n",
    "print('Result A:', square(num))\n",
    "\n",
    "# B)\n",
    "concatenate = lambda str1, str2: str1 + str2\n",
    "print('Result B:', concatenate(str1, str2))\n",
    "\n",
    "# C)\n",
    "is_even = lambda num: num % 2 == 0\n",
    "print('Result C:', is_even(num))\n",
    "\n",
    "# D)\n",
    "reverse = lambda a : a[::-1]\n",
    "print('Result D:', reverse(a))"
   ]
  },
  {
   "cell_type": "markdown",
   "metadata": {},
   "source": [
    "# Question 6 (Bonus)"
   ]
  },
  {
   "cell_type": "code",
   "execution_count": 58,
   "metadata": {},
   "outputs": [
    {
     "name": "stdout",
     "output_type": "stream",
     "text": [
      "The area of a rectangle of 25 by 16 is 400\n"
     ]
    }
   ],
   "source": [
    "# Write a function to calculate the area of a rectangle given its width and height. Demonstrate how to call the function and display the output.\n",
    "height, width = 25, 16\n",
    "\n",
    "def areaRect(h,w):\n",
    "    return h * w\n",
    "\n",
    "print(f'The area of a rectangle of {height} by {width} is {areaRect(height, width)}')"
   ]
  }
 ],
 "metadata": {
  "kernelspec": {
   "display_name": "Python 3",
   "language": "python",
   "name": "python3"
  },
  "language_info": {
   "codemirror_mode": {
    "name": "ipython",
    "version": 3
   },
   "file_extension": ".py",
   "mimetype": "text/x-python",
   "name": "python",
   "nbconvert_exporter": "python",
   "pygments_lexer": "ipython3",
   "version": "3.11.5"
  }
 },
 "nbformat": 4,
 "nbformat_minor": 2
}
