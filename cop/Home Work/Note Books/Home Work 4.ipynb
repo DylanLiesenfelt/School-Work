{
 "cells": [
  {
   "cell_type": "markdown",
   "metadata": {},
   "source": [
    "Dylan Liesenfelt"
   ]
  },
  {
   "cell_type": "markdown",
   "metadata": {},
   "source": [
    "#  Section: Word Frequencies"
   ]
  },
  {
   "cell_type": "code",
   "execution_count": 115,
   "metadata": {},
   "outputs": [
    {
     "name": "stdout",
     "output_type": "stream",
     "text": [
      "Sorted Top 10 Word Frequencies in Descending Order\n",
      "BARRY          :   611\n",
      "THE            :   603\n",
      "A              :   393\n",
      "AND            :   329\n",
      "TO             :   311\n",
      "YOU            :   276\n",
      "VANESSA        :   246\n",
      "I              :   242\n",
      "IT             :   208\n",
      "IS             :   206\n"
     ]
    }
   ],
   "source": [
    "d = dict()\n",
    "\n",
    "with open('./bee-movie.txt', mode='r') as file:\n",
    "    script = file.read()\n",
    "\n",
    "script = script.upper()\n",
    "\n",
    "remove = '[]();:,.\\n-_=!@#$%&*?/1234567890\"'\n",
    "for c in remove:\n",
    "    script = script.replace(c, ' ')\n",
    "\n",
    "words = script.split()\n",
    "\n",
    "for word in  words:\n",
    "    if word in d:\n",
    "        d[word] += 1\n",
    "    else:\n",
    "        d[word] = 1\n",
    "\n",
    "sort = sorted(d.items(), key=lambda x:x[1])\n",
    "print('Sorted Top 10 Word Frequencies in Descending Order')\n",
    "for count in range(1,11):\n",
    "    print(f'{sort[-count][0]:<15}: {sort[-count][1]:>5}')\n"
   ]
  },
  {
   "cell_type": "markdown",
   "metadata": {},
   "source": [
    "# Section: Shopping List"
   ]
  },
  {
   "cell_type": "code",
   "execution_count": 103,
   "metadata": {},
   "outputs": [
    {
     "name": "stdout",
     "output_type": "stream",
     "text": [
      "Enter your items for the shopping list. Type 'FINISH' to end the list.\n",
      "Your Shopping List: ['Apple', 'Milk', 'Banana', 'Oreos']\n",
      "\n",
      "Enter an item name to check its presence in the shopping list: \n",
      "Oreos is in your shopping list!\n"
     ]
    }
   ],
   "source": [
    "shopping_list = []\n",
    "\n",
    "print(\"Enter your items for the shopping list. Type 'FINISH' to end the list.\")\n",
    "\n",
    "while True:\n",
    "    count = 1\n",
    "    word = input(f\"Enter item {count} for your shopping list: \")\n",
    "    if word not in ['Finish', 'FINISH', 'finish']:\n",
    "        shopping_list.append(word)\n",
    "        count += 1\n",
    "    else:\n",
    "        break\n",
    "\n",
    "print(f'Your Shopping List: {shopping_list}')\n",
    "\n",
    "print('\\nEnter an item name to check its presence in the shopping list: ')\n",
    "word = input()\n",
    "if word in shopping_list:\n",
    "    print(f'{word} is in your shopping list!')\n",
    "else:\n",
    "    print(f'{word} is NOT in your shopping list :(')"
   ]
  }
 ],
 "metadata": {
  "kernelspec": {
   "display_name": "Python 3",
   "language": "python",
   "name": "python3"
  },
  "language_info": {
   "codemirror_mode": {
    "name": "ipython",
    "version": 3
   },
   "file_extension": ".py",
   "mimetype": "text/x-python",
   "name": "python",
   "nbconvert_exporter": "python",
   "pygments_lexer": "ipython3",
   "version": "3.11.5"
  }
 },
 "nbformat": 4,
 "nbformat_minor": 2
}
