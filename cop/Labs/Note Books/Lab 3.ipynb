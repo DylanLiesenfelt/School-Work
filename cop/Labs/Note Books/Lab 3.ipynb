{
 "cells": [
  {
   "cell_type": "markdown",
   "metadata": {},
   "source": [
    " Dylan Liesenfelt\n"
   ]
  },
  {
   "cell_type": "markdown",
   "metadata": {},
   "source": [
    "# Section"
   ]
  },
  {
   "cell_type": "code",
   "execution_count": 3,
   "metadata": {},
   "outputs": [
    {
     "name": "stdout",
     "output_type": "stream",
     "text": [
      "DDDD    Y     Y  L      AAAAAA   N   N\n",
      "D   D    Y   Y   L      A    A   NN  N\n",
      "D    D     Y     L      AAAAAA   N N N\n",
      "D   D      Y     L      A    A   N  NN\n",
      "DDDD       Y     LLLLL  A    A   N   N\n"
     ]
    }
   ],
   "source": [
    "print('DDDD    Y     Y  L      AAAAAA   N   N')\n",
    "print('D   D    Y   Y   L      A    A   NN  N')\n",
    "print('D    D     Y     L      AAAAAA   N N N')\n",
    "print('D   D      Y     L      A    A   N  NN')\n",
    "print('DDDD       Y     LLLLL  A    A   N   N')"
   ]
  },
  {
   "cell_type": "markdown",
   "metadata": {},
   "source": [
    "# Section"
   ]
  },
  {
   "cell_type": "code",
   "execution_count": 4,
   "metadata": {},
   "outputs": [
    {
     "name": "stdout",
     "output_type": "stream",
     "text": [
      "DDDD\n",
      "D   D\n",
      "D    D\n",
      "D   D\n",
      "DDDD\n"
     ]
    }
   ],
   "source": [
    "print('D'*4)\n",
    "print('D'+ ' ' * 3 +'D')\n",
    "print('D'+ ' ' * 4 + 'D')\n",
    "print('D'+ ' ' * 3 +'D')\n",
    "print('D'*4)"
   ]
  },
  {
   "cell_type": "markdown",
   "metadata": {},
   "source": [
    "# Section"
   ]
  },
  {
   "cell_type": "code",
   "execution_count": 5,
   "metadata": {},
   "outputs": [
    {
     "name": "stdout",
     "output_type": "stream",
     "text": [
      "DDDD\n",
      "D   D\n",
      "D    D\n",
      "D   D\n",
      "DDDD\n"
     ]
    }
   ],
   "source": [
    "n=[' '] + list(\"DYLAN\")\n",
    "print(n[1] * 4)\n",
    "print(n[1] + n[0] * 3 + n[1])\n",
    "print(n[1] + n[0] * 4 + n[1])\n",
    "print(n[1] + n[0] * 3 + n[1])\n",
    "print(n[1] * 4)\n",
    "\n"
   ]
  },
  {
   "cell_type": "markdown",
   "metadata": {},
   "source": [
    "# Section"
   ]
  },
  {
   "cell_type": "code",
   "execution_count": 6,
   "metadata": {},
   "outputs": [],
   "source": [
    "\n",
    "l1 = []\n",
    "l1.append(n[1] * 4 + '\\n')\n",
    "l1.append(n[1] + n[0] * 3 + n[1] + '\\n')\n",
    "l1.append(n[1] + n[0] * 4 + n[1] + '\\n')\n",
    "l1.append(n[1] + n[0] * 3 + n[1] + '\\n')\n",
    "l1.append(n[1] * 4)\n"
   ]
  },
  {
   "cell_type": "code",
   "execution_count": 7,
   "metadata": {},
   "outputs": [
    {
     "name": "stdout",
     "output_type": "stream",
     "text": [
      "DDDD\n",
      "D   D\n",
      "D    D\n",
      "D   D\n",
      "DDDD\n"
     ]
    }
   ],
   "source": [
    "print(''.join(l1))"
   ]
  },
  {
   "cell_type": "markdown",
   "metadata": {},
   "source": [
    "# Section"
   ]
  },
  {
   "cell_type": "code",
   "execution_count": 8,
   "metadata": {},
   "outputs": [
    {
     "name": "stdout",
     "output_type": "stream",
     "text": [
      "DDDD       Y     Y    L          AAAAAAA    NN    N\n",
      "D   DD      Y   Y     L          A     A    N N   N\n",
      "D     D       Y       L          AAAAAAA    N  N  N\n",
      "D   DD        Y       L          A     A    N   N N\n",
      "DDDD          Y       LLLLLLL    A     A    N    NN\n"
     ]
    }
   ],
   "source": [
    "#D\n",
    "d1 = n[1] * 4 + n[0] * 3\n",
    "d2 = n[1] + n[0] * 3 + n[1] * 2 + n[0]\n",
    "d3 = n[1] + n[0] * 5 + n[1]\n",
    "\n",
    "#Y\n",
    "y1 = n[2] + n[0] * 5 + n[2]\n",
    "y2 = n[0] + n[2] + n[0] * 3 + n[2] + n[0]\n",
    "y3 = n[0] * 3 + n[2] + n[0] * 3\n",
    "\n",
    "#L\n",
    "l1 = n[3] + n[0] * 6\n",
    "l2 = n[3] * 7\n",
    "\n",
    "#A\n",
    "a1 = n[4] * 7\n",
    "a2 = n[4] + n[0] * 5 + n[4]\n",
    "\n",
    "#N\n",
    "n1 = n[5] * 2 + n[0] * 4 + n[5]\n",
    "n2 = n[5] + n[0] + n[5] + n[0] * 3 + n[5]\n",
    "n3 = n[5] + n[0] * 2 + n[5] + n[0] * 2 + n[5]\n",
    "n4 = n[5] + n[0] * 3 + n[5] + n[0] + n[5]\n",
    "n5 = n[5] + n[0] * 4 + n[5] * 2\n",
    "\n",
    "\n",
    "#lines\n",
    "line1 = [d1,y1,l1,a1,n1]\n",
    "line2 = [d2,y2,l1,a2,n2]\n",
    "line3 = [d3,y3,l1,a1,n3]\n",
    "line4 = [d2,y3,l1,a2,n4]\n",
    "line5 = [d1,y3,l2,a2,n5]\n",
    "\n",
    "\n",
    "s1 = (n[0]*4).join(line1)\n",
    "s2 = (n[0]*4).join(line2)\n",
    "s3 = (n[0]*4).join(line3)\n",
    "s4 = (n[0]*4).join(line4)\n",
    "s5 = (n[0]*4).join(line5)\n",
    "\n",
    "s = [s1,s2,s3,s4,s5]\n",
    "print('\\n'.join(s))"
   ]
  }
 ],
 "metadata": {
  "kernelspec": {
   "display_name": "Python 3",
   "language": "python",
   "name": "python3"
  },
  "language_info": {
   "codemirror_mode": {
    "name": "ipython",
    "version": 3
   },
   "file_extension": ".py",
   "mimetype": "text/x-python",
   "name": "python",
   "nbconvert_exporter": "python",
   "pygments_lexer": "ipython3",
   "version": "3.11.5"
  }
 },
 "nbformat": 4,
 "nbformat_minor": 2
}
