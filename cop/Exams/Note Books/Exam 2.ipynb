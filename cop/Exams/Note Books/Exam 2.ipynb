{
 "cells": [
  {
   "cell_type": "markdown",
   "metadata": {},
   "source": [
    "$\\title{Exam 2}$"
   ]
  },
  {
   "cell_type": "markdown",
   "metadata": {},
   "source": [
    "Name: Dylan Liesenfelt\n",
    "\n",
    "Z-Number: Z23688417"
   ]
  },
  {
   "cell_type": "markdown",
   "metadata": {},
   "source": []
  },
  {
   "cell_type": "markdown",
   "metadata": {},
   "source": [
    "# Q\n",
    "\n",
    "(20 points) Consider the following code and then answer the following True/False questions:"
   ]
  },
  {
   "cell_type": "code",
   "execution_count": null,
   "metadata": {},
   "outputs": [],
   "source": [
    "# Part 1\n",
    "file = open('example.txt', 'w')\n",
    "file.write('The early bird catches the worm\\n')\n",
    "file.close()\n",
    "\n",
    "# Part 2\n",
    "file = open('example.txt', 'r+')\n",
    "file.write('Actions speak louder than words.')\n",
    "file.close()\n",
    "\n",
    "# Part 3\n",
    "with open('example.txt', 'a+') as file:\n",
    "    for line in file:\n",
    "        print(line, end='')"
   ]
  },
  {
   "cell_type": "markdown",
   "metadata": {},
   "source": [
    "1. (True/False): In Part 1, using open('example.txt', 'w') and writing a string to the file will erase any existing content in 'example.txt' before writing the new string.\n",
    "- TRUE\n",
    "2. (True/False): In Part 2, opening the file in 'r+' mode will append the second quote to the end of the file without overwriting existing content.\n",
    "- FALSE\n",
    "3. (True/False): In Part 3, when the file is opened in 'a+' mode, the file pointer is initially positioned at the end of the file and the for loop will not have any effect.\n",
    "- TRUE\n",
    "4. (True/False): By swapping the modes in Part 2 and Part 3 from 'r+' to 'a+' in Part 2 and using 'r+' in Part 3 for reading, both quotes will be printed.\n",
    "- TRUE\n",
    "5. (True/False): Part 3 is a safe way to open the file since the with statement creates a block that automatically closes the file after the printing operation.\n",
    "- TRUE"
   ]
  },
  {
   "cell_type": "markdown",
   "metadata": {},
   "source": [
    "# Q\n",
    "(20 points) Consider the following code and then answer the question:"
   ]
  },
  {
   "cell_type": "code",
   "execution_count": null,
   "metadata": {},
   "outputs": [],
   "source": [
    "temperature = 68\n",
    "if temperature < 55:\n",
    "    print(\"It's freezing outside.\")\n",
    "elif temperature < 65:\n",
    "    print(\"It's a bit chilly out.\")\n",
    "elif temperature < 75:\n",
    "    print(\"It's a nice day.\")\n",
    "else:\n",
    "    print(\"It's hot outside.\")"
   ]
  },
  {
   "cell_type": "markdown",
   "metadata": {},
   "source": [
    "What message does the code print if the temperature variable is set to 65?\n",
    "\n",
    "1. It's freezing outside.\n",
    "2. It's a bit chilly out.\n",
    "3. It's a nice day.  <=== CORRECT ANSWER\n",
    "4. It's hot outside."
   ]
  },
  {
   "cell_type": "markdown",
   "metadata": {},
   "source": [
    "# Q\n",
    "(20 points)How do you iterate over the second half of a list named data_list using a for loop?"
   ]
  },
  {
   "cell_type": "markdown",
   "metadata": {},
   "source": [
    "1. for item in data_list[len(data_list)//2:]: <=== CORRECT ANSWER\n",
    "2. for item in data_list[:len(data_list)//2]:\n",
    "3. for item in range(len(data_list)//2):\n",
    "4. for item in data_list:\n",
    "if item == data_list[len(data_list)//2]:\n",
    "break"
   ]
  },
  {
   "cell_type": "markdown",
   "metadata": {},
   "source": [
    "# Q\n",
    "(20 points) Explain the purpose of the zip() function in a for loop and illustrate its use with a code example.\n",
    "\n",
    "ANSWER: The \"zip()\" method creates a \"zip\" object by combining two or more iterable objects together (Like teeth of a zipper). This new zip object can then be converted into another iterable collection object like a tuple, list, or dictionary."
   ]
  },
  {
   "cell_type": "code",
   "execution_count": 2,
   "metadata": {},
   "outputs": [
    {
     "name": "stdout",
     "output_type": "stream",
     "text": [
      "((1, 'a'), (2, 'b'), (3, 'c'))\n"
     ]
    }
   ],
   "source": [
    "l1 = [1,2,3]\n",
    "l2 = ['a','b','c']\n",
    "\n",
    "pack = zip(l1,l2)\n",
    "print(tuple(pack))"
   ]
  },
  {
   "cell_type": "markdown",
   "metadata": {},
   "source": [
    "# Q\n",
    "(20 points) Choose and solve ONLY ONE of the following exercises:"
   ]
  },
  {
   "cell_type": "code",
   "execution_count": 1,
   "metadata": {},
   "outputs": [
    {
     "name": "stdout",
     "output_type": "stream",
     "text": [
      "1995 is NOT a leap year.\n",
      "2014 is NOT a leap year.\n",
      "2024 is a leap year.\n",
      "2076 is a leap year.\n"
     ]
    }
   ],
   "source": [
    "# 1. Write code that checks if a given year is a leap year.\n",
    "# Print the result.\n",
    "\n",
    "years = [1995, 2014, 2024, 2076]\n",
    "for year in years:\n",
    "    if year % 4 == 0:\n",
    "        print(f'{year} is a leap year.')\n",
    "    else:\n",
    "        print(f'{year} is NOT a leap year.')"
   ]
  },
  {
   "cell_type": "markdown",
   "metadata": {},
   "source": [
    "# Q\n",
    "BONUS (10 points) Given a list of n tuples, write a Python script that creates a new list where each tuple is inverted. If the original tuple was (a, b), the new tuple should be (b, a). Assume each tuple contains exactly two elements."
   ]
  },
  {
   "cell_type": "code",
   "execution_count": 8,
   "metadata": {},
   "outputs": [
    {
     "name": "stdout",
     "output_type": "stream",
     "text": [
      "[('a', 1), ('b', 2), ('c', 3)]\n"
     ]
    }
   ],
   "source": [
    "ogList = [(1, 'a'), (2, 'b'), (3, 'c')]\n",
    "newList = []\n",
    "for item in ogList:\n",
    "    newList.append(item[::-1])\n",
    "print(newList)"
   ]
  }
 ],
 "metadata": {
  "kernelspec": {
   "display_name": "Python 3",
   "language": "python",
   "name": "python3"
  },
  "language_info": {
   "codemirror_mode": {
    "name": "ipython",
    "version": 3
   },
   "file_extension": ".py",
   "mimetype": "text/x-python",
   "name": "python",
   "nbconvert_exporter": "python",
   "pygments_lexer": "ipython3",
   "version": "3.11.5"
  }
 },
 "nbformat": 4,
 "nbformat_minor": 2
}
