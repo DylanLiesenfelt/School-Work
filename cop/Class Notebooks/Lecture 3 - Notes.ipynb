{
 "cells": [
  {
   "cell_type": "markdown",
   "id": "5b54440c-eac0-46a6-a55f-c666410c2752",
   "metadata": {},
   "source": [
    "# String built in methods"
   ]
  },
  {
   "cell_type": "code",
   "execution_count": 4,
   "id": "d5cd6140-e632-4d24-ab91-89bccfa273ad",
   "metadata": {},
   "outputs": [
    {
     "data": {
      "text/plain": [
       "'This is a text'"
      ]
     },
     "execution_count": 4,
     "metadata": {},
     "output_type": "execute_result"
    }
   ],
   "source": [
    "s = 'This is a text'\n",
    "s"
   ]
  },
  {
   "cell_type": "code",
   "execution_count": 6,
   "id": "883f1ea8-20e1-40a9-b031-91aab329aff2",
   "metadata": {},
   "outputs": [
    {
     "data": {
      "text/plain": [
       "str"
      ]
     },
     "execution_count": 6,
     "metadata": {},
     "output_type": "execute_result"
    }
   ],
   "source": [
    "type(s)"
   ]
  },
  {
   "cell_type": "code",
   "execution_count": 10,
   "id": "6a3d7d6d-3012-4ef5-87e3-c823697c257f",
   "metadata": {},
   "outputs": [
    {
     "data": {
      "text/plain": [
       "'THIS IS A TEXT'"
      ]
     },
     "execution_count": 10,
     "metadata": {},
     "output_type": "execute_result"
    }
   ],
   "source": [
    "t = s.upper()     # Capital letters\n",
    "t"
   ]
  },
  {
   "cell_type": "code",
   "execution_count": 12,
   "id": "70e23990-53a2-489e-b940-213bd3799672",
   "metadata": {},
   "outputs": [
    {
     "data": {
      "text/plain": [
       "'This is a text'"
      ]
     },
     "execution_count": 12,
     "metadata": {},
     "output_type": "execute_result"
    }
   ],
   "source": [
    "s"
   ]
  },
  {
   "cell_type": "code",
   "execution_count": 18,
   "id": "103f158f-f52e-478b-87fc-7bb29d1ce3f5",
   "metadata": {},
   "outputs": [
    {
     "data": {
      "text/plain": [
       "'this is a text'"
      ]
     },
     "execution_count": 18,
     "metadata": {},
     "output_type": "execute_result"
    }
   ],
   "source": [
    "w = t.lower()    # Small letters\n",
    "w"
   ]
  },
  {
   "cell_type": "code",
   "execution_count": 20,
   "id": "6b88a3ca-a8e9-4489-982c-cbf502bef337",
   "metadata": {},
   "outputs": [
    {
     "data": {
      "text/plain": [
       "'This is a text'"
      ]
     },
     "execution_count": 20,
     "metadata": {},
     "output_type": "execute_result"
    }
   ],
   "source": [
    "w.capitalize()"
   ]
  },
  {
   "cell_type": "code",
   "execution_count": 22,
   "id": "9bb0f3e4-b515-46cd-baad-70a647acb850",
   "metadata": {},
   "outputs": [
    {
     "data": {
      "text/plain": [
       "'this is another string'"
      ]
     },
     "execution_count": 22,
     "metadata": {},
     "output_type": "execute_result"
    }
   ],
   "source": [
    "\"           this is another string        \".strip()  # To remove trailing or leading spaces"
   ]
  },
  {
   "cell_type": "code",
   "execution_count": 24,
   "id": "80d70a84-4a42-4453-b7ec-0f77bb631b62",
   "metadata": {},
   "outputs": [
    {
     "data": {
      "text/plain": [
       "['This', ' is a text', ' with some', ' punctuations']"
      ]
     },
     "execution_count": 24,
     "metadata": {},
     "output_type": "execute_result"
    }
   ],
   "source": [
    "s = 'This, is a text, with some, punctuations'\n",
    "s.split(',')      # To split a text into a list"
   ]
  },
  {
   "cell_type": "code",
   "execution_count": 36,
   "id": "23bf590c-2046-42ff-8d9a-76bf51fde274",
   "metadata": {},
   "outputs": [
    {
     "data": {
      "text/plain": [
       "'John Doe, Engineer, $125,000, Service'"
      ]
     },
     "execution_count": 36,
     "metadata": {},
     "output_type": "execute_result"
    }
   ],
   "source": [
    "# .csv     # Comma separeted value\n",
    "s = \"John Doe, Engineer, $125,000, Service\"\n",
    "s"
   ]
  },
  {
   "cell_type": "code",
   "execution_count": 38,
   "id": "ef296d8e-3445-4ef5-b38a-d47f4ee59c51",
   "metadata": {},
   "outputs": [
    {
     "data": {
      "text/plain": [
       "['John Doe', 'Engineer', '$125,000', 'Service']"
      ]
     },
     "execution_count": 38,
     "metadata": {},
     "output_type": "execute_result"
    }
   ],
   "source": [
    "s.split(', ')                # Spliting every time \", \" appers"
   ]
  },
  {
   "cell_type": "code",
   "execution_count": null,
   "id": "a948affc-a108-43f7-97e0-821aeb5edf30",
   "metadata": {},
   "outputs": [],
   "source": [
    "# join() function for Strings"
   ]
  },
  {
   "cell_type": "code",
   "execution_count": null,
   "id": "0153288d-b753-4ee6-8e8f-1d3b54eb711c",
   "metadata": {},
   "outputs": [],
   "source": [
    "# Syntax: <string>.join(<interable>)"
   ]
  },
  {
   "cell_type": "code",
   "execution_count": 42,
   "id": "e3edb3d0-a43b-444b-93e3-c5bdbcb554a0",
   "metadata": {},
   "outputs": [
    {
     "data": {
      "text/plain": [
       "'1*2*3*4*5*6*7*8*9*0'"
      ]
     },
     "execution_count": 42,
     "metadata": {},
     "output_type": "execute_result"
    }
   ],
   "source": [
    "s = \"1234567890\"     # Iterable as a string\n",
    "c = \"*\"              # String\n",
    "c.join(s)"
   ]
  },
  {
   "cell_type": "code",
   "execution_count": 44,
   "id": "a8e6352a-8c6b-4727-a3b7-655c98768709",
   "metadata": {},
   "outputs": [
    {
     "data": {
      "text/plain": [
       "'1234=5678=90'"
      ]
     },
     "execution_count": 44,
     "metadata": {},
     "output_type": "execute_result"
    }
   ],
   "source": [
    "l = ['1234', '5678', '90']     # Iterable\n",
    "c = \"=\"\n",
    "c.join(l)"
   ]
  },
  {
   "cell_type": "code",
   "execution_count": 46,
   "id": "d568b399-6130-4b4c-b2d9-4d4629de4b73",
   "metadata": {},
   "outputs": [
    {
     "data": {
      "text/plain": [
       "'WHellooHellorHellolHellod'"
      ]
     },
     "execution_count": 46,
     "metadata": {},
     "output_type": "execute_result"
    }
   ],
   "source": [
    "\"Hello\".join('World')         # This is misleading"
   ]
  },
  {
   "cell_type": "markdown",
   "id": "683e2a93-f6a7-4115-82c1-f5db00d1e857",
   "metadata": {},
   "source": [
    "# Print formating"
   ]
  },
  {
   "cell_type": "code",
   "execution_count": 55,
   "id": "9b098639-74a1-4682-a194-f3de6c8e2346",
   "metadata": {},
   "outputs": [
    {
     "name": "stdout",
     "output_type": "stream",
     "text": [
      "This is the formated number: !!!!40.123!!!!! \n"
     ]
    }
   ],
   "source": [
    "# Aligment, Padding and Precision\n",
    "\n",
    "n = 40.123456\n",
    "print(\"This is the formated number: {0:!^15.3f} \".format(n))"
   ]
  },
  {
   "cell_type": "code",
   "execution_count": 57,
   "id": "46880887-a475-4d2d-8008-0a9dd2c84a99",
   "metadata": {},
   "outputs": [
    {
     "name": "stdout",
     "output_type": "stream",
     "text": [
      "This is the formated number: 40.123!!!!!!!!! \n"
     ]
    }
   ],
   "source": [
    "print(\"This is the formated number: {0:!<15.3f} \".format(n))"
   ]
  },
  {
   "cell_type": "code",
   "execution_count": 59,
   "id": "c2313b19-b0fa-4028-b61a-eb02b8a780e8",
   "metadata": {},
   "outputs": [
    {
     "name": "stdout",
     "output_type": "stream",
     "text": [
      "This is the formated number: !!!!!!!!!40.123 \n"
     ]
    }
   ],
   "source": [
    "print(\"This is the formated number: {0:!>15.3f} \".format(n))"
   ]
  },
  {
   "cell_type": "code",
   "execution_count": 61,
   "id": "fe7a8b08-cee9-4d65-9115-6fedb6fd67e0",
   "metadata": {},
   "outputs": [
    {
     "name": "stdout",
     "output_type": "stream",
     "text": [
      "This is the formated number: $$$$$$$$$40.123 \n"
     ]
    }
   ],
   "source": [
    "print(\"This is the formated number: {0:$>15.3f} \".format(n))"
   ]
  },
  {
   "cell_type": "code",
   "execution_count": 83,
   "id": "1150ab0b-cb3b-49d8-b221-6b676a0c42d6",
   "metadata": {},
   "outputs": [
    {
     "name": "stdout",
     "output_type": "stream",
     "text": [
      "This is the formated number: $         40.123 \n"
     ]
    }
   ],
   "source": [
    "print(\"This is the formated number: ${0:>15.3f} \".format(n))"
   ]
  },
  {
   "cell_type": "code",
   "execution_count": 79,
   "id": "607d1ca2-c07e-42dc-a37c-631f67217b92",
   "metadata": {},
   "outputs": [
    {
     "name": "stdout",
     "output_type": "stream",
     "text": [
      "This is the formated number: $_____40 \n"
     ]
    }
   ],
   "source": [
    "print(\"This is the formated number: ${0:_>7.0f} \".format(n))"
   ]
  },
  {
   "cell_type": "code",
   "execution_count": 93,
   "id": "57f565ad-0063-4c9b-91ed-6e551ed698ac",
   "metadata": {},
   "outputs": [
    {
     "name": "stdout",
     "output_type": "stream",
     "text": [
      "====40.1\n",
      "40.1----\n",
      "$          40.12\n",
      "@@@40@@@\n"
     ]
    }
   ],
   "source": [
    "#a) ====40.1     \n",
    "#b) 40.1----\n",
    "#c) $           40.12\n",
    "#d) @@@40@@@\n",
    "\n",
    "n = 40.1234567\n",
    "# Solution a)\n",
    "print('{0:=>8.1f}'.format(n))\n",
    "\n",
    "# Solution b)\n",
    "print('{0:-<8.1f}'.format(n))\n",
    "\n",
    "# Solution c)\n",
    "print('${0:>15.2f}'.format(n))\n",
    "\n",
    "# Solution d)\n",
    "print('{0:@^8.0f}'.format(n))"
   ]
  },
  {
   "cell_type": "code",
   "execution_count": null,
   "id": "d4d2472b-22e8-485b-bb24-c15657bf7245",
   "metadata": {},
   "outputs": [],
   "source": []
  }
 ],
 "metadata": {
  "kernelspec": {
   "display_name": "anaconda-2024.02-py310",
   "language": "python",
   "name": "conda-env-anaconda-2024.02-py310-py"
  },
  "language_info": {
   "codemirror_mode": {
    "name": "ipython",
    "version": 3
   },
   "file_extension": ".py",
   "mimetype": "text/x-python",
   "name": "python",
   "nbconvert_exporter": "python",
   "pygments_lexer": "ipython3",
   "version": "3.10.14"
  }
 },
 "nbformat": 4,
 "nbformat_minor": 5
}
