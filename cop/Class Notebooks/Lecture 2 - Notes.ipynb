{
 "cells": [
  {
   "cell_type": "markdown",
   "id": "1a6ce352-9a9a-4ef5-9fef-ad65fdbdabfe",
   "metadata": {},
   "source": [
    "# Dynamic Typing\n",
    "## Python use dynamic typing\n",
    "### Testing"
   ]
  },
  {
   "cell_type": "code",
   "execution_count": 33,
   "id": "fc1001b6-3910-4420-95a8-6c1b80d1350d",
   "metadata": {},
   "outputs": [],
   "source": [
    "x = 10       # x is an integer\n",
    "x = \"hello\"  # now x is a string"
   ]
  },
  {
   "cell_type": "code",
   "execution_count": 9,
   "id": "8328dac6-55cb-4c65-ad88-d9e56f4429af",
   "metadata": {},
   "outputs": [],
   "source": [
    "y = 5          # y is initially an integer\n",
    "y = [1, 2, 3]  # now y is a list"
   ]
  },
  {
   "cell_type": "code",
   "execution_count": 39,
   "id": "9636ca58-4674-44a8-aacf-be8383ecc665",
   "metadata": {},
   "outputs": [
    {
     "data": {
      "text/plain": [
       "'Hello world'"
      ]
     },
     "execution_count": 39,
     "metadata": {},
     "output_type": "execute_result"
    }
   ],
   "source": [
    "z = \"Hello \"\n",
    "z = z + \"world\"  # This will raise a TypeError\n",
    "z"
   ]
  },
  {
   "cell_type": "code",
   "execution_count": 43,
   "id": "c77e8be1-1097-4136-9673-7646432c8ba8",
   "metadata": {},
   "outputs": [
    {
     "data": {
      "text/plain": [
       "list"
      ]
     },
     "execution_count": 43,
     "metadata": {},
     "output_type": "execute_result"
    }
   ],
   "source": [
    "# The type() function\n",
    "type(y)"
   ]
  },
  {
   "cell_type": "markdown",
   "id": "419f17a6-0f65-446c-afc5-72a273e3119a",
   "metadata": {},
   "source": [
    "# Strings"
   ]
  },
  {
   "cell_type": "code",
   "execution_count": 45,
   "id": "dc2de57e-9378-409d-8fc2-5140c29c52b7",
   "metadata": {},
   "outputs": [
    {
     "data": {
      "text/plain": [
       "'This is a string'"
      ]
     },
     "execution_count": 45,
     "metadata": {},
     "output_type": "execute_result"
    }
   ],
   "source": [
    "text = \"This is a string\"\n",
    "text"
   ]
  },
  {
   "cell_type": "code",
   "execution_count": 49,
   "id": "b54ad1c0-39af-430b-aadb-ae083e7d05bb",
   "metadata": {},
   "outputs": [
    {
     "ename": "TypeError",
     "evalue": "'str' object does not support item assignment",
     "output_type": "error",
     "traceback": [
      "\u001b[0;31m---------------------------------------------------------------------------\u001b[0m",
      "\u001b[0;31mTypeError\u001b[0m                                 Traceback (most recent call last)",
      "Cell \u001b[0;32mIn[49], line 1\u001b[0m\n\u001b[0;32m----> 1\u001b[0m text[\u001b[38;5;241m5\u001b[39m] \u001b[38;5;241m=\u001b[39m \u001b[38;5;124m\"\u001b[39m\u001b[38;5;124mI\u001b[39m\u001b[38;5;124m\"\u001b[39m\n",
      "\u001b[0;31mTypeError\u001b[0m: 'str' object does not support item assignment"
     ]
    }
   ],
   "source": [
    "text[5] = \"I\""
   ]
  },
  {
   "cell_type": "code",
   "execution_count": 63,
   "id": "c4da50e5-c5a0-4229-994a-2bb2a6a72143",
   "metadata": {},
   "outputs": [
    {
     "data": {
      "text/plain": [
       "'I am a \"python\" developer'"
      ]
     },
     "execution_count": 63,
     "metadata": {},
     "output_type": "execute_result"
    }
   ],
   "source": [
    "text = \"\"\"This Is a string\"\"\"\n",
    "text = 'I am a \"python\" developer'\n",
    "text"
   ]
  },
  {
   "cell_type": "code",
   "execution_count": 65,
   "id": "3278dcf4-5525-43a9-ae55-c63d4188ec27",
   "metadata": {},
   "outputs": [
    {
     "data": {
      "text/plain": [
       "' This is a multiline \\nstring '"
      ]
     },
     "execution_count": 65,
     "metadata": {},
     "output_type": "execute_result"
    }
   ],
   "source": [
    "text_multiline = \"\"\" This is a multiline \n",
    "string \"\"\"\n",
    "text_multiline"
   ]
  },
  {
   "cell_type": "code",
   "execution_count": 67,
   "id": "b330a6bf-c766-45d6-982e-105478684298",
   "metadata": {},
   "outputs": [
    {
     "data": {
      "text/plain": [
       "str"
      ]
     },
     "execution_count": 67,
     "metadata": {},
     "output_type": "execute_result"
    }
   ],
   "source": [
    "type(text)"
   ]
  },
  {
   "cell_type": "code",
   "execution_count": 75,
   "id": "f8cdfd36-1a92-4f76-8b5e-a2771046df42",
   "metadata": {},
   "outputs": [
    {
     "data": {
      "text/plain": [
       "'Hello World6'"
      ]
     },
     "execution_count": 75,
     "metadata": {},
     "output_type": "execute_result"
    }
   ],
   "source": [
    "greeting = \"Hello\" + \" \" + \"World\" + str(6)\n",
    "greeting"
   ]
  },
  {
   "cell_type": "code",
   "execution_count": 81,
   "id": "5ecbdeb3-fe35-49b2-b45e-107703776410",
   "metadata": {},
   "outputs": [
    {
     "data": {
      "text/plain": [
       "'zzzzzzzzzzzzzzzzzzzz'"
      ]
     },
     "execution_count": 81,
     "metadata": {},
     "output_type": "execute_result"
    }
   ],
   "source": [
    "letter = 'z' \n",
    "letter*20"
   ]
  },
  {
   "cell_type": "code",
   "execution_count": 91,
   "id": "ee25a55c-31bd-4fd7-bd70-b38732575f00",
   "metadata": {},
   "outputs": [
    {
     "name": "stdout",
     "output_type": "stream",
     "text": [
      " Report \n",
      "--------------------------------------------------\n",
      " Results of the computation: \n",
      " $1,000,000\n",
      "--------------------------------------------------\n",
      " Income \tExpenses \tRevenue\n",
      "--------------------------------------------------\n",
      " $5,000 \t$2,000 \t\t$4,000\n"
     ]
    }
   ],
   "source": [
    "print(\" Report \")\n",
    "print(\"-\"*50)\n",
    "print(\" Results of the computation: \\n $1,000,000\" )\n",
    "print(\"-\"*50)\n",
    "print(\" Income \\tExpenses \\tRevenue\")\n",
    "print(\"-\"*50)\n",
    "print(\" $5,000 \\t$2,000 \\t\\t$4,000\")"
   ]
  },
  {
   "cell_type": "code",
   "execution_count": 93,
   "id": "09ac85f0-391e-46bb-b72d-200b7c0dee91",
   "metadata": {},
   "outputs": [
    {
     "data": {
      "text/plain": [
       "'W'"
      ]
     },
     "execution_count": 93,
     "metadata": {},
     "output_type": "execute_result"
    }
   ],
   "source": [
    "#    012345678901  \n",
    "s = \"Hello World\"  \n",
    "s[6]              # String indexing"
   ]
  },
  {
   "cell_type": "code",
   "execution_count": 95,
   "id": "b58237aa-42cc-4cff-83cb-f6053ad5a26e",
   "metadata": {},
   "outputs": [
    {
     "data": {
      "text/plain": [
       "'o'"
      ]
     },
     "execution_count": 95,
     "metadata": {},
     "output_type": "execute_result"
    }
   ],
   "source": [
    "s[4]"
   ]
  },
  {
   "cell_type": "code",
   "execution_count": 97,
   "id": "a6a57db3-d8f8-4482-9912-ec819a995f74",
   "metadata": {},
   "outputs": [
    {
     "data": {
      "text/plain": [
       "'o'"
      ]
     },
     "execution_count": 97,
     "metadata": {},
     "output_type": "execute_result"
    }
   ],
   "source": [
    "s[7]"
   ]
  },
  {
   "cell_type": "code",
   "execution_count": 99,
   "id": "54885802-0f2f-4efb-aa09-b2ceb61b7e11",
   "metadata": {},
   "outputs": [
    {
     "data": {
      "text/plain": [
       "11"
      ]
     },
     "execution_count": 99,
     "metadata": {},
     "output_type": "execute_result"
    }
   ],
   "source": [
    "len(s)"
   ]
  },
  {
   "cell_type": "code",
   "execution_count": 101,
   "id": "6ac009d9-fdc8-41ff-8251-2dac08352d5b",
   "metadata": {},
   "outputs": [
    {
     "data": {
      "text/plain": [
       "'d'"
      ]
     },
     "execution_count": 101,
     "metadata": {},
     "output_type": "execute_result"
    }
   ],
   "source": [
    "s[10]"
   ]
  },
  {
   "cell_type": "code",
   "execution_count": 103,
   "id": "13cb51c4-2cc9-442d-80ed-825cd0823a7a",
   "metadata": {},
   "outputs": [
    {
     "data": {
      "text/plain": [
       "'d'"
      ]
     },
     "execution_count": 103,
     "metadata": {},
     "output_type": "execute_result"
    }
   ],
   "source": [
    "s[-1]"
   ]
  },
  {
   "cell_type": "code",
   "execution_count": 105,
   "id": "e9e043e3-5b33-4cb9-84b2-a2bfd0cc0e13",
   "metadata": {},
   "outputs": [
    {
     "data": {
      "text/plain": [
       "'o'"
      ]
     },
     "execution_count": 105,
     "metadata": {},
     "output_type": "execute_result"
    }
   ],
   "source": [
    "s[-4]"
   ]
  },
  {
   "cell_type": "code",
   "execution_count": 107,
   "id": "5908350b-cfa6-4be1-81f1-737d0bebd69a",
   "metadata": {},
   "outputs": [
    {
     "data": {
      "text/plain": [
       "'Hell'"
      ]
     },
     "execution_count": 107,
     "metadata": {},
     "output_type": "execute_result"
    }
   ],
   "source": [
    "text = \"Hello World\"\n",
    "text[0:4]"
   ]
  },
  {
   "cell_type": "code",
   "execution_count": 109,
   "id": "5f5b8e2d-022c-4f3b-befb-32411e7a80b9",
   "metadata": {},
   "outputs": [
    {
     "data": {
      "text/plain": [
       "'World'"
      ]
     },
     "execution_count": 109,
     "metadata": {},
     "output_type": "execute_result"
    }
   ],
   "source": [
    "text[6:11]"
   ]
  },
  {
   "cell_type": "code",
   "execution_count": 111,
   "id": "cc2afeaf-e235-4b1f-a524-e1c82ce7a747",
   "metadata": {},
   "outputs": [
    {
     "data": {
      "text/plain": [
       "'Hell'"
      ]
     },
     "execution_count": 111,
     "metadata": {},
     "output_type": "execute_result"
    }
   ],
   "source": [
    "text[:4]"
   ]
  },
  {
   "cell_type": "code",
   "execution_count": 113,
   "id": "eef8b87e-3c1f-4241-ad78-47c025052190",
   "metadata": {},
   "outputs": [
    {
     "data": {
      "text/plain": [
       "'World'"
      ]
     },
     "execution_count": 113,
     "metadata": {},
     "output_type": "execute_result"
    }
   ],
   "source": [
    "text[6:]"
   ]
  },
  {
   "cell_type": "code",
   "execution_count": 115,
   "id": "029647fc-46aa-42aa-ae4a-42092006058c",
   "metadata": {},
   "outputs": [
    {
     "data": {
      "text/plain": [
       "'Hello World'"
      ]
     },
     "execution_count": 115,
     "metadata": {},
     "output_type": "execute_result"
    }
   ],
   "source": [
    "text[:]"
   ]
  },
  {
   "cell_type": "code",
   "execution_count": 125,
   "id": "904e33e0-d8e7-4bb4-8e3c-78f53c85aa8c",
   "metadata": {},
   "outputs": [
    {
     "data": {
      "text/plain": [
       "'dlroW olleH'"
      ]
     },
     "execution_count": 125,
     "metadata": {},
     "output_type": "execute_result"
    }
   ],
   "source": [
    "text[::-1]"
   ]
  },
  {
   "cell_type": "code",
   "execution_count": 127,
   "id": "ccb41553-3786-4515-9607-e8a353881319",
   "metadata": {},
   "outputs": [
    {
     "data": {
      "text/plain": [
       "'HloWrd'"
      ]
     },
     "execution_count": 127,
     "metadata": {},
     "output_type": "execute_result"
    }
   ],
   "source": [
    "text[0:11:2]"
   ]
  },
  {
   "cell_type": "code",
   "execution_count": 129,
   "id": "5fb9d674-dc47-44e2-8260-91aefe4c6367",
   "metadata": {},
   "outputs": [
    {
     "data": {
      "text/plain": [
       "'HloWrd'"
      ]
     },
     "execution_count": 129,
     "metadata": {},
     "output_type": "execute_result"
    }
   ],
   "source": [
    "text[::2]"
   ]
  },
  {
   "cell_type": "code",
   "execution_count": 131,
   "id": "d43063fe-f95c-4264-9088-85d2d7b0f832",
   "metadata": {},
   "outputs": [
    {
     "data": {
      "text/plain": [
       "'giant'"
      ]
     },
     "execution_count": 131,
     "metadata": {},
     "output_type": "execute_result"
    }
   ],
   "source": [
    " #         01234567890123456789012345678901234567890123456789\n",
    "message = \"One small step for man, one giant leap for mankind\"\n",
    "message[28:33]"
   ]
  },
  {
   "cell_type": "code",
   "execution_count": 133,
   "id": "83b428dc-35b1-49b9-a51b-5b778b5c75e7",
   "metadata": {},
   "outputs": [
    {
     "data": {
      "text/plain": [
       "50"
      ]
     },
     "execution_count": 133,
     "metadata": {},
     "output_type": "execute_result"
    }
   ],
   "source": [
    "len(message)"
   ]
  },
  {
   "cell_type": "code",
   "execution_count": 135,
   "id": "96f05745-0b0d-4721-b8e2-5789d461c2fc",
   "metadata": {},
   "outputs": [
    {
     "data": {
      "text/plain": [
       "'ONE SMALL STEP FOR MAN, ONE GIANT LEAP FOR MANKIND'"
      ]
     },
     "execution_count": 135,
     "metadata": {},
     "output_type": "execute_result"
    }
   ],
   "source": [
    "message.upper()"
   ]
  },
  {
   "cell_type": "code",
   "execution_count": 137,
   "id": "544c5674-838b-4ecc-9993-7c8e0313733f",
   "metadata": {},
   "outputs": [
    {
     "data": {
      "text/plain": [
       "'one small step for man, one giant leap for mankind'"
      ]
     },
     "execution_count": 137,
     "metadata": {},
     "output_type": "execute_result"
    }
   ],
   "source": [
    "message.lower()"
   ]
  },
  {
   "cell_type": "code",
   "execution_count": 139,
   "id": "9834f6a7-d9df-453c-ada7-6306e4648fe5",
   "metadata": {},
   "outputs": [
    {
     "data": {
      "text/plain": [
       "43"
      ]
     },
     "execution_count": 139,
     "metadata": {},
     "output_type": "execute_result"
    }
   ],
   "source": [
    "text = \"This is a string with spaces               \"\n",
    "len(text)"
   ]
  },
  {
   "cell_type": "code",
   "execution_count": 141,
   "id": "f534c0ed-3455-42bd-9af5-539463b18c99",
   "metadata": {},
   "outputs": [
    {
     "data": {
      "text/plain": [
       "'This is a string with spaces'"
      ]
     },
     "execution_count": 141,
     "metadata": {},
     "output_type": "execute_result"
    }
   ],
   "source": [
    "text.strip()"
   ]
  },
  {
   "cell_type": "code",
   "execution_count": 143,
   "id": "12d79e7d-656d-41df-8d7b-cc275cdbc8e4",
   "metadata": {},
   "outputs": [
    {
     "data": {
      "text/plain": [
       "28"
      ]
     },
     "execution_count": 143,
     "metadata": {},
     "output_type": "execute_result"
    }
   ],
   "source": [
    "len(text.strip())"
   ]
  },
  {
   "cell_type": "code",
   "execution_count": 147,
   "id": "ab5ff39c-6e32-416f-87f4-1d35e72d26e0",
   "metadata": {},
   "outputs": [
    {
     "data": {
      "text/plain": [
       "['One',\n",
       " 'small',\n",
       " 'step',\n",
       " 'for',\n",
       " 'man,',\n",
       " 'one',\n",
       " 'giant',\n",
       " 'leap',\n",
       " 'for',\n",
       " 'mankind']"
      ]
     },
     "execution_count": 147,
     "metadata": {},
     "output_type": "execute_result"
    }
   ],
   "source": [
    "message.split()"
   ]
  },
  {
   "cell_type": "code",
   "execution_count": 149,
   "id": "58fb80ff-e209-4f19-9c0a-da44f159400d",
   "metadata": {},
   "outputs": [
    {
     "data": {
      "text/plain": [
       "['1', '2', '3', '4', '5', '6', '7', '8', '9']"
      ]
     },
     "execution_count": 149,
     "metadata": {},
     "output_type": "execute_result"
    }
   ],
   "source": [
    "text = \"1,2,3,4,5,6,7,8,9\"\n",
    "text.split(',')"
   ]
  },
  {
   "cell_type": "code",
   "execution_count": null,
   "id": "b7ee3a59-468c-4bd8-98e1-31afc4dc3e7f",
   "metadata": {},
   "outputs": [],
   "source": []
  }
 ],
 "metadata": {
  "kernelspec": {
   "display_name": "anaconda-2024.02-py310",
   "language": "python",
   "name": "conda-env-anaconda-2024.02-py310-py"
  },
  "language_info": {
   "codemirror_mode": {
    "name": "ipython",
    "version": 3
   },
   "file_extension": ".py",
   "mimetype": "text/x-python",
   "name": "python",
   "nbconvert_exporter": "python",
   "pygments_lexer": "ipython3",
   "version": "3.10.14"
  }
 },
 "nbformat": 4,
 "nbformat_minor": 5
}
