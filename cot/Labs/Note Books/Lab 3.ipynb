{
 "cells": [
  {
   "cell_type": "markdown",
   "metadata": {},
   "source": [
    "Dylan Liesenfelt\n",
    "\n",
    "# Python and Compound Statements"
   ]
  },
  {
   "cell_type": "markdown",
   "metadata": {},
   "source": [
    "#"
   ]
  },
  {
   "cell_type": "markdown",
   "metadata": {},
   "source": [
    "\n",
    "## Logic Statement in LaTeX\n",
    "$$\n",
    "(p \\rightarrow q) \\land (\\neg r \\lor (q \\leftrightarrow p))\n",
    "$$"
   ]
  },
  {
   "cell_type": "markdown",
   "metadata": {},
   "source": [
    "### Python Logic Statement"
   ]
  },
  {
   "cell_type": "code",
   "execution_count": 1,
   "metadata": {},
   "outputs": [
    {
     "name": "stdout",
     "output_type": "stream",
     "text": [
      "For p = True, q = False, r = True, the result is False\n",
      "For p = True, q = True, r = True, the result is True\n",
      "For p = True, q = True, r = False, the result is True\n",
      "For p = True, q = False, r = True, the result is False\n",
      "For p = True, q = False, r = False, the result is False\n",
      "For p = False, q = True, r = True, the result is False\n",
      "For p = False, q = True, r = False, the result is True\n",
      "For p = False, q = False, r = True, the result is True\n",
      "For p = False, q = False, r = False, the result is True\n"
     ]
    }
   ],
   "source": [
    "# Variables\n",
    "p = True\n",
    "q = False\n",
    "r = True\n",
    "\n",
    "# Logic statement\n",
    "logic_statement = (not p or q) and (not r or (q == p))\n",
    "\n",
    "# Print the result\n",
    "print(f\"For p = {p}, q = {q}, r = {r}, the result is {logic_statement}\")\n",
    "\n",
    "# Test with different values\n",
    "test_cases = [\n",
    "    (True, True, True),\n",
    "    (True, True, False),\n",
    "    (True, False, True),\n",
    "    (True, False, False),\n",
    "    (False, True, True),\n",
    "    (False, True, False),\n",
    "    (False, False, True),\n",
    "    (False, False, False)\n",
    "]\n",
    "\n",
    "for p, q, r in test_cases:\n",
    "    result = (not p or q) and (not r or (q == p))\n",
    "    print(f\"For p = {p}, q = {q}, r = {r}, the result is {result}\")\n"
   ]
  },
  {
   "cell_type": "code",
   "execution_count": 7,
   "metadata": {},
   "outputs": [
    {
     "name": "stdout",
     "output_type": "stream",
     "text": [
      "p \tq \t¬p \t¬p ∨ q \tp → q\n",
      "----------------------------------------\n",
      "True \tTrue \tFalse \tTrue \tTrue\n",
      "True \tFalse \tFalse \tFalse \tFalse\n",
      "False \tTrue \tTrue \tTrue \tTrue\n",
      "False \tFalse \tTrue \tTrue \tTrue\n"
     ]
    }
   ],
   "source": [
    "# Define implies function\n",
    "def implies(p, q):\n",
    "    return not p or q\n",
    "\n",
    "# Columns\n",
    "col1 = 'p'\n",
    "col2 = 'q'\n",
    "col3 = '¬p'\n",
    "col4 = '¬p ∨ q'\n",
    "col5 = 'p → q'\n",
    "print(f'{col1} \\t{col2} \\t{col3} \\t{col4} \\t{col5}')\n",
    "print('-'*40)\n",
    "\n",
    "# Iteration of proposition values\n",
    "for p in [True, False]:\n",
    "    for q in [True, False]:\n",
    "        not_p = not p\n",
    "        not_p_or_q = not_p or q\n",
    "        p_implies_q = implies(p, q)\n",
    "        print(f'{p} \\t{q} \\t{not_p} \\t{not_p_or_q} \\t{p_implies_q}')\n",
    "\n"
   ]
  }
 ],
 "metadata": {
  "kernelspec": {
   "display_name": "Python 3",
   "language": "python",
   "name": "python3"
  },
  "language_info": {
   "codemirror_mode": {
    "name": "ipython",
    "version": 3
   },
   "file_extension": ".py",
   "mimetype": "text/x-python",
   "name": "python",
   "nbconvert_exporter": "python",
   "pygments_lexer": "ipython3",
   "version": "3.11.5"
  }
 },
 "nbformat": 4,
 "nbformat_minor": 2
}
