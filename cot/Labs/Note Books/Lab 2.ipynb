{
 "cells": [
  {
   "cell_type": "markdown",
   "id": "207a3194-6f3e-45b8-8a7b-307e35c6026d",
   "metadata": {},
   "source": [
    "# Lab 2 - Python and Sets\n",
    "### COT2000 - Summer 2024"
   ]
  },
  {
   "cell_type": "markdown",
   "id": "b4da7443-64e6-4938-aafe-27bc28e0dee6",
   "metadata": {},
   "source": [
    "### Introduction to Sets in Python\n",
    "\n",
    "In Python, a set is an unordered collection of unique elements. Sets are defined using curly braces `{}` and can be used to perform various operations like union, intersection, and difference. Sets are useful for membership testing and eliminating duplicate entries. Here is an example of how to create and display a set:\n"
   ]
  },
  {
   "cell_type": "code",
   "execution_count": 6,
   "id": "977bcc1d-deb9-4c4d-acaa-76a2b20e43d6",
   "metadata": {},
   "outputs": [
    {
     "name": "stdout",
     "output_type": "stream",
     "text": [
      "{1, 2, 3, 4, 5}\n",
      "{1, 2, 3, 4, 5, 6, 7, 8, 9}\n"
     ]
    }
   ],
   "source": [
    "my_set = {1, 2, 3, 4, 5}   # This creates a set with elements 1, 2, 3, 4, 5\n",
    "print(my_set)              # Print the set to see its elements\n",
    "\n",
    "# Practice: Try adding more elements to the set and print it again\n",
    "my_set.add(6)\n",
    "my_set.add(7)\n",
    "my_set.add(8)\n",
    "my_set.add(9)\n",
    "print(my_set)"
   ]
  },
  {
   "cell_type": "markdown",
   "id": "f9308a5d-46ee-470c-90fc-b37cab49d974",
   "metadata": {},
   "source": [
    "### Membership Testing\n",
    "\n",
    "Sets in Python are particularly useful for testing membership, i.e., checking whether an element is in a set. This operation is very efficient. Here is an example of how to test if specific elements are present in a set:\n"
   ]
  },
  {
   "cell_type": "code",
   "execution_count": 7,
   "id": "5b487025-40a8-43cb-9269-3ef9fc9d0d71",
   "metadata": {},
   "outputs": [
    {
     "name": "stdout",
     "output_type": "stream",
     "text": [
      "True\n",
      "True\n",
      "True False False\n"
     ]
    }
   ],
   "source": [
    "print(4 in my_set)  # Check if 4 is in the set (Should return True)\n",
    "print(8 in my_set)  # Check if 8 is in the set (Should return False)\n",
    "\n",
    "# Practice: Try checking for other elements\n",
    "print(1 in my_set, 0 in my_set, 10 in my_set)"
   ]
  },
  {
   "cell_type": "markdown",
   "id": "9bf2910a-6fe6-4cf5-ae4f-32a76107f597",
   "metadata": {},
   "source": [
    "### Subset and Superset Operations\n",
    "\n",
    "A set `A` is a subset of set `B` if all elements of `A` are also elements of `B`. Similarly, `B` is a superset of `A`. Python provides methods to check these relationships. Here is how you can check if one set is a subset or a superset of another:\n"
   ]
  },
  {
   "cell_type": "code",
   "execution_count": 8,
   "id": "102c23c0-5e09-4b2d-bf58-eaf7a105eaea",
   "metadata": {},
   "outputs": [
    {
     "name": "stdout",
     "output_type": "stream",
     "text": [
      "True\n",
      "True\n",
      "True True\n"
     ]
    }
   ],
   "source": [
    "subset = {1, 2}                      # Define a subset\n",
    "print(subset.issubset(my_set))       # Check if subset is a subset of my_set (Should return True)\n",
    "print(my_set.issuperset(subset))     # Check if my_set is a superset of subset (Should return True)\n",
    "\n",
    "# Practice: Try defining other subsets and check the relationships\n",
    "sub2 = {2,3}\n",
    "# Example: subset2 = {2, 3}\n",
    "# Then check subset2.issubset(my_set) and my_set.issuperset(subset2)\n",
    "print(sub2.issubset(my_set), my_set.issuperset(sub2))"
   ]
  },
  {
   "cell_type": "markdown",
   "id": "33dbb0a2-7186-4dcb-8898-ad6f2ddadfc4",
   "metadata": {},
   "source": [
    "### Set Operations (Union, Intersection, Difference)\n",
    "\n",
    "Python sets support various mathematical operations such as union, intersection, and difference. The union of two sets is a set containing all unique elements from both sets. The intersection is a set containing only elements that are in both sets. The difference is a set containing elements that are in one set but not in the other. Here is how you can perform these operations:\n"
   ]
  },
  {
   "cell_type": "code",
   "execution_count": 9,
   "id": "2449278b-300c-4b6b-8bd1-bbacde778c95",
   "metadata": {},
   "outputs": [
    {
     "name": "stdout",
     "output_type": "stream",
     "text": [
      "Union: {1, 2, 3, 4, 5, 6, 7, 8, 9}\n",
      "Intersection: {4, 5, 6, 7, 8}\n",
      "Difference: {1, 2, 3, 9}\n",
      "My Union:  {1, 3, 4, 5, 6, 7, 9}\n",
      "My Intersection:  {3}\n",
      "My Difference:  {1, 4, 6}\n"
     ]
    }
   ],
   "source": [
    "another_set = {4, 5, 6, 7, 8}                        # Define another set\n",
    "union_set = my_set.union(another_set)                # Perform union operation\n",
    "intersection_set = my_set.intersection(another_set)  # Perform intersection operation\n",
    "difference_set = my_set.difference(another_set)      # Perform difference operation\n",
    "\n",
    "print(\"Union:\", union_set)                           # Print the union of my_set and another_set\n",
    "print(\"Intersection:\", intersection_set)             # Print the intersection of my_set and another_set\n",
    "print(\"Difference:\", difference_set)                 # Print the difference of my_set and another_set\n",
    "\n",
    "# Practice: Try creating your own sets and perform these operations\n",
    "setX = {1,4,6,3}\n",
    "setY =  {3,7,9,5}\n",
    "# Example: set1 = {1, 2, 3}\n",
    "# Example: set2 = {3, 4, 5}\n",
    "# Then find the union, intersection, and difference of set1 and set2\n",
    "print('My Union: ', setX.union(setY))\n",
    "print('My Intersection: ', setX.intersection(setY))\n",
    "print('My Difference: ', setX.difference(setY))\n"
   ]
  },
  {
   "cell_type": "markdown",
   "id": "7d44dcb4-588a-4a21-acd1-98559f2da152",
   "metadata": {},
   "source": [
    "### Ordered Pairs and Cartesian Products\n",
    "\n",
    "An ordered pair is a pair of elements with the order of the elements being significant. The Cartesian product of two sets is the set of all possible ordered pairs where the first element is from the first set and the second element is from the second set. Here is an example:\n"
   ]
  },
  {
   "cell_type": "code",
   "execution_count": 10,
   "id": "7ea7075f-4296-42ac-9977-62b0e273bae9",
   "metadata": {},
   "outputs": [
    {
     "name": "stdout",
     "output_type": "stream",
     "text": [
      "Cartesian Product: A x B = {(2, 3), (2, 4), (1, 3), (1, 4)}\n",
      "C x D =  {(1, 12), (1, 15), (2, 15), (0, 3), (0, 9), (0, 6), (0, 12), (2, 3), (2, 9), (0, 15), (2, 6), (2, 12), (1, 6), (1, 3), (1, 9)}\n"
     ]
    }
   ],
   "source": [
    "A = {1, 2}  # Define the first set\n",
    "B = {3, 4}  # Define the second set\n",
    "cartesian_product = {(a, b) for a in A for b in B}  # Compute the Cartesian product\n",
    "print(\"Cartesian Product: A x B =\", cartesian_product)  # Print the Cartesian product\n",
    "\n",
    "# Practice: Try defining different sets and compute their Cartesian product\n",
    "C = {0,1,2,}\n",
    "D = {3,6,9,12,15}\n",
    "# Then find the Cartesian product of A and B\n",
    "myCartesian = {(a,b) for a in C for b in D}\n",
    "print('C x D = ', myCartesian)"
   ]
  },
  {
   "cell_type": "markdown",
   "id": "eba3addd-7148-4a1c-ab18-14c7a8e1d3bf",
   "metadata": {},
   "source": [
    "### Cartesian Plane\n",
    "\n",
    "The Cartesian plane is a two-dimensional plane defined by an x-axis and a y-axis. Each point on the plane can be described by an ordered pair `(x, y)`. Here is an example of how to plot points from the Cartesian product on a Cartesian plane using matplotlib:\n"
   ]
  },
  {
   "cell_type": "code",
   "execution_count": 14,
   "id": "d88345fd-afce-4591-83fb-5eed00cb569a",
   "metadata": {},
   "outputs": [
    {
     "data": {
      "image/png": "[encoded data removed]",
      "text/plain": [
       "<Figure size 640x480 with 1 Axes>"
      ]
     },
     "metadata": {},
     "output_type": "display_data"
    },
    {
     "data": {
      "image/png": "[encoded data removed]",
      "text/plain": [
       "<Figure size 640x480 with 1 Axes>"
      ]
     },
     "metadata": {},
     "output_type": "display_data"
    }
   ],
   "source": [
    "import matplotlib.pyplot as plt\n",
    "\n",
    "# Convert the Cartesian product to a list of points\n",
    "points = list(cartesian_product)\n",
    "x_coords = [x for x, y in points]  # Get x-coordinates\n",
    "y_coords = [y for x, y in points]  # Get y-coordinates\n",
    "\n",
    "# Plot the points on the Cartesian plane\n",
    "plt.scatter(x_coords, y_coords)  # Plot the points\n",
    "plt.title(\"Cartesian Plane\")  # Set the title of the plot\n",
    "plt.xlabel(\"X-axis\")  # Set the label for the x-axis\n",
    "plt.ylabel(\"Y-axis\")  # Set the label for the y-axis\n",
    "plt.grid(True)  # Enable grid\n",
    "plt.show()  # Display the plot\n",
    "\n",
    "# Practice: Try plotting the Cartesian product of different sets\n",
    "# Example: Use sets A and B from the previous example\n",
    "myPoints = list(myCartesian)\n",
    "x = [x for x, y in myPoints]\n",
    "y = [y for x, y in myPoints]\n",
    "plt.scatter(x,y)\n",
    "plt.title('My Plane')\n",
    "plt.xlabel('X Axis')\n",
    "plt.ylabel('Y Axis')\n",
    "plt.grid(True)\n",
    "plt.show()\n"
   ]
  },
  {
   "cell_type": "markdown",
   "id": "32121114-08d7-4060-b837-baff62b3732c",
   "metadata": {},
   "source": [
    "### Relations\n",
    "\n",
    "A relation between two sets is a subset of the Cartesian product of those sets. It pairs elements from the first set with elements from the second set. Here is an example of a relation between two sets:\n"
   ]
  },
  {
   "cell_type": "code",
   "execution_count": 12,
   "id": "4371e044-8ea1-43d4-948a-b9331b43df6b",
   "metadata": {},
   "outputs": [
    {
     "name": "stdout",
     "output_type": "stream",
     "text": [
      "Relation R: {(2, 4), (1, 3)}\n",
      "New Relation:  {(2, 3), (1, 4)}\n"
     ]
    }
   ],
   "source": [
    "A = {1, 2}  # Define the first set\n",
    "B = {3, 4}  # Define the second set\n",
    "\n",
    "# Define a relation as a subset of the Cartesian product\n",
    "R = {(1, 3), (2, 4)}\n",
    "print(\"Relation R:\", R)  # Print the relation\n",
    "\n",
    "# Practice: Try defining other relations and print them\n",
    "# Example: R2 = {(1, 4), (2, 3)}\n",
    "R2 = {(1,4), (2,3)}\n",
    "# Then print R2\n",
    "print('New Relation: ', R2)"
   ]
  },
  {
   "cell_type": "markdown",
   "id": "c812d4cc-06e0-4df8-8a76-98d71777b445",
   "metadata": {},
   "source": [
    "### Functions (Mathematical Definition)\n",
    "\n",
    "In mathematics, a function is a special type of relation where each element in the domain is associated with exactly one element in the codomain. Here is how you can define a function in Python and verify its properties:\n"
   ]
  },
  {
   "cell_type": "code",
   "execution_count": 13,
   "id": "f0cfa456-3c55-47fb-b09a-fd36062bb4b6",
   "metadata": {},
   "outputs": [
    {
     "name": "stdout",
     "output_type": "stream",
     "text": [
      "f is a function: True\n",
      "f2 is a function:  False\n"
     ]
    }
   ],
   "source": [
    "def is_function(relation, domain):\n",
    "    # Check if every element in the domain has exactly one pair in the relation\n",
    "    domain_elements = [pair[0] for pair in relation]\n",
    "    return all(domain_elements.count(e) == 1 for e in domain)\n",
    "\n",
    "A = {1, 2}  # Define the domain\n",
    "B = {3, 4}  # Define the codomain\n",
    "\n",
    "# Define a function as a set of ordered pairs\n",
    "f = {(1, 3), (2, 4)}\n",
    "\n",
    "# Check if f is a function\n",
    "print(\"f is a function:\", is_function(f, A))\n",
    "\n",
    "# Practice: Try defining other functions and check their properties\n",
    "f2 = {(1, 3), (1, 4)}\n",
    "# Then check is_function(f2, A)\n",
    "print('f2 is a function: ', is_function(f2,A))\n"
   ]
  }
 ],
 "metadata": {
  "kernelspec": {
   "display_name": "Python 3",
   "language": "python",
   "name": "python3"
  },
  "language_info": {
   "codemirror_mode": {
    "name": "ipython",
    "version": 3
   },
   "file_extension": ".py",
   "mimetype": "text/x-python",
   "name": "python",
   "nbconvert_exporter": "python",
   "pygments_lexer": "ipython3",
   "version": "3.11.7"
  }
 },
 "nbformat": 4,
 "nbformat_minor": 5
}
