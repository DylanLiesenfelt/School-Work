{
 "cells": [
  {
   "cell_type": "markdown",
   "metadata": {},
   "source": [
    "Dylan Liesenfelt"
   ]
  },
  {
   "cell_type": "markdown",
   "metadata": {},
   "source": [
    "# Question\n",
    "Fill in each blank with the word most or least.\n",
    "\n",
    "- (a) A function F is one-to-one if, and only if, each element in the co-\n",
    "domain of F is the image of at one element in the\n",
    "domain of F .\n",
    "\n",
    "- (b) A function F is onto if, and only if, each element in the co-domain of\n",
    "F is the image of at one element in the domain of F ."
   ]
  },
  {
   "cell_type": "markdown",
   "metadata": {},
   "source": [
    "# Question\n",
    "When asked to state the definition of one-to-one, a student replies, ”A\n",
    "function $f$ is one-to-one if, and only if, every element of X is sent by $f$\n",
    "to exactly one element of Y .” Give a counterexample to show that the\n",
    "student’s reply is incorrect."
   ]
  },
  {
   "cell_type": "markdown",
   "metadata": {},
   "source": [
    "# Question\n",
    "Let X = {1, 5, 9} and Y = {3, 4, 7}.\n",
    "\n",
    "- (a) Define f : X → Y by specifying that\n",
    "\n",
    "$f$ (1) = 4,\n",
    "\n",
    "$f$ (5) = 7,\n",
    "\n",
    "$f$ (9) = 4.\n",
    "\n",
    "Is $f$ one-to-one? Is $f$ onto? Explain your answers. \n",
    "\n",
    "- (b) Define g : X $\\rightarrow$ Y by specifying that\n",
    "\n",
    "g(1) = 7,\n",
    "\n",
    "g(5) = 3,\n",
    "\n",
    "g(9) = 4.\n",
    "\n",
    "Is g one-to-one? Is g onto? Explain your answers."
   ]
  },
  {
   "cell_type": "markdown",
   "metadata": {},
   "source": [
    "# Question\n",
    "Let X = {a, b, c, d} and Y = {e, f, g}. Define functions F and G by the\n",
    "arrow diagrams below.\n",
    "\n",
    "- (a) Is F one-to-one? Why or why not? Is it onto? Why or why not?\n",
    "\n",
    "- (b) Is G one-to-one? Why or why not? Is it onto? Why or why not?"
   ]
  },
  {
   "cell_type": "markdown",
   "metadata": {},
   "source": [
    "# Question\n",
    "Let X = {a, b, c} and Y = {w, x, y, z}. Define functions H and K by the\n",
    "arrow diagrams below.\n",
    "\n",
    "- (a) Is H one-to-one? Why or why not? Is it onto? Why or why not?\n",
    "\n",
    "- (b) Is K one-to-one? Why or why not? Is it onto? Why or why not?"
   ]
  },
  {
   "cell_type": "markdown",
   "metadata": {},
   "source": [
    "# Question\n",
    "Let X = {1, 2, 3}, Y = {1, 2, 3, 4}, and Z = {1, 2}.\n",
    "\n",
    "- (a) Define a function Let f : X → Y that is one-to-one but not onto.\n",
    "\n",
    "- (b) Define a function g : X → Z that is onto but not one-to-one.\n",
    "\n",
    "- (c) Define a function h : X → X that is neither one-to-one nor onto.\n",
    "\n",
    "- (d) Define a function k : X → X that is one-to-one and onto but is not\n",
    "the identity function on X."
   ]
  },
  {
   "cell_type": "markdown",
   "metadata": {},
   "source": [
    "# Question\n",
    "\n",
    "- (a) Define g : Z → Z by the rule g(n) = 4n − 5, for all integers n.\n",
    "\n",
    "i. Is g one-to-one? Prove or give a counterexample.\n",
    "\n",
    "ii. Is g onto? Prove or give a counterexample.\n",
    "\n",
    "- (b) Define G : R → R by the rule G(x) = 4x − 5 for all real numbers x.\n",
    "\n",
    "Is G onto? Prove or give a counterexample."
   ]
  },
  {
   "cell_type": "markdown",
   "metadata": {},
   "source": [
    "# Question\n",
    "- (a) Define H : R → R by the rule H(x) = x2, for all real numbers x.\n",
    "\n",
    "i. Is H one-to-one? Prove or give a counterexample.\n",
    "\n",
    "ii. Is H onto? Prove or give a counterexample.\n",
    "\n",
    "- (b) Define K : Rnonneg → Rnonneg by the rule K(x) = x2, for all non-\n",
    "negative real numbers x. Is K onto? Prove or give a counterexample."
   ]
  },
  {
   "cell_type": "markdown",
   "metadata": {},
   "source": [
    "In each of the following a function f is defined on a set of real\n",
    "numbers. Determine whether or not f is one-to-one and justify\n",
    "your answer.\n",
    "\n",
    "# Question\n",
    "$f(x)=\\frac{x+1}{x}$, for all real numbers $x \\neq 0$"
   ]
  },
  {
   "cell_type": "markdown",
   "metadata": {},
   "source": [
    "# Question\n",
    "$f(x)=\\frac{x}{x^2+1}$, for all real numbers $x$"
   ]
  }
 ],
 "metadata": {
  "kernelspec": {
   "display_name": "Python 3",
   "language": "python",
   "name": "python3"
  },
  "language_info": {
   "codemirror_mode": {
    "name": "ipython",
    "version": 3
   },
   "file_extension": ".py",
   "mimetype": "text/x-python",
   "name": "python",
   "nbconvert_exporter": "python",
   "pygments_lexer": "ipython3",
   "version": "3.12.3"
  }
 },
 "nbformat": 4,
 "nbformat_minor": 2
}
