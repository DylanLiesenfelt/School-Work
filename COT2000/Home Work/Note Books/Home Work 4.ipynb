{
 "cells": [
  {
   "cell_type": "markdown",
   "metadata": {},
   "source": [
    "# Questions:\n",
    "\n",
    "Write the first four terms of the sequences defined by the formulas:\n",
    "\n",
    "(a) $$3\n",
    "1\n",
    "​\n",
    " , \n",
    "7\n",
    "4\n",
    "​\n",
    " , \n",
    "4\n",
    "3\n",
    "​\n",
    " , \n",
    "9\n",
    "8\n",
    "​\n",
    "\n",
    "\n",
    "(b) 5\n",
    "3\n",
    "​\n",
    " , \n",
    "3\n",
    "1\n",
    "​\n",
    " , \n",
    "7\n",
    "1\n",
    "​\n",
    " ,0"
   ]
  }
 ],
 "metadata": {
  "language_info": {
   "name": "python"
  }
 },
 "nbformat": 4,
 "nbformat_minor": 2
}
