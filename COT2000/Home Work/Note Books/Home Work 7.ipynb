{
 "cells": [
  {
   "cell_type": "markdown",
   "metadata": {},
   "source": [
    "Dylan Liesenfelt"
   ]
  },
  {
   "cell_type": "markdown",
   "metadata": {},
   "source": [
    "# Graph Theory"
   ]
  },
  {
   "cell_type": "markdown",
   "metadata": {},
   "source": [
    "## \n",
    "\n",
    "Consider a graph G consisting of vertices V = {v1, v2, v3, v4}\n",
    "and edges E = {e1 = (v1, v2), e2 = (v2, v3), e3 = (v3, v1), e4 = (v3, v4)}.\n",
    "\n",
    "(a) Undirected, because there are no indications of a direction for the edges, each edge connects to 2 vertices.\n",
    "\n",
    "(b) \n",
    "\n",
    "\n",
    "\n",
    "(c) v1 = 2, v2 = 2, v3 = 3, v4 =1\n",
    "\n",
    "(d) Yes, there is a path to any of the vertices"
   ]
  },
  {
   "cell_type": "markdown",
   "metadata": {},
   "source": [
    "##\n",
    "\n",
    "Define a multigraph and explain how it differs from a simple\n",
    "graph. Provide an example of a multigraph that includes at least one\n",
    "loop and multiple edges between two vertices. In your example, describe\n",
    "a possible real-world scenario that this multigraph could represent"
   ]
  },
  {
   "cell_type": "markdown",
   "metadata": {},
   "source": [
    "##\n",
    "\n",
    "Given the following list of edges in a directed graph: {(A, B), (B, C), (C, D),\n",
    "(D, A), (B, D), (C, A)},\n",
    "\n",
    "(a)\n",
    "\n",
    "(b)\n",
    "\n",
    "(c)"
   ]
  },
  {
   "cell_type": "markdown",
   "metadata": {},
   "source": [
    "## \n",
    "\n",
    "A tournament graph is a directed graph D on n vertices\n",
    "such that there is exactly one directed edge between each pair of distinct\n",
    "vertices. Consider a tournament graph with 5 vertices.\n",
    "\n",
    "(a)\n",
    "\n",
    "(b)\n",
    "\n",
    "(c)"
   ]
  },
  {
   "cell_type": "markdown",
   "metadata": {},
   "source": [
    "## \n",
    "\n",
    "Analyze the following graphs:\n",
    "- G1 with vertices {a, b, c, d} and edges {(a, b), (b, c), (c, d), (d, a), (a, c)},\n",
    "- G2 with vertices {w, x, y, z} and edges {(w, x), (x, y), (y, z), (z, w), (w, y)}.\n",
    "\n",
    "(a)\n",
    "\n",
    "(b)\n",
    "\n",
    "(i)\n",
    "\n",
    "(ii)\n",
    "\n",
    "(iii)\n"
   ]
  }
 ],
 "metadata": {
  "language_info": {
   "name": "python"
  }
 },
 "nbformat": 4,
 "nbformat_minor": 2
}
