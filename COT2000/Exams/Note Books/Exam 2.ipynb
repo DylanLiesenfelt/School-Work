{
 "cells": [
  {
   "cell_type": "markdown",
   "metadata": {},
   "source": [
    "Name: Dylan Liesenfelt\n",
    "\n",
    "Z-Number: Z23688417"
   ]
  },
  {
   "cell_type": "markdown",
   "metadata": {},
   "source": [
    "# Q 1\n",
    "Construct a truth table for the statement form.\n",
    "\n",
    "$(p \\land r) \\leftrightarrow (q \\land r)$\n",
    "\n",
    "\n",
    "\\begin{array}{|c|c|c|c|c|c|}\n",
    "\\hline\n",
    "p & q & r & p \\land r & q \\land r & (p \\land r) \\leftrightarrow (q \\land r) \\\\\n",
    "\\hline\n",
    "T & T & T & T & T & T \\\\\n",
    "T & T & F & F & F & T \\\\\n",
    "T & F & T & T & F & F \\\\\n",
    "T & F & F & F & F & T \\\\\n",
    "F & T & T & F & T & F \\\\\n",
    "F & T & F & F & F & T \\\\\n",
    "F & F & T & F & F & T \\\\\n",
    "F & F & F & F & F & T \\\\\n",
    "\\hline\n",
    "\\end{array}\n"
   ]
  },
  {
   "cell_type": "markdown",
   "metadata": {},
   "source": [
    "# Q 2\n",
    "In the following exercises:\n",
    "\n",
    "(a) use the logical equivalences p → q ≡ ¬p ∨ q and p ↔ q ≡ (¬p ∨ q) ∧ (¬q ∨ p) to rewrite the given statement forms without using the symbol → or ↔, and\n",
    "\n",
    "(b) use the logical equivalence p ∨ q ≡ ¬(¬p ∧ ¬q) to rewrite each statement form using only ∧ and ¬.\n",
    "\n",
    "p ∨ ¬q → r\n",
    "\n",
    "(a): $\\neg p \\land q \\lor r$\n",
    "\n",
    "(b): $\\neg p \\land \\neg(\\neg q \\land \\neg r)$"
   ]
  },
  {
   "cell_type": "markdown",
   "metadata": {},
   "source": [
    "# Q 3\n",
    "Write negations, contrapositives, converse and inverse for each of the following statements.\n",
    "\n",
    "(Assume that all variables represent fixed quantities or entities, as appropriate.)\n",
    "\n",
    "(a) If P is a triangle, then P is an equilateral triangle.\n",
    "\n",
    "- Negation: P is not an equilateral triangle.\n",
    "\n",
    "- Contrapositive: If P is not an equilateral triangle, then P is not a triangle.\n",
    "\n",
    "- Converse: If P is an equilateral triangle, then P is a triangle.\n",
    "\n",
    "- Inverse: If P is not a triangle, then P is not an equilateral triangle\n",
    "\n",
    "\n",
    "(b) If John is Mike’s brother, then Sarah is his sister and Paul is his cousin.\n",
    "\n",
    "- Negation: John is Mike’s brother, and either Sarah is not his sister or Paul is not his cousin.\n",
    "\n",
    "- Contrapositive: If Sarah is not his sister or Paul is not his cousin, then John is not Mike’s brother.\n",
    "\n",
    "- Converse: If Sarah is his sister and Paul is his cousin, then John is Mike’s brother.\n",
    "\n",
    "- Inverse: If John is not Mike’s brother, then Sarah is not his sister or Paul is not his cousin."
   ]
  },
  {
   "cell_type": "markdown",
   "metadata": {},
   "source": [
    "# Q 4\n",
    "Which argument form exhibits the converse error?\n",
    "\n",
    "(a) If Alice finished her project, then she will present it. Alice presented her project. Therefore, Alice finished\n",
    "her project.\n",
    "\n",
    "(b) If I study, I will pass the exam. If I pass the exam, I will graduate. Therefore, if I study, I will graduate.\n",
    "\n",
    "(c) If either of the numbers is even, then their sum is even. Both numbers are odd. Therefore, their sum is\n",
    "odd.\n",
    "\n",
    "(d) Bob knows Python and Bob knows JavaScript. Therefore, Bob knows JavaScript.\n",
    "\n",
    "ANSWER: (A) exhibits the converse error."
   ]
  },
  {
   "cell_type": "markdown",
   "metadata": {},
   "source": [
    "# Q 5\n",
    "Use truth tables to determine whether the argument forms are valid. Indicate which\n",
    "columns represent the premises and which represent the conclusion, and include a sentence\n",
    "explaining how the truth table supports your answer.\n",
    "\n",
    "Your explanation should show that you\n",
    "understand what it means for a form of argument to be valid or invalid."
   ]
  },
  {
   "cell_type": "markdown",
   "metadata": {},
   "source": [
    "(a) (p ∨ q) → ¬r\n",
    "\n",
    "¬p ∧ q\n",
    "\n",
    "q → p\n",
    "\n",
    "∴ ¬r\n",
    "\n",
    "Truth Table:\n",
    "\\begin{array}{|c|c|c|c|c|c|c|c|c|c|}\n",
    "\\hline\n",
    "p & q & r & \\neg p & p \\lor q & (p \\lor q) \\to \\neg r & \\neg p \\land q & q \\to p & \\neg r \\\\\n",
    "\\hline\n",
    "T & T & T & F & F & F & F & T & F \\\\\n",
    "T & T & F & F & T & T & F & T & T \\\\\n",
    "T & F & T & F & F & F & F & T & F \\\\\n",
    "T & F & F & F & T & T & F & T & T \\\\\n",
    "F & T & T & T & F & F & T & F & F \\\\\n",
    "F & T & F & T & T & T & T & T & T \\\\\n",
    "F & F & T & T & F & T & F & T & F \\\\\n",
    "F & F & F & T & T & T & F & T & T \\\\\n",
    "\\hline\n",
    "\\end{array}\n",
    "\n",
    "- Premises: $(p \\lor q) \\rightarrow \\neg r$, $\\neg p \\land q$, and $q \\rightarrow p$\n",
    "- Conclusion: $\\neg r$\n",
    "\n",
    "- It is valid, in row 6 all premises are true and the conclusion is as well."
   ]
  },
  {
   "cell_type": "markdown",
   "metadata": {},
   "source": [
    "(b) p → q\n",
    "\n",
    "r → q\n",
    "\n",
    "∴ (p ∨ r) → q\n",
    "\n",
    "Truth Table:\n",
    "\n",
    "\\begin{array}{|c|c|c|c|c|c|c|}\n",
    "\\hline\n",
    "p & q & r & p \\to q & r \\to q & p \\lor r & (p \\lor r) \\to q \\\\\n",
    "\\hline\n",
    "T & T & T & T & T & T & T \\\\\n",
    "T & T & F & T & T & T & T \\\\\n",
    "T & F & T & F & F & T & F \\\\\n",
    "T & F & F & F & T & T & F \\\\\n",
    "F & T & T & T & T & T & T \\\\\n",
    "F & T & F & T & T & F & T \\\\\n",
    "F & F & T & T & F & T & F \\\\\n",
    "F & F & F & T & T & F & T \\\\\n",
    "\\hline\n",
    "\\end{array}\n",
    "\n",
    "- Premises: $p \\rightarrow q$ and $r \\rightarrow q $\n",
    "- Conclusion: $(p \\lor r) \\rightarrow q$\n",
    "- Valid, rows 1,2,5 all premises and the conclusion are valid"
   ]
  },
  {
   "cell_type": "markdown",
   "metadata": {},
   "source": [
    "# Q 6\n",
    "Let Q(x) be the predicate “x2 < 2x”.\n",
    "\n",
    "(a) Write Q(1), Q(2), Q(0), Q(−1), and Q(3), and indicate which of these statements are true and which are\n",
    "false.\n",
    "- Q(1) = 1 < 2, TRUE\n",
    "- Q(2) = 4 < 4, FALSE\n",
    "- Q(0) = 0 < 0, FALSE\n",
    "- Q(-1) = 1 < -2, FALSE\n",
    "- Q(3) = 9 < 6, FALSE\n",
    "\n",
    "(b) Find the truth set of Q(x) if the domain of x is R, the set of all real numbers.\n",
    "- $\\{x∈R∣0<x<2\\}$\n",
    "\n",
    "(c) If the domain is the set R+ of all positive real numbers, what is the truth set of Q(x)?\n",
    "- $\\{x∈R^+∣0<x<2\\}$"
   ]
  },
  {
   "cell_type": "markdown",
   "metadata": {},
   "source": [
    "# Q 7\n",
    "Which of the following is the truth set for the predicate R(x) : x2 − 5x + 6 = 0, if the\n",
    "domain is R? Explain.\n",
    "\n",
    "(a) {2, 3}\n",
    "\n",
    "(b) {−2, 3}\n",
    "\n",
    "(c) {3, 4}\n",
    "\n",
    "(d) {1, 6}\n",
    "\n",
    "ANSWER: (A), Because {2,3} are the values of x that fit for the given equation"
   ]
  },
  {
   "cell_type": "markdown",
   "metadata": {},
   "source": [
    "# Q 8\n",
    "Write a formal negation for each of the following statements:\n",
    "\n",
    "(a) ∀ birds x, x can fly.\n",
    "- $∃x \\text(birds),¬Q(x)$\n",
    "\n",
    "(b) ∀ cars c, c has wheels.\n",
    "- $∃c \\text(cars),¬P(c)$\n",
    "\n",
    "(c) ∃ a building b such that b is over 100 stories tall.\n",
    "- $∀b \\text(buildings),¬Q(b)$\n",
    "\n",
    "(d) ∃ a tree t such that t is over 100 years old.\n",
    "- $∀t \\text(trees),¬Q(t)$"
   ]
  },
  {
   "cell_type": "markdown",
   "metadata": {},
   "source": [
    "# Q 9\n",
    "Consider the following definitions: Let D be the set of all students at your school,\n",
    "M (s) represents ”student s is an engineering major,” and S(s) represents ”student s is a physics\n",
    "major.” What is the correct representation of the statement: ”Every engineering major is also\n",
    "a physics major.”?\n",
    "\n",
    "(a) ∀s ∈ D, M (s) ⇒ S(s)\n",
    "\n",
    "(b) ∃s ∈ D, M (s) ∧ ¬S(s)\n",
    "\n",
    "(c) ∀s ∈ D, S(s) ⇒ M (s)\n",
    "\n",
    "(d) ∃s ∈ D, S(s) ∨ M (s)\n",
    "\n",
    "ANSWER: (A)"
   ]
  }
 ],
 "metadata": {
  "language_info": {
   "name": "python"
  }
 },
 "nbformat": 4,
 "nbformat_minor": 2
}
