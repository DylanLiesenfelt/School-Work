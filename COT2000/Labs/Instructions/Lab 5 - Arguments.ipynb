{
 "cells": [
  {
   "cell_type": "markdown",
   "id": "e3f63adb-10ac-4ba2-89b8-25aee3aee4b7",
   "metadata": {},
   "source": [
    "\n",
    "Dylan Liesenfelt"
   ]
  },
  {
   "cell_type": "markdown",
   "id": "2f9428ef",
   "metadata": {},
   "source": [
    "# Consider the following logic argument:\n",
    "##        (a) $ \\sim p \\lor q \\rightarrow r $\n",
    "##        (b) $ s \\lor \\sim q $\n",
    "##        (c) $ \\sim t $\n",
    "##        (d) $ p \\rightarrow t $\n",
    "##        (e) $ \\sim p \\land r \\rightarrow \\sim s $\n",
    "##        (f) $ \\therefore \\sim q $"
   ]
  },
  {
   "cell_type": "markdown",
   "id": "89acd60f-f914-4263-9cc8-42fa28d80344",
   "metadata": {},
   "source": [
    "# 1. Create a truth table and find the critical row\n",
    "# 2. Identify the values for p,q,r,s and t for the argument to be valid\n",
    "# 3. Use valid argument forms to deduce the conclusion from the premises and test each one"
   ]
  },
  {
   "cell_type": "code",
   "execution_count": 2,
   "id": "81353cc5-f0a5-4909-b7af-177204565b10",
   "metadata": {},
   "outputs": [
    {
     "name": "stdout",
     "output_type": "stream",
     "text": [
      "p \tq \tr \ts \tt \t\ta \tb \tc \td \te \tf\n",
      "True \tTrue \tTrue \tTrue \tTrue \t\tFalse \tTrue \tFalse \tTrue \tTrue \tFalse \n",
      "True \tTrue \tTrue \tTrue \tFalse \t\tFalse \tTrue \tTrue \tFalse \tTrue \tFalse \n",
      "True \tTrue \tTrue \tFalse \tTrue \t\tFalse \tFalse \tFalse \tTrue \tTrue \tFalse \n",
      "True \tTrue \tTrue \tFalse \tFalse \t\tFalse \tFalse \tTrue \tFalse \tTrue \tFalse \n",
      "True \tTrue \tFalse \tTrue \tTrue \t\tTrue \tTrue \tFalse \tTrue \tTrue \tFalse \n",
      "True \tTrue \tFalse \tTrue \tFalse \t\tTrue \tTrue \tTrue \tFalse \tTrue \tFalse \n",
      "True \tTrue \tFalse \tFalse \tTrue \t\tTrue \tFalse \tFalse \tTrue \tTrue \tFalse \n",
      "True \tTrue \tFalse \tFalse \tFalse \t\tTrue \tFalse \tTrue \tFalse \tTrue \tFalse \n",
      "True \tFalse \tTrue \tTrue \tTrue \t\tTrue \tTrue \tFalse \tTrue \tTrue \tTrue \n",
      "True \tFalse \tTrue \tTrue \tFalse \t\tTrue \tTrue \tTrue \tFalse \tTrue \tTrue \n",
      "True \tFalse \tTrue \tFalse \tTrue \t\tTrue \tTrue \tFalse \tTrue \tTrue \tTrue \n",
      "True \tFalse \tTrue \tFalse \tFalse \t\tTrue \tTrue \tTrue \tFalse \tTrue \tTrue \n",
      "True \tFalse \tFalse \tTrue \tTrue \t\tTrue \tTrue \tFalse \tTrue \tTrue \tTrue \n",
      "True \tFalse \tFalse \tTrue \tFalse \t\tTrue \tTrue \tTrue \tFalse \tTrue \tTrue \n",
      "True \tFalse \tFalse \tFalse \tTrue \t\tTrue \tTrue \tFalse \tTrue \tTrue \tTrue \n",
      "True \tFalse \tFalse \tFalse \tFalse \t\tTrue \tTrue \tTrue \tFalse \tTrue \tTrue \n",
      "False \tTrue \tTrue \tTrue \tTrue \t\tFalse \tTrue \tFalse \tTrue \tFalse \tFalse \n",
      "False \tTrue \tTrue \tTrue \tFalse \t\tFalse \tTrue \tTrue \tTrue \tFalse \tFalse \n",
      "False \tTrue \tTrue \tFalse \tTrue \t\tFalse \tFalse \tFalse \tTrue \tTrue \tFalse \n",
      "False \tTrue \tTrue \tFalse \tFalse \t\tFalse \tFalse \tTrue \tTrue \tTrue \tFalse \n",
      "False \tTrue \tFalse \tTrue \tTrue \t\tTrue \tTrue \tFalse \tTrue \tTrue \tFalse \n",
      "False \tTrue \tFalse \tTrue \tFalse \t\tTrue \tTrue \tTrue \tTrue \tTrue \tFalse <-critical row\n",
      "False \tTrue \tFalse \tFalse \tTrue \t\tTrue \tFalse \tFalse \tTrue \tTrue \tFalse \n",
      "False \tTrue \tFalse \tFalse \tFalse \t\tTrue \tFalse \tTrue \tTrue \tTrue \tFalse \n",
      "False \tFalse \tTrue \tTrue \tTrue \t\tFalse \tTrue \tFalse \tTrue \tFalse \tTrue \n",
      "False \tFalse \tTrue \tTrue \tFalse \t\tFalse \tTrue \tTrue \tTrue \tFalse \tTrue \n",
      "False \tFalse \tTrue \tFalse \tTrue \t\tFalse \tTrue \tFalse \tTrue \tTrue \tTrue \n",
      "False \tFalse \tTrue \tFalse \tFalse \t\tFalse \tTrue \tTrue \tTrue \tTrue \tTrue \n",
      "False \tFalse \tFalse \tTrue \tTrue \t\tTrue \tTrue \tFalse \tTrue \tTrue \tTrue \n",
      "False \tFalse \tFalse \tTrue \tFalse \t\tTrue \tTrue \tTrue \tTrue \tTrue \tTrue <-critical row\n",
      "False \tFalse \tFalse \tFalse \tTrue \t\tTrue \tTrue \tFalse \tTrue \tTrue \tTrue \n",
      "False \tFalse \tFalse \tFalse \tFalse \t\tTrue \tTrue \tTrue \tTrue \tTrue \tTrue <-critical row\n"
     ]
    }
   ],
   "source": [
    "def implies(p, q):\n",
    "    return not p or q\n",
    "\n",
    "print(f\"{'p'} \\t{'q'} \\t{'r'} \\t{'s'} \\t{'t'} \\t\\t{'a'} \\t{'b'} \\t{'c'} \\t{'d'} \\t{'e'} \\t{'f'}\")\n",
    "for p in [True, False]:\n",
    "    for q in [True, False]:\n",
    "        for r in [True, False]:\n",
    "            for s in [True, False]:\n",
    "                for t in [True, False]:\n",
    "                    a = implies(not p or q, not r)\n",
    "                    b = s or not q\n",
    "                    c = not t\n",
    "                    d = implies(p,t)\n",
    "                    e = implies(not p and r, not s)\n",
    "                    f = not q\n",
    "                    if all([a,b,c,d,e]):\n",
    "                        critical_row = \"<-critical row\"\n",
    "                        #print(f'{p} \\t{q} \\t{r} \\t{s} \\t{t} \\t\\t{a} \\t{b} \\t{c} \\t{d} \\t{e} \\t{f} {critical_row}')\n",
    "                    else:\n",
    "                        critical_row = \"\"\n",
    "                        flag = \" \"\n",
    "                    print(f'{p} \\t{q} \\t{r} \\t{s} \\t{t} \\t\\t{a} \\t{b} \\t{c} \\t{d} \\t{e} \\t{f} {critical_row}')\n"
   ]
  },
  {
   "cell_type": "code",
   "execution_count": 3,
   "id": "5e06c61c-503b-4339-bb18-34eb2f7fe791",
   "metadata": {},
   "outputs": [],
   "source": [
    "p = False # Meaning that the premise (not p) is True\n",
    "q = False # This is the conclusion, (not q) is True\n",
    "r = True  # Meaning that the premise (not r) is True\n",
    "s = False # Meaning that the premise (not s) is True\n",
    "t = False # Meaning that the premise (not t) is True"
   ]
  },
  {
   "cell_type": "code",
   "execution_count": 4,
   "id": "8f2e93a8-805e-405f-ac77-72aa56438232",
   "metadata": {},
   "outputs": [
    {
     "name": "stdout",
     "output_type": "stream",
     "text": [
      "By Modus Tollens\n",
      "True\n",
      "True\n",
      "True\n"
     ]
    }
   ],
   "source": [
    "print(\"By Modus Tollens\")\n",
    "print(implies(p,t))\n",
    "print(not t)\n",
    "print(not p)"
   ]
  },
  {
   "cell_type": "code",
   "execution_count": 5,
   "id": "b96c6d91-f2f8-43a3-9e5f-941d2609a9b4",
   "metadata": {},
   "outputs": [
    {
     "name": "stdout",
     "output_type": "stream",
     "text": [
      "By Generalization\n",
      "True\n",
      "True\n"
     ]
    }
   ],
   "source": [
    "print(\"By Generalization\")\n",
    "print(not p)\n",
    "print(not p or q)"
   ]
  },
  {
   "cell_type": "code",
   "execution_count": 6,
   "id": "b3028052-ce73-4702-b71c-be94aac0eb49",
   "metadata": {},
   "outputs": [
    {
     "name": "stdout",
     "output_type": "stream",
     "text": [
      "By Modus Ponens\n",
      "True\n",
      "True\n",
      "True\n"
     ]
    }
   ],
   "source": [
    "print(\"By Modus Ponens\")\n",
    "print(implies(not p or q,r))\n",
    "print(not p or q)\n",
    "print(r)"
   ]
  },
  {
   "cell_type": "code",
   "execution_count": 7,
   "id": "81d9b316-5bd4-472b-b290-34e1e535a042",
   "metadata": {},
   "outputs": [
    {
     "name": "stdout",
     "output_type": "stream",
     "text": [
      "By Conjuction\n",
      "True\n",
      "True\n",
      "True\n"
     ]
    }
   ],
   "source": [
    "print(\"By Conjuction\")\n",
    "print(r)\n",
    "print(not p)\n",
    "print(not p and r)"
   ]
  },
  {
   "cell_type": "code",
   "execution_count": 8,
   "id": "f6d6a220-44c5-4744-b24e-3b679d033e9a",
   "metadata": {},
   "outputs": [
    {
     "name": "stdout",
     "output_type": "stream",
     "text": [
      "By Modus Ponens\n",
      "True\n",
      "True\n",
      "True\n"
     ]
    }
   ],
   "source": [
    "print(\"By Modus Ponens\")\n",
    "print(implies(not p and r, not s))\n",
    "print(not p and r)\n",
    "print(not s)"
   ]
  },
  {
   "cell_type": "code",
   "execution_count": 9,
   "id": "60457c1a-d500-4495-a472-9ea852242b75",
   "metadata": {},
   "outputs": [
    {
     "name": "stdout",
     "output_type": "stream",
     "text": [
      "By Elimination\n",
      "True\n",
      "True\n",
      "True\n"
     ]
    }
   ],
   "source": [
    "print(\"By Elimination\")\n",
    "print(s or not q)\n",
    "print(not s)\n",
    "print(not q)"
   ]
  }
 ],
 "metadata": {
  "kernelspec": {
   "display_name": "Python 3",
   "language": "python",
   "name": "python3"
  },
  "language_info": {
   "codemirror_mode": {
    "name": "ipython",
    "version": 3
   },
   "file_extension": ".py",
   "mimetype": "text/x-python",
   "name": "python",
   "nbconvert_exporter": "python",
   "pygments_lexer": "ipython3",
   "version": "3.11.5"
  }
 },
 "nbformat": 4,
 "nbformat_minor": 5
}
