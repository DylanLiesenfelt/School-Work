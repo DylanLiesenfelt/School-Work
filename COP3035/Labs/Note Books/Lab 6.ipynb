{
 "cells": [
  {
   "cell_type": "markdown",
   "metadata": {},
   "source": [
    "Dylan Liesenfelt"
   ]
  },
  {
   "cell_type": "markdown",
   "metadata": {},
   "source": [
    "# Exercise:\n",
    "Write code that creates a list of the squares of integers from 0 to 9. Then produce the same output using a list comprehension.\n",
    "\n",
    "Output: [0, 1, 4, 9, 16, 25, 36, 49, 64, 81]"
   ]
  },
  {
   "cell_type": "code",
   "execution_count": 32,
   "metadata": {},
   "outputs": [
    {
     "name": "stdout",
     "output_type": "stream",
     "text": [
      "[0, 1, 4, 9, 16, 25, 36, 49, 64, 81]\n"
     ]
    }
   ],
   "source": [
    "x = [n*n for n in range(0,10)]\n",
    "print(x)"
   ]
  },
  {
   "cell_type": "markdown",
   "metadata": {},
   "source": [
    "# Excercise:\n",
    "Write code that creates a list of odd numbers up to 50. Then, produce the same output using a list \n",
    "comprehension. \n",
    "\n",
    "\n",
    "Output: [1, 3, 5, 7, 9, 11, 13, 15, 17, 19, 21, 23, 25, 27, 29, 31, 33, 35, 37, 39, 41, 43, 45, 47, 49]"
   ]
  },
  {
   "cell_type": "code",
   "execution_count": 33,
   "metadata": {},
   "outputs": [
    {
     "name": "stdout",
     "output_type": "stream",
     "text": [
      "[1, 3, 5, 7, 9, 11, 13, 15, 17, 19, 21, 23, 25, 27, 29, 31, 33, 35, 37, 39, 41, 43, 45, 47, 49]\n"
     ]
    }
   ],
   "source": [
    "x = [n for n in range(1,51) if n % 2]\n",
    "print(x)"
   ]
  },
  {
   "cell_type": "markdown",
   "metadata": {},
   "source": [
    "# Excecise\n",
    "Write code that creates a list of characters from a string. Then, produce the same output using a list \n",
    "comprehension. \n",
    "\n",
    "text = 'Hello World' \n",
    "\n",
    "Output: ['H', 'e', 'l', 'l', 'o', ' ', 'W', 'o', 'r', 'l', 'd']"
   ]
  },
  {
   "cell_type": "code",
   "execution_count": 34,
   "metadata": {},
   "outputs": [
    {
     "name": "stdout",
     "output_type": "stream",
     "text": [
      "['H', 'e', 'l', 'l', 'o', ' ', 'W', 'o', 'r', 'l', 'd']\n"
     ]
    }
   ],
   "source": [
    "text = 'Hello World'\n",
    "x = [letter for letter in text]\n",
    "print(x)"
   ]
  },
  {
   "cell_type": "markdown",
   "metadata": {},
   "source": [
    "# Exercise \n",
    "Convert a list of numbers into a list of tuples by grouping the numbers into pairs.\n",
    "\n",
    "numbers = [20,1,30,2,40,4,50,5,60,2,70,20] \n",
    "\n",
    "Output: [(20, 1), (30, 2), (40, 4), (50, 5), (60, 2), (70, 20)]"
   ]
  },
  {
   "cell_type": "code",
   "execution_count": 35,
   "metadata": {},
   "outputs": [
    {
     "name": "stdout",
     "output_type": "stream",
     "text": [
      "[(20, 1), (30, 2), (40, 4), (50, 5), (60, 2), (70, 20)]\n"
     ]
    }
   ],
   "source": [
    "numbers = (20,1,30,2,40,4,50,5,60,2,70,20)\n",
    "\n",
    "x = [(numbers[i], numbers[i+1]) for i in range(0, len(numbers), 2) ]\n",
    "print(x)\n"
   ]
  },
  {
   "cell_type": "markdown",
   "metadata": {},
   "source": [
    "# Exercise \n",
    "Using a Dictionary Comprehension to Count Vowels. \n",
    "text = 'Life is like riding a bicycle. To keep your balance, you must keep moving.' \n",
    "\n",
    "vowels = 'AEIOU' \n",
    "\n",
    "Output: {'A': 3, 'E': 8, 'I': 7, 'O': 4, 'U': 3}"
   ]
  },
  {
   "cell_type": "code",
   "execution_count": 38,
   "metadata": {},
   "outputs": [
    {
     "name": "stdout",
     "output_type": "stream",
     "text": [
      "{'A': 3, 'E': 8, 'I': 7, 'O': 4, 'U': 3}\n"
     ]
    }
   ],
   "source": [
    "text = 'Life is like riding a bicycle. To keep your balance, you must keep moving.'\n",
    "vowels = 'AEIOU'\n",
    "\n",
    "x = {vowel : text.upper().count(vowel) for vowel in vowels}\n",
    "print(x)"
   ]
  }
 ],
 "metadata": {
  "kernelspec": {
   "display_name": "Python 3",
   "language": "python",
   "name": "python3"
  },
  "language_info": {
   "codemirror_mode": {
    "name": "ipython",
    "version": 3
   },
   "file_extension": ".py",
   "mimetype": "text/x-python",
   "name": "python",
   "nbconvert_exporter": "python",
   "pygments_lexer": "ipython3",
   "version": "3.11.5"
  }
 },
 "nbformat": 4,
 "nbformat_minor": 2
}
