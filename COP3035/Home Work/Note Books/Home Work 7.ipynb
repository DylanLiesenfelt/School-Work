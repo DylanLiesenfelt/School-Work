{
 "cells": [
  {
   "cell_type": "markdown",
   "metadata": {},
   "source": [
    "Dylan Liesenfelt"
   ]
  },
  {
   "cell_type": "markdown",
   "metadata": {},
   "source": [
    "# Exercise 1: Meal and Nutrition Tracker\n",
    "\n",
    "**Objective:** Develop code that allows users to log daily food intake, track nutritional values, and monitor\n",
    "their diet against personal health goals, supporting informed food choices and dietary objectives.\n",
    "\n",
    "**Classes and Components:**"
   ]
  },
  {
   "cell_type": "markdown",
   "metadata": {},
   "source": [
    "## FoodItem\n",
    "**Variables:**\n",
    "\n",
    " name (private), calories (private), proteins (private), carbs (private), fats (private)\n",
    "\n",
    "**Instance Methods:**\n",
    "\n",
    "\\_\\_init\\_\\_(self, name, calories, proteins, carbs, fats): Constructor to initialize a new food item with\n",
    "nutritional info.\n",
    "Getter Methods for each private variable and a display method to print the food item."
   ]
  },
  {
   "cell_type": "code",
   "execution_count": 84,
   "metadata": {},
   "outputs": [],
   "source": [
    "class FoodItem:\n",
    "    def __init__(self,name,calories,proteins,carbs,fats):\n",
    "        self.__name = name\n",
    "        self.__calories = calories\n",
    "        self.__proteins = proteins\n",
    "        self.__carbs = carbs\n",
    "        self.__fats = fats\n",
    "\n",
    "    def getName(self):\n",
    "        return self.__name\n",
    "\n",
    "    def getCalories(self):\n",
    "        return self.__calories\n",
    "\n",
    "    def getProteins(self):\n",
    "        return self.__proteins\n",
    "\n",
    "    def getCrabs(self):\n",
    "        return self.__carbs\n",
    "\n",
    "    def getFats(self):\n",
    "        return self.__fats\n",
    "\n",
    "    def display(self):\n",
    "        print(f'Food Item: {self.__name}, Calories: {self.__calories}, Proteins: {self.__proteins}g, Carbs: {self.__carbs}g, Fat: {self.__fats}g')"
   ]
  },
  {
   "cell_type": "markdown",
   "metadata": {},
   "source": [
    "## DailyLog\n",
    "\n",
    "**Variables:**\n",
    "\n",
    "date (private), food_items (a list of FoodItem instances, private)\n",
    "\n",
    "**Instance Methods:**\n",
    "\n",
    "\\_\\_init\\_\\_(self, date): Constructor to initialize a new daily log.\n",
    "\n",
    "add_food_item: Adds a FoodItem instance to the log.\n",
    "\n",
    "get_total_calories: Calculates total calories consumed on that day.\n",
    "\n",
    "get_total_nutrients: Calculates total proteins, carbs, and fats consumed.\n",
    "\n",
    "display: Print the daily log."
   ]
  },
  {
   "cell_type": "code",
   "execution_count": 85,
   "metadata": {},
   "outputs": [],
   "source": [
    "class DailyLog:\n",
    "    def __init__(self, date):\n",
    "        self.__date = date\n",
    "        self.__food_items = []\n",
    "\n",
    "    def getDate(self):\n",
    "        return self.__date\n",
    "\n",
    "    def add_food_item(self, food_item):\n",
    "        self.__food_items.append(food_item)\n",
    "\n",
    "    def get_total_calories(self):\n",
    "        sum = 0\n",
    "        for item in self.__food_items:\n",
    "            sum += item.getCalories()\n",
    "        return sum\n",
    "\n",
    "    def get_total_nutrients(self):\n",
    "        sumProtein, sumCarb, sumFat, = 0,0,0\n",
    "        for item in self.__food_items:\n",
    "            sumProtein += item.getProteins()\n",
    "            sumCarb += item.getCarbs()\n",
    "            sumFat += item.getFats()\n",
    "        return sumProtein, sumCarb, sumFat\n",
    "\n",
    "    def display(self):\n",
    "        print(f'Daily Log: {self.__date}')\n",
    "        for item in self.__food_items:\n",
    "            item.display()"
   ]
  },
  {
   "cell_type": "markdown",
   "metadata": {},
   "source": [
    "## NutritionProfile:\n",
    "\n",
    "**Variables:**\n",
    "\n",
    "user_id (private), daily_logs (a dictionary with dates as keys and DailyLog instances as values)\n",
    "\n",
    "**Instance Methods:**\n",
    "\n",
    "\\_\\_init\\_\\_(self, user_id): Constructor to initialize a new nutrition profile.\n",
    "\n",
    "add_daily_log(self, daily_log): Adds a DailyLog instance to the profile.\n",
    "\n",
    "get_log_by_date(self, date): Retrieves a DailyLog by date.\n",
    "\n",
    "display: Print the nutrition profile.\n"
   ]
  },
  {
   "cell_type": "code",
   "execution_count": 86,
   "metadata": {},
   "outputs": [],
   "source": [
    "class NutritionProfile:\n",
    "    def __init__(self, user_id):\n",
    "        self.__user_id = user_id\n",
    "        self.__daily_logs = {}\n",
    "\n",
    "    def add_daily_log(self, daily_log):\n",
    "        self.__daily_logs[daily_log.getDate()] = daily_log\n",
    "\n",
    "    def get_log_by_date(self, date):\n",
    "        return self.__daily_logs.get(date)\n",
    "\n",
    "    def display(self):\n",
    "        print(f'Nutrition Profile: {self.__user_id}')\n",
    "        for log in self.__daily_logs:\n",
    "            self.__daily_logs[log].display()"
   ]
  },
  {
   "cell_type": "markdown",
   "metadata": {},
   "source": [
    "## Testing:"
   ]
  },
  {
   "cell_type": "code",
   "execution_count": 88,
   "metadata": {},
   "outputs": [
    {
     "name": "stdout",
     "output_type": "stream",
     "text": [
      "Food Item: Apple, Calories: 95, Proteins: 0.5g, Carbs: 25g, Fat: 0.3g\n",
      "Food Item: Banana, Calories: 105, Proteins: 1.3g, Carbs: 27g, Fat: 0.3g\n",
      "\n",
      "\n",
      "Daily Log: 2023-04-02\n",
      "Food Item: Apple, Calories: 95, Proteins: 0.5g, Carbs: 25g, Fat: 0.3g\n",
      "Food Item: Banana, Calories: 105, Proteins: 1.3g, Carbs: 27g, Fat: 0.3g\n",
      "\n",
      "\n",
      "Nutrition Profile: User1\n",
      "Daily Log: 2023-04-02\n",
      "Food Item: Apple, Calories: 95, Proteins: 0.5g, Carbs: 25g, Fat: 0.3g\n",
      "Food Item: Banana, Calories: 105, Proteins: 1.3g, Carbs: 27g, Fat: 0.3g\n"
     ]
    }
   ],
   "source": [
    "# Creating some food items\n",
    "apple  = FoodItem('Apple', 95, 0.5, 25, 0.3)\n",
    "banana = FoodItem('Banana', 105, 1.3, 27, 0.3)\n",
    "\n",
    "# Create a daily log and add food items\n",
    "daily_log = DailyLog('2023-04-02')\n",
    "daily_log.add_food_item(apple)\n",
    "daily_log.add_food_item(banana)\n",
    "\n",
    "# Create a nutrition profile and add the daily log\n",
    "profile = NutritionProfile('User1')\n",
    "profile.add_daily_log(daily_log)\n",
    "\n",
    "# Testing outputs using display\n",
    "apple.display()\n",
    "banana.display()\n",
    "print('\\n')\n",
    "daily_log.display()\n",
    "print('\\n')\n",
    "profile.display()"
   ]
  },
  {
   "cell_type": "markdown",
   "metadata": {},
   "source": [
    "# Exercise 2: Create a Module\n",
    "\n",
    "**Objective:**\n",
    "\n",
    "Save the classes FoodItem, DailyLog, and NutritionProfile into a Python file named\n",
    "nutrition_tracker.py.\n",
    "\n",
    "This file will act as your module and import it to another jupyter notebook to\n",
    "produce the same output as in Exercise 1."
   ]
  },
  {
   "cell_type": "markdown",
   "metadata": {},
   "source": [
    "# Exercise 3: BONUS - Plot the daily log.\n",
    "\n",
    "Explore the package matplotlib and create a bar plot from the daily log. Implement the plot as another\n",
    "method, example: daily_log.plot_nutrients()"
   ]
  }
 ],
 "metadata": {
  "kernelspec": {
   "display_name": "Python 3",
   "language": "python",
   "name": "python3"
  },
  "language_info": {
   "codemirror_mode": {
    "name": "ipython",
    "version": 3
   },
   "file_extension": ".py",
   "mimetype": "text/x-python",
   "name": "python",
   "nbconvert_exporter": "python",
   "pygments_lexer": "ipython3",
   "version": "3.11.5"
  }
 },
 "nbformat": 4,
 "nbformat_minor": 2
}
