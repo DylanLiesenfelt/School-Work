{
 "cells": [
  {
   "cell_type": "markdown",
   "metadata": {},
   "source": [
    "Dylan Liesenfelt"
   ]
  },
  {
   "cell_type": "markdown",
   "metadata": {},
   "source": [
    "# Exercise 1: Meal and Nutrition Tracker\n",
    "\n",
    "**Objective:** Develop code that allows users to log daily food intake, track nutritional values, and monitor\n",
    "their diet against personal health goals, supporting informed food choices and dietary objectives.\n",
    "\n",
    "**Classes and Components:**"
   ]
  },
  {
   "cell_type": "markdown",
   "metadata": {},
   "source": [
    "## FoodItem\n",
    "**Variables:**\n",
    "\n",
    " name (private), calories (private), proteins (private), carbs (private), fats (private)\n",
    "\n",
    "**Instance Methods:**\n",
    "\n",
    "\\_\\_init\\_\\_(self, name, calories, proteins, carbs, fats): Constructor to initialize a new food item with\n",
    "nutritional info.\n",
    "Getter Methods for each private variable and a display method to print the food item."
   ]
  },
  {
   "cell_type": "markdown",
   "metadata": {},
   "source": [
    "## DailyLog\n",
    "\n",
    "**Variables:**\n",
    "\n",
    "date (private), food_items (a list of FoodItem instances, private)\n",
    "\n",
    "**Instance Methods:**\n",
    "\n",
    "\\_\\_init\\_\\_(self, date): Constructor to initialize a new daily log.\n",
    "\n",
    "add_food_item: Adds a FoodItem instance to the log.\n",
    "\n",
    "get_total_calories: Calculates total calories consumed on that day.\n",
    "\n",
    "get_total_nutrients: Calculates total proteins, carbs, and fats consumed.\n",
    "\n",
    "display: Print the daily log."
   ]
  },
  {
   "cell_type": "markdown",
   "metadata": {},
   "source": [
    "## NutritionProfile:\n",
    "\n",
    "**Variables:**\n",
    "\n",
    "user_id (private), daily_logs (a dictionary with dates as keys and DailyLog instances as values)\n",
    "\n",
    "**Instance Methods:**\n",
    "\n",
    "\\_\\_init\\_\\_(self, user_id): Constructor to initialize a new nutrition profile.\n",
    "\n",
    "add_daily_log(self, daily_log): Adds a DailyLog instance to the profile.\n",
    "\n",
    "get_log_by_date(self, date): Retrieves a DailyLog by date.\n",
    "\n",
    "display: Print the nutrition profile.\n"
   ]
  },
  {
   "cell_type": "markdown",
   "metadata": {},
   "source": [
    "## Testing:"
   ]
  },
  {
   "cell_type": "markdown",
   "metadata": {},
   "source": [
    "# Exercise 2: Create a Module\n",
    "\n",
    "**Objective:**\n",
    "\n",
    "Save the classes FoodItem, DailyLog, and NutritionProfile into a Python file named\n",
    "nutrition_tracker.py.\n",
    "\n",
    "This file will act as your module and import it to another jupyter notebook to\n",
    "produce the same output as in Exercise 1."
   ]
  },
  {
   "cell_type": "markdown",
   "metadata": {},
   "source": [
    "# Exercise 3: BONUS - Plot the daily log.\n",
    "\n",
    "Explore the package matplotlib and create a bar plot from the daily log. Implement the plot as another\n",
    "method, example: daily_log.plot_nutrients()"
   ]
  },
  {
   "cell_type": "markdown",
   "metadata": {},
   "source": []
  }
 ],
 "metadata": {
  "language_info": {
   "name": "python"
  }
 },
 "nbformat": 4,
 "nbformat_minor": 2
}
