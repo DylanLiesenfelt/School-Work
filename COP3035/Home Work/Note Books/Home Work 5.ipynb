{
 "cells": [
  {
   "cell_type": "markdown",
   "metadata": {},
   "source": [
    "Dylan Liesenfelt"
   ]
  },
  {
   "cell_type": "markdown",
   "metadata": {},
   "source": [
    "# Section\n",
    "Write a function named count_primes that returns the number of prime numbers\n",
    "that exist up to and including a given number. Demonstrate how to call the function and display the\n",
    "output."
   ]
  },
  {
   "cell_type": "code",
   "execution_count": 2,
   "metadata": {},
   "outputs": [
    {
     "name": "stdout",
     "output_type": "stream",
     "text": [
      "Prime numbers up to 29: [2, 3, 5, 7, 11, 13, 17, 19, 23, 29]\n"
     ]
    }
   ],
   "source": [
    "def check_if_prime(number): # This function checks if our number is prime\n",
    "    if number < 2:  # first prime number is 2 so no need to check before this\n",
    "        return False\n",
    "    for i in range(2, number): # counting through 2 to our number\n",
    "        if number % i == 0: # If our number is divisible by another number besides 1 our itself (for loop stops just counting at number before our number), then it is not a prime\n",
    "            return False\n",
    "    return True # if all other conditions are not true than our number is a prime, return value of true to function\n",
    "\n",
    "def count_primes(number): # This is our main function and counts all of our primes\n",
    "    primes = [] # List to contain all numbers we find that are prime\n",
    "    for i in range(2, number + 1): # Once again 2 is first prime so we start there, counts up to our number this time\n",
    "        if check_if_prime(i) == True: # Calls our function to check if current number being counted is prime\n",
    "            primes.append(i) # If it is add it to our prime list\n",
    "    print(f'Prime numbers up to {number}: {primes}') # Once were done counting print the results\n",
    "\n",
    "num = int(input('Enter a number to count the primes up to that number: '))\n",
    "count_primes(num) # Call our function passing in the user input as the param"
   ]
  },
  {
   "cell_type": "markdown",
   "metadata": {},
   "source": [
    "# Section\n",
    "Convert the following functions into lambda expressions. Test both the original\n",
    "and lambda versions."
   ]
  },
  {
   "cell_type": "code",
   "execution_count": 8,
   "metadata": {},
   "outputs": [
    {
     "name": "stdout",
     "output_type": "stream",
     "text": [
      "25\n"
     ]
    }
   ],
   "source": [
    "# def square(num):\n",
    "#   return num ** 2\n",
    "\n",
    "square = lambda num: num ** 2\n",
    "print(square(5))"
   ]
  },
  {
   "cell_type": "code",
   "execution_count": 9,
   "metadata": {},
   "outputs": [
    {
     "name": "stdout",
     "output_type": "stream",
     "text": [
      "25\n"
     ]
    }
   ],
   "source": [
    "# def add(x, y):\n",
    "#   return x + y\n",
    "\n",
    "add = lambda x, y: x + y\n",
    "print(add(10,15))"
   ]
  },
  {
   "cell_type": "code",
   "execution_count": 10,
   "metadata": {},
   "outputs": [
    {
     "name": "stdout",
     "output_type": "stream",
     "text": [
      "False\n"
     ]
    }
   ],
   "source": [
    "# def is_even(num):\n",
    "#    return num % 2 == 0\n",
    "\n",
    "is_even = lambda num: num % 2 == 0\n",
    "print(is_even(5))"
   ]
  },
  {
   "cell_type": "code",
   "execution_count": 12,
   "metadata": {},
   "outputs": [
    {
     "name": "stdout",
     "output_type": "stream",
     "text": [
      "Hello World\n"
     ]
    }
   ],
   "source": [
    "# def concatenate(str1, str2):\n",
    "#   return str1 + str2\n",
    "\n",
    "concatenate = lambda str1, str2: str1 + str2\n",
    "print(concatenate('Hello', ' World'))"
   ]
  },
  {
   "cell_type": "code",
   "execution_count": 14,
   "metadata": {},
   "outputs": [
    {
     "name": "stdout",
     "output_type": "stream",
     "text": [
      "27\n"
     ]
    }
   ],
   "source": [
    "# def string_length(s):\n",
    "#   return len(s)\n",
    "string_length = lambda s : len(s)\n",
    "print(string_length(';iolksdfhfg;kjlerhg;jkdsh;k'))"
   ]
  },
  {
   "cell_type": "code",
   "execution_count": 15,
   "metadata": {},
   "outputs": [
    {
     "name": "stdout",
     "output_type": "stream",
     "text": [
      "dlroW olleH\n"
     ]
    }
   ],
   "source": [
    "# def reverse(a):\n",
    "#   a_reversed = a[::-1]\n",
    "#   return a_reversed\n",
    "\n",
    "reverse = lambda a : a[::-1]\n",
    "print(reverse('Hello World'))"
   ]
  },
  {
   "cell_type": "markdown",
   "metadata": {},
   "source": [
    "# Section\n",
    "Convert these conditional structures to ternary operations and test both versions."
   ]
  },
  {
   "cell_type": "code",
   "execution_count": 3,
   "metadata": {},
   "outputs": [
    {
     "name": "stdout",
     "output_type": "stream",
     "text": [
      "Negative\n"
     ]
    }
   ],
   "source": [
    "# if num > 0:\n",
    "#   return \"Positive\"\n",
    "# elif num == 0:\n",
    "#   return \"Zero\"\n",
    "# else:\n",
    "#   return \"Negative\"\n",
    "\n",
    "num = -5\n",
    "\n",
    "result = 'Positive' if num > 0 else 'Zero' if num == 0 else 'Negative'\n",
    "\n",
    "print(result)"
   ]
  },
  {
   "cell_type": "code",
   "execution_count": 5,
   "metadata": {},
   "outputs": [
    {
     "name": "stdout",
     "output_type": "stream",
     "text": [
      "Not empty\n"
     ]
    }
   ],
   "source": [
    "# if lst:\n",
    "#   return \"Not empty\"\n",
    "# else:\n",
    "#   return \"Empty\"\n",
    "\n",
    "lst = ['a',1]\n",
    "\n",
    "result = 'Not empty' if lst else 'Empty'\n",
    "\n",
    "print (result)"
   ]
  },
  {
   "cell_type": "code",
   "execution_count": 6,
   "metadata": {},
   "outputs": [
    {
     "name": "stdout",
     "output_type": "stream",
     "text": [
      "Adult\n"
     ]
    }
   ],
   "source": [
    "# if age >= 18:\n",
    "#   return \"Adult\"\n",
    "# else:\n",
    "#   return \"Minor\"\n",
    "age = 47\n",
    "\n",
    "result = 'Adult' if age >= 18 else 'Minor'\n",
    "\n",
    "print(result)"
   ]
  },
  {
   "cell_type": "code",
   "execution_count": 7,
   "metadata": {},
   "outputs": [
    {
     "name": "stdout",
     "output_type": "stream",
     "text": [
      "Odd\n"
     ]
    }
   ],
   "source": [
    "# if num % 2 == 0:\n",
    "#   return \"Even\"\n",
    "# else:\n",
    "#   return \"Odd\"\n",
    "\n",
    "num = 3456\n",
    "\n",
    "result = 'Even' if num % 2 else 'Odd'\n",
    "print(result)"
   ]
  },
  {
   "cell_type": "markdown",
   "metadata": {},
   "source": [
    "# Section\n",
    "Provide code and test output for each:"
   ]
  },
  {
   "cell_type": "code",
   "execution_count": 16,
   "metadata": {},
   "outputs": [
    {
     "name": "stdout",
     "output_type": "stream",
     "text": [
      "Hello, Person of Unkown years old\n",
      "Hey there, Joe of 25 years old\n"
     ]
    }
   ],
   "source": [
    "# a) Create a function that uses several default values.\n",
    "def severalDefaults(greet='Hello', name='Person', age='Unkown'):\n",
    "    print(f'{greet}, {name} of {age} years old')\n",
    "\n",
    "severalDefaults()\n",
    "severalDefaults('Hey there', 'Joe', 25)"
   ]
  },
  {
   "cell_type": "code",
   "execution_count": 17,
   "metadata": {},
   "outputs": [
    {
     "name": "stdout",
     "output_type": "stream",
     "text": [
      "Student Number: 0, Name: Tom\n",
      "Student Number: 1, Name: Joe\n",
      "Student Number: 2, Name: Mike\n"
     ]
    }
   ],
   "source": [
    "# b) Create a function that uses positional arguments *args.\n",
    "\n",
    "def nArgs(*args):\n",
    "    for i,j in enumerate(args):\n",
    "        print(f'Student Number: {i}, Name: {j}')\n",
    "\n",
    "nArgs('Tom', 'Joe', 'Mike')"
   ]
  },
  {
   "cell_type": "code",
   "execution_count": 19,
   "metadata": {},
   "outputs": [
    {
     "name": "stdout",
     "output_type": "stream",
     "text": [
      "Name : Joe\n",
      "ID : z1654896\n",
      "Age : 25\n",
      "Major : CS\n"
     ]
    }
   ],
   "source": [
    "# c) Create a function that uses keyword arguments **kwargs.\n",
    "def kwarg(**kwargs):\n",
    "    for key, value in kwargs.items():\n",
    "        print(f'{key} : {value}')\n",
    "\n",
    "kwarg(Name='Joe', ID = 'z1654896', Age = 25, Major = 'CS')"
   ]
  },
  {
   "cell_type": "code",
   "execution_count": 24,
   "metadata": {},
   "outputs": [
    {
     "name": "stdout",
     "output_type": "stream",
     "text": [
      "x 0\n",
      "y 0\n",
      "x 3\n",
      "y 2\n"
     ]
    }
   ],
   "source": [
    "# d) Create a function that combines *args, **kwargs, and default values.\n",
    "def womboCombo(*args, length=1, **kwargs):\n",
    "    for i,j in enumerate(args):\n",
    "        for key, value in kwargs.items():\n",
    "            print(f'{key * length} {value * (i ** j)}')\n",
    "\n",
    "womboCombo(5, 10, x = 3, y = 2)"
   ]
  },
  {
   "cell_type": "markdown",
   "metadata": {},
   "source": [
    "# Section (Bonus)\n",
    "Create a function that prints digits or characters as ASCII art, and then use\n",
    "it to write your zNumber or any other message."
   ]
  },
  {
   "cell_type": "code",
   "execution_count": 36,
   "metadata": {},
   "outputs": [
    {
     "name": "stdout",
     "output_type": "stream",
     "text": [
      "        22222   33333   66666   8888    8888      4444    111  7777777 \n",
      "       22   22 3    33 66      88  88  88  88    44 44  11111      77  \n",
      "ZZZZZZ     22     333  66666    8888    8888    44  44    111     77   \n",
      "   ZZ    22       333  66  66   8888    8888   4444444    111    77    \n",
      " ZZ    22      3    33 66  66  88  88  88  88       44    111   77     \n",
      "ZZZZZZ 2222222  33333   6666    8888    8888        44  111111 77      \n"
     ]
    }
   ],
   "source": [
    "def ASCIIzNumber(zNum):\n",
    "    ASCII_Dict = { # Dict that contains the characters we want and the ASCII art associated to that char\n",
    "        '0': [' 00000 ',\n",
    "              '000 000',\n",
    "              '00   00',\n",
    "              '00   00',\n",
    "              '000 000',\n",
    "              ' 00000 '],\n",
    "        '1': ['   111 ',\n",
    "              ' 11111 ',\n",
    "              '   111 ',\n",
    "              '   111 ',\n",
    "              '   111 ',\n",
    "              ' 111111'],\n",
    "        '2': [' 22222 ',\n",
    "              '22   22',\n",
    "              '    22 ',\n",
    "              '  22   ',\n",
    "              '22     ',\n",
    "              '2222222'],\n",
    "        '3': [' 33333 ',\n",
    "              '3    33',\n",
    "              '   333 ',\n",
    "              '   333 ',\n",
    "              '3    33',\n",
    "              ' 33333 '],\n",
    "        '4': ['   4444',\n",
    "              '  44 44',\n",
    "              ' 44  44',\n",
    "              '4444444',\n",
    "              '     44',\n",
    "              '     44'],\n",
    "        '5': ['555555 ',\n",
    "              '55     ',\n",
    "              '55555  ',\n",
    "              '    55 ',\n",
    "              '    55 ',\n",
    "              '55555  '],\n",
    "        '6': [' 66666 ',\n",
    "              '66     ',\n",
    "              '66666  ',\n",
    "              '66  66 ',\n",
    "              '66  66 ',\n",
    "              ' 6666  '],\n",
    "        '7': ['7777777',\n",
    "              '    77 ',\n",
    "              '   77  ',\n",
    "              '  77   ',\n",
    "              ' 77    ',\n",
    "              '77     '],\n",
    "        '8': [' 8888  ',\n",
    "              '88  88 ',\n",
    "              ' 8888  ',\n",
    "              ' 8888  ',\n",
    "              '88  88 ',\n",
    "              ' 8888  '],\n",
    "        '9': [' 99999 ',\n",
    "              '99   9 ',\n",
    "              ' 99999 ',\n",
    "              '    99 ',\n",
    "              '    99 ',\n",
    "              ' 99999 '],\n",
    "        'Z': ['      ',\n",
    "              '      ',\n",
    "              'ZZZZZZ',\n",
    "              '   ZZ ',\n",
    "              ' ZZ   ',\n",
    "              'ZZZZZZ']\n",
    "    }\n",
    "\n",
    "    lines = ['' for _ in range(6)] # Init our list to have an empty list with space for each line of each characters art\n",
    "\n",
    "    for i in zNum: # Loop through the characters in the znumber\n",
    "        c = i.upper() # Force current char to be upper case\n",
    "        if c in ASCII_Dict: # If our character is the art dict then ...\n",
    "            charLines = ASCII_Dict[c]  # assign value to var\n",
    "            for j in range(6): # loop through for each line\n",
    "                lines[j] += charLines[j] + ' ' # add the lines for character\n",
    "\n",
    "    for line in lines: #loop out all the lines in our list and print them line by line\n",
    "        print(line)\n",
    "\n",
    "ASCIIzNumber(\"Z23688417\") # Call our function by passing my zNumber\n"
   ]
  }
 ],
 "metadata": {
  "kernelspec": {
   "display_name": "Python 3",
   "language": "python",
   "name": "python3"
  },
  "language_info": {
   "codemirror_mode": {
    "name": "ipython",
    "version": 3
   },
   "file_extension": ".py",
   "mimetype": "text/x-python",
   "name": "python",
   "nbconvert_exporter": "python",
   "pygments_lexer": "ipython3",
   "version": "3.11.5"
  }
 },
 "nbformat": 4,
 "nbformat_minor": 2
}
