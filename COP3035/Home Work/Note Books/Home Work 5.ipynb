{
 "cells": [
  {
   "cell_type": "markdown",
   "metadata": {},
   "source": [
    "Dylan Liesenfelt"
   ]
  },
  {
   "cell_type": "markdown",
   "metadata": {},
   "source": [
    "# Section\n",
    "Write a function named count_primes that returns the number of prime numbers\n",
    "that exist up to and including a given number. Demonstrate how to call the function and display the\n",
    "output."
   ]
  },
  {
   "cell_type": "code",
   "execution_count": 1,
   "metadata": {},
   "outputs": [
    {
     "name": "stdout",
     "output_type": "stream",
     "text": [
      "Prime numbers up to 4000: [2, 3, 5, 7, 11, 13, 17, 19, 23, 29, 31, 37, 41, 43, 47, 53, 59, 61, 67, 71, 73, 79, 83, 89, 97, 101, 103, 107, 109, 113, 127, 131, 137, 139, 149, 151, 157, 163, 167, 173, 179, 181, 191, 193, 197, 199, 211, 223, 227, 229, 233, 239, 241, 251, 257, 263, 269, 271, 277, 281, 283, 293, 307, 311, 313, 317, 331, 337, 347, 349, 353, 359, 367, 373, 379, 383, 389, 397, 401, 409, 419, 421, 431, 433, 439, 443, 449, 457, 461, 463, 467, 479, 487, 491, 499, 503, 509, 521, 523, 541, 547, 557, 563, 569, 571, 577, 587, 593, 599, 601, 607, 613, 617, 619, 631, 641, 643, 647, 653, 659, 661, 673, 677, 683, 691, 701, 709, 719, 727, 733, 739, 743, 751, 757, 761, 769, 773, 787, 797, 809, 811, 821, 823, 827, 829, 839, 853, 857, 859, 863, 877, 881, 883, 887, 907, 911, 919, 929, 937, 941, 947, 953, 967, 971, 977, 983, 991, 997, 1009, 1013, 1019, 1021, 1031, 1033, 1039, 1049, 1051, 1061, 1063, 1069, 1087, 1091, 1093, 1097, 1103, 1109, 1117, 1123, 1129, 1151, 1153, 1163, 1171, 1181, 1187, 1193, 1201, 1213, 1217, 1223, 1229, 1231, 1237, 1249, 1259, 1277, 1279, 1283, 1289, 1291, 1297, 1301, 1303, 1307, 1319, 1321, 1327, 1361, 1367, 1373, 1381, 1399, 1409, 1423, 1427, 1429, 1433, 1439, 1447, 1451, 1453, 1459, 1471, 1481, 1483, 1487, 1489, 1493, 1499, 1511, 1523, 1531, 1543, 1549, 1553, 1559, 1567, 1571, 1579, 1583, 1597, 1601, 1607, 1609, 1613, 1619, 1621, 1627, 1637, 1657, 1663, 1667, 1669, 1693, 1697, 1699, 1709, 1721, 1723, 1733, 1741, 1747, 1753, 1759, 1777, 1783, 1787, 1789, 1801, 1811, 1823, 1831, 1847, 1861, 1867, 1871, 1873, 1877, 1879, 1889, 1901, 1907, 1913, 1931, 1933, 1949, 1951, 1973, 1979, 1987, 1993, 1997, 1999, 2003, 2011, 2017, 2027, 2029, 2039, 2053, 2063, 2069, 2081, 2083, 2087, 2089, 2099, 2111, 2113, 2129, 2131, 2137, 2141, 2143, 2153, 2161, 2179, 2203, 2207, 2213, 2221, 2237, 2239, 2243, 2251, 2267, 2269, 2273, 2281, 2287, 2293, 2297, 2309, 2311, 2333, 2339, 2341, 2347, 2351, 2357, 2371, 2377, 2381, 2383, 2389, 2393, 2399, 2411, 2417, 2423, 2437, 2441, 2447, 2459, 2467, 2473, 2477, 2503, 2521, 2531, 2539, 2543, 2549, 2551, 2557, 2579, 2591, 2593, 2609, 2617, 2621, 2633, 2647, 2657, 2659, 2663, 2671, 2677, 2683, 2687, 2689, 2693, 2699, 2707, 2711, 2713, 2719, 2729, 2731, 2741, 2749, 2753, 2767, 2777, 2789, 2791, 2797, 2801, 2803, 2819, 2833, 2837, 2843, 2851, 2857, 2861, 2879, 2887, 2897, 2903, 2909, 2917, 2927, 2939, 2953, 2957, 2963, 2969, 2971, 2999, 3001, 3011, 3019, 3023, 3037, 3041, 3049, 3061, 3067, 3079, 3083, 3089, 3109, 3119, 3121, 3137, 3163, 3167, 3169, 3181, 3187, 3191, 3203, 3209, 3217, 3221, 3229, 3251, 3253, 3257, 3259, 3271, 3299, 3301, 3307, 3313, 3319, 3323, 3329, 3331, 3343, 3347, 3359, 3361, 3371, 3373, 3389, 3391, 3407, 3413, 3433, 3449, 3457, 3461, 3463, 3467, 3469, 3491, 3499, 3511, 3517, 3527, 3529, 3533, 3539, 3541, 3547, 3557, 3559, 3571, 3581, 3583, 3593, 3607, 3613, 3617, 3623, 3631, 3637, 3643, 3659, 3671, 3673, 3677, 3691, 3697, 3701, 3709, 3719, 3727, 3733, 3739, 3761, 3767, 3769, 3779, 3793, 3797, 3803, 3821, 3823, 3833, 3847, 3851, 3853, 3863, 3877, 3881, 3889, 3907, 3911, 3917, 3919, 3923, 3929, 3931, 3943, 3947, 3967, 3989]\n"
     ]
    }
   ],
   "source": [
    "def check_if_prime(number): # This function checks if our number is prime\n",
    "    if number < 2:  # first prime number is 2 so no need to check before this\n",
    "        return False\n",
    "    for i in range(2, number): # counting through 2 to our number\n",
    "        if number % i == 0: # If our number is divisible by another number besides 1 our itself (for loop stops just counting at number before our number), then it is not a prime\n",
    "            return False\n",
    "    return True # if all other conditions are not true than our number is a prime, return value of true to function\n",
    "\n",
    "def count_primes(number): # This is our main function and counts all of our primes\n",
    "    primes = [] # List to contain all numbers we find that are prime\n",
    "    for i in range(2, number + 1): # Once again 2 is first prime so we start there, counts up to our number this time\n",
    "        if check_if_prime(i) == True: # Calls our function to check if current number being counted is prime\n",
    "            primes.append(i) # If it is add it to our prime list\n",
    "    print(f'Prime numbers up to {number}: {primes}') # Once were done counting print the results\n",
    "\n",
    "num = int(input('Enter a number to count the primes up to that number: '))\n",
    "count_primes(num) # Call our function passing in the user input as the param"
   ]
  },
  {
   "cell_type": "markdown",
   "metadata": {},
   "source": [
    "# Section\n",
    "Convert the following functions into lambda expressions. Test both the original\n",
    "and lambda versions."
   ]
  },
  {
   "cell_type": "code",
   "execution_count": 8,
   "metadata": {},
   "outputs": [
    {
     "name": "stdout",
     "output_type": "stream",
     "text": [
      "25\n"
     ]
    }
   ],
   "source": [
    "# def square(num):\n",
    "#   return num ** 2\n",
    "\n",
    "square = lambda num: num ** 2\n",
    "print(square(5))"
   ]
  },
  {
   "cell_type": "code",
   "execution_count": 9,
   "metadata": {},
   "outputs": [
    {
     "name": "stdout",
     "output_type": "stream",
     "text": [
      "25\n"
     ]
    }
   ],
   "source": [
    "# def add(x, y):\n",
    "#   return x + y\n",
    "\n",
    "add = lambda x, y: x + y\n",
    "print(add(10,15))"
   ]
  },
  {
   "cell_type": "code",
   "execution_count": 10,
   "metadata": {},
   "outputs": [
    {
     "name": "stdout",
     "output_type": "stream",
     "text": [
      "False\n"
     ]
    }
   ],
   "source": [
    "# def is_even(num):\n",
    "#    return num % 2 == 0\n",
    "\n",
    "is_even = lambda num: num % 2 == 0\n",
    "print(is_even(5))"
   ]
  },
  {
   "cell_type": "code",
   "execution_count": 12,
   "metadata": {},
   "outputs": [
    {
     "name": "stdout",
     "output_type": "stream",
     "text": [
      "Hello World\n"
     ]
    }
   ],
   "source": [
    "# def concatenate(str1, str2):\n",
    "#   return str1 + str2\n",
    "\n",
    "concatenate = lambda str1, str2: str1 + str2\n",
    "print(concatenate('Hello', ' World'))"
   ]
  },
  {
   "cell_type": "code",
   "execution_count": 14,
   "metadata": {},
   "outputs": [
    {
     "name": "stdout",
     "output_type": "stream",
     "text": [
      "27\n"
     ]
    }
   ],
   "source": [
    "# def string_length(s):\n",
    "#   return len(s)\n",
    "string_length = lambda s : len(s)\n",
    "print(string_length(';iolksdfhfg;kjlerhg;jkdsh;k'))"
   ]
  },
  {
   "cell_type": "code",
   "execution_count": 15,
   "metadata": {},
   "outputs": [
    {
     "name": "stdout",
     "output_type": "stream",
     "text": [
      "dlroW olleH\n"
     ]
    }
   ],
   "source": [
    "# def reverse(a):\n",
    "#   a_reversed = a[::-1]\n",
    "#   return a_reversed\n",
    "\n",
    "reverse = lambda a : a[::-1]\n",
    "print(reverse('Hello World'))"
   ]
  },
  {
   "cell_type": "markdown",
   "metadata": {},
   "source": [
    "# Section\n",
    "Convert these conditional structures to ternary operations and test both versions."
   ]
  },
  {
   "cell_type": "code",
   "execution_count": 3,
   "metadata": {},
   "outputs": [
    {
     "name": "stdout",
     "output_type": "stream",
     "text": [
      "Negative\n"
     ]
    }
   ],
   "source": [
    "# if num > 0:\n",
    "#   return \"Positive\"\n",
    "# elif num == 0:\n",
    "#   return \"Zero\"\n",
    "# else:\n",
    "#   return \"Negative\"\n",
    "\n",
    "num = -5\n",
    "\n",
    "result = 'Positive' if num > 0 else 'Zero' if num == 0 else 'Negative'\n",
    "\n",
    "print(result)"
   ]
  },
  {
   "cell_type": "code",
   "execution_count": 5,
   "metadata": {},
   "outputs": [
    {
     "name": "stdout",
     "output_type": "stream",
     "text": [
      "Not empty\n"
     ]
    }
   ],
   "source": [
    "# if lst:\n",
    "#   return \"Not empty\"\n",
    "# else:\n",
    "#   return \"Empty\"\n",
    "\n",
    "lst = ['a',1]\n",
    "\n",
    "result = 'Not empty' if lst else 'Empty'\n",
    "\n",
    "print (result)"
   ]
  },
  {
   "cell_type": "code",
   "execution_count": 6,
   "metadata": {},
   "outputs": [
    {
     "name": "stdout",
     "output_type": "stream",
     "text": [
      "Adult\n"
     ]
    }
   ],
   "source": [
    "# if age >= 18:\n",
    "#   return \"Adult\"\n",
    "# else:\n",
    "#   return \"Minor\"\n",
    "age = 47\n",
    "\n",
    "result = 'Adult' if age >= 18 else 'Minor'\n",
    "\n",
    "print(result)"
   ]
  },
  {
   "cell_type": "code",
   "execution_count": 7,
   "metadata": {},
   "outputs": [
    {
     "name": "stdout",
     "output_type": "stream",
     "text": [
      "Odd\n"
     ]
    }
   ],
   "source": [
    "# if num % 2 == 0:\n",
    "#   return \"Even\"\n",
    "# else:\n",
    "#   return \"Odd\"\n",
    "\n",
    "num = 3456\n",
    "\n",
    "result = 'Even' if num % 2 else 'Odd'\n",
    "print(result)"
   ]
  },
  {
   "cell_type": "markdown",
   "metadata": {},
   "source": [
    "# Section\n",
    "Provide code and test output for each:"
   ]
  },
  {
   "cell_type": "code",
   "execution_count": 16,
   "metadata": {},
   "outputs": [
    {
     "name": "stdout",
     "output_type": "stream",
     "text": [
      "Hello, Person of Unkown years old\n",
      "Hey there, Joe of 25 years old\n"
     ]
    }
   ],
   "source": [
    "# a) Create a function that uses several default values.\n",
    "def severalDefaults(greet='Hello', name='Person', age='Unkown'):\n",
    "    print(f'{greet}, {name} of {age} years old')\n",
    "\n",
    "severalDefaults()\n",
    "severalDefaults('Hey there', 'Joe', 25)"
   ]
  },
  {
   "cell_type": "code",
   "execution_count": 17,
   "metadata": {},
   "outputs": [
    {
     "name": "stdout",
     "output_type": "stream",
     "text": [
      "Student Number: 0, Name: Tom\n",
      "Student Number: 1, Name: Joe\n",
      "Student Number: 2, Name: Mike\n"
     ]
    }
   ],
   "source": [
    "# b) Create a function that uses positional arguments *args.\n",
    "\n",
    "def nArgs(*args):\n",
    "    for i,j in enumerate(args):\n",
    "        print(f'Student Number: {i}, Name: {j}')\n",
    "\n",
    "nArgs('Tom', 'Joe', 'Mike')"
   ]
  },
  {
   "cell_type": "code",
   "execution_count": 19,
   "metadata": {},
   "outputs": [
    {
     "name": "stdout",
     "output_type": "stream",
     "text": [
      "Name : Joe\n",
      "ID : z1654896\n",
      "Age : 25\n",
      "Major : CS\n"
     ]
    }
   ],
   "source": [
    "# c) Create a function that uses keyword arguments **kwargs.\n",
    "def kwarg(**kwargs):\n",
    "    for key, value in kwargs.items():\n",
    "        print(f'{key} : {value}')\n",
    "\n",
    "kwarg(Name='Joe', ID = 'z1654896', Age = 25, Major = 'CS')"
   ]
  },
  {
   "cell_type": "code",
   "execution_count": 24,
   "metadata": {},
   "outputs": [
    {
     "name": "stdout",
     "output_type": "stream",
     "text": [
      "x 0\n",
      "y 0\n",
      "x 3\n",
      "y 2\n"
     ]
    }
   ],
   "source": [
    "# d) Create a function that combines *args, **kwargs, and default values.\n",
    "def womboCombo(*args, length=1, **kwargs):\n",
    "    for i,j in enumerate(args):\n",
    "        for key, value in kwargs.items():\n",
    "            print(f'{key * length} {value * (i ** j)}')\n",
    "\n",
    "womboCombo(5, 10, x = 3, y = 2)"
   ]
  },
  {
   "cell_type": "markdown",
   "metadata": {},
   "source": [
    "# Section (Bonus)\n",
    "Create a function that prints digits or characters as ASCII art, and then use\n",
    "it to write your zNumber or any other message."
   ]
  },
  {
   "cell_type": "code",
   "execution_count": 7,
   "metadata": {},
   "outputs": [
    {
     "name": "stdout",
     "output_type": "stream",
     "text": [
      " 8888    00000   00000   8888   555555  \n",
      "88  88  000 000 000 000 88  88  55      \n",
      " 8888   00   00 00   00  8888   55555   \n",
      " 8888   00   00 00   00  8888       55  \n",
      "88  88  000 000 000 000 88  88      55  \n",
      " 8888    00000   00000   8888   55555   \n"
     ]
    }
   ],
   "source": [
    "def ASCIIzNumber(zNum):\n",
    "    ASCII_Dict = { # Dict that contains the characters we want and the ASCII art associated to that char\n",
    "        '0': [' 00000 ',\n",
    "              '000 000',\n",
    "              '00   00',\n",
    "              '00   00',\n",
    "              '000 000',\n",
    "              ' 00000 '],\n",
    "        '1': ['   111 ',\n",
    "              ' 11111 ',\n",
    "              '   111 ',\n",
    "              '   111 ',\n",
    "              '   111 ',\n",
    "              ' 111111'],\n",
    "        '2': [' 22222 ',\n",
    "              '22   22',\n",
    "              '    22 ',\n",
    "              '  22   ',\n",
    "              '22     ',\n",
    "              '2222222'],\n",
    "        '3': [' 33333 ',\n",
    "              '3    33',\n",
    "              '   333 ',\n",
    "              '   333 ',\n",
    "              '3    33',\n",
    "              ' 33333 '],\n",
    "        '4': ['   4444',\n",
    "              '  44 44',\n",
    "              ' 44  44',\n",
    "              '4444444',\n",
    "              '     44',\n",
    "              '     44'],\n",
    "        '5': ['555555 ',\n",
    "              '55     ',\n",
    "              '55555  ',\n",
    "              '    55 ',\n",
    "              '    55 ',\n",
    "              '55555  '],\n",
    "        '6': [' 66666 ',\n",
    "              '66     ',\n",
    "              '66666  ',\n",
    "              '66  66 ',\n",
    "              '66  66 ',\n",
    "              ' 6666  '],\n",
    "        '7': ['7777777',\n",
    "              '    77 ',\n",
    "              '   77  ',\n",
    "              '  77   ',\n",
    "              ' 77    ',\n",
    "              '77     '],\n",
    "        '8': [' 8888  ',\n",
    "              '88  88 ',\n",
    "              ' 8888  ',\n",
    "              ' 8888  ',\n",
    "              '88  88 ',\n",
    "              ' 8888  '],\n",
    "        '9': ['.0,\n",
    "              '99   9 ',\n",
    "              ' 99999 ',\n",
    "              '    99 ',\n",
    "              '    99 ',\n",
    "              ' 99999 '],\n",
    "        'Z': ['      ',\n",
    "              '      ',\n",
    "              'ZZZZZZ',\n",
    "              '   ZZ ',\n",
    "              ' ZZ   ',\n",
    "              'ZZZZZZ']\n",
    "    }\n",
    "\n",
    "    lines = ['' for _ in range(6)] # Init our list to have an empty list with space for each line of each characters art\n",
    "\n",
    "    for i in zNum: # Loop through the characters in the znumber\n",
    "        c = i.upper() # Force current char to be upper case\n",
    "        if c in ASCII_Dict: # If our character is the art dict then ...\n",
    "            charLines = ASCII_Dict[c]  # assign value to var\n",
    "            for j in range(6): # loop through for each line\n",
    "                lines[j] += charLines[j] + ' ' # add the lines for character\n",
    "\n",
    "    for line in lines: #loop out all the lines in our list and print them line by line\n",
    "        print(line)\n",
    "\n",
    "ASCIIzNumber(\"80085\") # Call our function by passing my zNumber\n"
   ]
  }
 ],
 "metadata": {
  "kernelspec": {
   "display_name": "Python 3",
   "language": "python",
   "name": "python3"
  },
  "language_info": {
   "codemirror_mode": {
    "name": "ipython",
    "version": 3
   },
   "file_extension": ".py",
   "mimetype": "text/x-python",
   "name": "python",
   "nbconvert_exporter": "python",
   "pygments_lexer": "ipython3",
   "version": "3.12.3"
  }
 },
 "nbformat": 4,
 "nbformat_minor": 2
}
