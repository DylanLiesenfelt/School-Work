{
 "cells": [
  {
   "cell_type": "markdown",
   "metadata": {},
   "source": [
    "Dylan Liesenfelt"
   ]
  },
  {
   "cell_type": "markdown",
   "metadata": {},
   "source": [
    "# Create Four Lists"
   ]
  },
  {
   "cell_type": "code",
   "execution_count": 114,
   "metadata": {},
   "outputs": [],
   "source": [
    "labs = [100,50,0,100,50,100,100,100,50,0,1]\n",
    "homework = [110,90,80,110,70,0,120]\n",
    "exams = [90,100,80,100]\n",
    "participation = 100\n"
   ]
  },
  {
   "cell_type": "markdown",
   "metadata": {},
   "source": [
    "# Compute Category Grades"
   ]
  },
  {
   "cell_type": "code",
   "execution_count": 115,
   "metadata": {},
   "outputs": [],
   "source": [
    "labAvg = sum(labs[::])/len(labs)\n",
    "hwAvg = sum(homework[::])/len(homework)\n",
    "examAvg = sum(exams[::])/len(exams)"
   ]
  },
  {
   "cell_type": "markdown",
   "metadata": {},
   "source": [
    "# Compute Total Grade"
   ]
  },
  {
   "cell_type": "code",
   "execution_count": 116,
   "metadata": {},
   "outputs": [],
   "source": [
    "weights = {'Labs': 5/100, 'Participation': 5/100, 'Homeworks': 40/100,\n",
    "'Exams': 50/100}\n",
    "labGrade = labAvg * weights['Labs']\n",
    "hwGrade = hwAvg * weights['Homeworks']\n",
    "examGrade = examAvg * weights['Exams']\n",
    "participationGrade = participation * weights['Participation']\n",
    "gradeBook = [hwGrade, labGrade, participationGrade, examGrade]\n",
    "total = sum(gradeBook[::])"
   ]
  },
  {
   "cell_type": "markdown",
   "metadata": {},
   "source": [
    "# Determine The Letter Grade"
   ]
  },
  {
   "cell_type": "code",
   "execution_count": 126,
   "metadata": {},
   "outputs": [],
   "source": [
    "gradeTable = {\n",
    "(93, 100): 'A',\n",
    "(90, 92): 'A-',\n",
    "(85, 89): 'B+',\n",
    "(80, 84): 'B',\n",
    "(75, 79): 'B-',\n",
    "(72, 74): 'C+',\n",
    "(68, 71): 'C',\n",
    "(60, 67): 'C-',\n",
    "(50, 59): 'D',\n",
    "(0, 49): 'F'\n",
    "}\n",
    "\n",
    "l = list(gradeTable.keys())\n",
    "filter = [l[0][0] <= total <= l[0][1],\n",
    "l[1][0] <= total <= l[1][1],\n",
    "l[2][0] <= total <= l[2][1],\n",
    "l[3][0] <= total <= l[3][1],\n",
    "l[4][0] <= total <= l[4][1],\n",
    "l[5][0] <= total <= l[5][1],\n",
    "l[6][0] <= total <= l[6][1],\n",
    "l[7][0] <= total <= l[7][1],\n",
    "l[8][0] <= total <= l[8][1],\n",
    "l[9][0] <= total <= l[9][1]]\n",
    "\n",
    "letterGrade = gradeTable[l[filter.index(True)]]"
   ]
  },
  {
   "cell_type": "markdown",
   "metadata": {},
   "source": [
    "# Print Grade Report"
   ]
  },
  {
   "cell_type": "code",
   "execution_count": 120,
   "metadata": {},
   "outputs": [
    {
     "name": "stdout",
     "output_type": "stream",
     "text": [
      "GRADE REPORT\n",
      "---------------------------------------------------------------------------\n",
      "Homework Grades: [110, 90, 80, 110, 70, 0, 120] = 580/7 = 82.9\n",
      "Lab Grades: [100, 50, 0, 100, 50, 100, 100, 100, 50, 0, 1] = 651/11 = 59.2\n",
      "Participation Grade: 100\n",
      "Exam Grades: [90, 100, 80, 100] = 370/4 = 92.5\n",
      "---------------------------------------------------------------------------\n",
      "Homeworks       :  82.9 x 0.40\n",
      "Labs            :  59.2 x 0.05\n",
      "Participation   : 100.0 x 0.05\n",
      "Exams           :  92.5 x 0.50\n",
      "------------------------------\n",
      "TOTAL           :  87.4\n",
      "------------------------------\n",
      "GRADE           :    B+\n"
     ]
    }
   ],
   "source": [
    "print('GRADE REPORT')\n",
    "print('-' * 75)\n",
    "print(f'Homework Grades: {homework} = {sum(homework[::])}/{len(homework)} = {hwAvg:.1f}')\n",
    "print(f'Lab Grades: {labs} = {sum(labs[::])}/{len(labs)} = {labAvg:.1f}')\n",
    "print(f'Participation Grade: {participation}')\n",
    "print(f'Exam Grades: {exams} = {sum(exams[::])}/{len(exams)} = {examAvg:.1f}')\n",
    "print('-' * 75)\n",
    "print(f'{\"Homeworks\":<15}', f': {hwAvg:>5.1f} x {weights[\"Homeworks\"]:.2f}')\n",
    "print(f'{\"Labs\":<15}', f': {labAvg:>5.1f} x {weights[\"Labs\"]:.2f}')\n",
    "print(f'{\"Participation\":<15}', f': {participation:>5.1f} x {weights[\"Participation\"]:.2f}')\n",
    "print(f'{\"Exams \":<15}', f': {examAvg:>5.1f} x {weights[\"Exams\"]:.2f}')\n",
    "print('-' * 30)\n",
    "print(f'{\"TOTAL\":<15}', f': {total:>5.1f}')\n",
    "print('-' * 30)\n",
    "print(f'{\"GRADE\":<15}', f': {letterGrade:>5}')"
   ]
  },
  {
   "cell_type": "markdown",
   "metadata": {},
   "source": [
    "# BONUS"
   ]
  },
  {
   "cell_type": "code",
   "execution_count": 123,
   "metadata": {},
   "outputs": [],
   "source": [
    "exams.append(0)\n",
    "homework.append(0)"
   ]
  },
  {
   "cell_type": "code",
   "execution_count": 125,
   "metadata": {},
   "outputs": [
    {
     "name": "stdout",
     "output_type": "stream",
     "text": [
      "GRADE REPORT\n",
      "---------------------------------------------------------------------------\n",
      "Homework Grades: [110, 90, 80, 110, 70, 0, 120, 0] = 580/8 = 72.5\n",
      "Lab Grades: [100, 50, 0, 100, 50, 100, 100, 100, 50, 0, 1] = 651/11 = 59.2\n",
      "Participation Grade: 100\n",
      "Exam Grades: [90, 100, 80, 100, 0] = 370/5 = 74.0\n",
      "---------------------------------------------------------------------------\n",
      "Homeworks       :  72.5 x 0.40\n",
      "Labs            :  59.2 x 0.05\n",
      "Participation   : 100.0 x 0.05\n",
      "Exam            :  74.0 x 0.50\n",
      "------------------------------\n",
      "TOTAL           :  74.0\n",
      "------------------------------\n",
      "GRADE           :    C+\n"
     ]
    }
   ],
   "source": [
    "labAvg = sum(labs[::])/len(labs)\n",
    "hwAvg = sum(homework[::])/len(homework)\n",
    "examAvg = sum(exams[::])/len(exams)\n",
    "\n",
    "weights = {'Labs': 5/100, 'Participation': 5/100, 'Homeworks': 40/100,\n",
    "'Exams': 50/100}\n",
    "labGrade = labAvg * weights['Labs']\n",
    "hwGrade = hwAvg * weights['Homeworks']\n",
    "examGrade = examAvg * weights['Exams']\n",
    "participationGrade = participation * weights['Participation']\n",
    "gradeBook = [hwGrade, labGrade, participationGrade, examGrade]\n",
    "total = sum(gradeBook[::])\n",
    "\n",
    "l = list(gradeTable.keys())\n",
    "filter = [l[0][0] <= total <= l[0][1],\n",
    "l[1][0] <= total <= l[1][1],\n",
    "l[2][0] <= total <= l[2][1],\n",
    "l[3][0] <= total <= l[3][1],\n",
    "l[4][0] <= total <= l[4][1],\n",
    "l[5][0] <= total <= l[5][1],\n",
    "l[6][0] <= total <= l[6][1],\n",
    "l[7][0] <= total <= l[7][1],\n",
    "l[8][0] <= total <= l[8][1],\n",
    "l[9][0] <= total <= l[9][1]]\n",
    "\n",
    "letterGrade = gradeTable[l[filter.index(True)]]\n",
    "letterGrade\n",
    "\n",
    "print('GRADE REPORT')\n",
    "print('-' * 75)\n",
    "print(f'Homework Grades: {homework} = {sum(homework[::])}/{len(homework)} = {hwAvg:.1f}')\n",
    "print(f'Lab Grades: {labs} = {sum(labs[::])}/{len(labs)} = {labAvg:.1f}')\n",
    "print(f'Participation Grade: {participation}')\n",
    "print(f'Exam Grades: {exams} = {sum(exams[::])}/{len(exams)} = {examAvg:.1f}')\n",
    "print('-' * 75)\n",
    "print(f'{\"Homeworks\":<15}', f': {hwAvg:>5.1f} x {weights[\"Homeworks\"]:.2f}')\n",
    "print(f'{\"Labs\":<15}', f': {labAvg:>5.1f} x {weights[\"Labs\"]:.2f}')\n",
    "print(f'{\"Participation\":<15}', f': {participation:>5.1f} x {weights[\"Participation\"]:.2f}')\n",
    "print(f'{\"Exam \":<15}', f': {examAvg:>5.1f} x {weights[\"Exams\"]:.2f}')\n",
    "print('-' * 30)\n",
    "print(f'{\"TOTAL\":<15}', f': {total:>5.1f}')\n",
    "print('-' * 30)\n",
    "print(f'{\"GRADE\":<15}', f': {letterGrade:>5}')"
   ]
  }
 ],
 "metadata": {
  "kernelspec": {
   "display_name": "Python 3",
   "language": "python",
   "name": "python3"
  },
  "language_info": {
   "codemirror_mode": {
    "name": "ipython",
    "version": 3
   },
   "file_extension": ".py",
   "mimetype": "text/x-python",
   "name": "python",
   "nbconvert_exporter": "python",
   "pygments_lexer": "ipython3",
   "version": "3.11.5"
  }
 },
 "nbformat": 4,
 "nbformat_minor": 2
}
