{
 "cells": [
  {
   "cell_type": "markdown",
   "id": "a1199586-f3f9-4d4a-ae81-c1862464723f",
   "metadata": {},
   "source": [
    "## List Comprenhensions"
   ]
  },
  {
   "cell_type": "code",
   "execution_count": 87,
   "id": "57725d32-6714-4615-922d-3d72acfcbbcc",
   "metadata": {},
   "outputs": [
    {
     "name": "stdout",
     "output_type": "stream",
     "text": [
      "['H', 'e', 'l', 'l', 'o']\n"
     ]
    }
   ],
   "source": [
    "# for loop\n",
    "myString = \"Hello\"\n",
    "myList = []\n",
    "for c in myString:\n",
    "    myList.append(c)\n",
    "print(myList) "
   ]
  },
  {
   "cell_type": "code",
   "execution_count": 91,
   "id": "41243651-fdcc-4165-aae1-516e55bcd12c",
   "metadata": {},
   "outputs": [
    {
     "name": "stdout",
     "output_type": "stream",
     "text": [
      "['H', 'e', 'l', 'l', 'o']\n"
     ]
    }
   ],
   "source": [
    "# Basic list comprehension\n",
    "myList = [c for c in myString]\n",
    "print(myList)"
   ]
  },
  {
   "cell_type": "code",
   "execution_count": 93,
   "id": "45eb0240-d58a-4033-9ebf-41eeddf01e53",
   "metadata": {},
   "outputs": [
    {
     "name": "stdout",
     "output_type": "stream",
     "text": [
      "[0, 1, 4, 9, 16, 25, 36, 49, 64, 81]\n"
     ]
    }
   ],
   "source": [
    "# for loop\n",
    "myList = []\n",
    "for x in range(0,10):\n",
    "    myList.append(x*x)\n",
    "print(myList)"
   ]
  },
  {
   "cell_type": "code",
   "execution_count": 103,
   "id": "4974b794-d7aa-4f98-bf0f-7527b75368b1",
   "metadata": {},
   "outputs": [
    {
     "name": "stdout",
     "output_type": "stream",
     "text": [
      "[0, 1, 4, 9, 16, 25, 36, 49, 64, 81]\n"
     ]
    }
   ],
   "source": [
    "# Basic list comprehension\n",
    "myList = [x*x for x in range(0,10)]\n",
    "print(myList)"
   ]
  },
  {
   "cell_type": "code",
   "execution_count": 105,
   "id": "0aaf8cb9-0b9f-4df0-ab56-589dec88d0e7",
   "metadata": {},
   "outputs": [
    {
     "name": "stdout",
     "output_type": "stream",
     "text": [
      "[0, 2, 4, 6, 8, 10, 12, 14, 16, 18]\n"
     ]
    }
   ],
   "source": [
    "# using a condition\n",
    "myList = []\n",
    "for num in range(0,20):\n",
    "    if num%2==0:\n",
    "        myList.append(num)\n",
    "print(myList)"
   ]
  },
  {
   "cell_type": "code",
   "execution_count": 107,
   "id": "b2fe8274-1d15-46af-ae79-d1d54e2dfdd3",
   "metadata": {},
   "outputs": [
    {
     "name": "stdout",
     "output_type": "stream",
     "text": [
      "[0, 2, 4, 6, 8, 10, 12, 14, 16, 18]\n"
     ]
    }
   ],
   "source": [
    "# list comprehension\n",
    "myList = [num for num in range(0,20) if num%2==0]\n",
    "print(myList)"
   ]
  },
  {
   "cell_type": "code",
   "execution_count": null,
   "id": "5d9c3784-8ff2-4c5d-9b63-4e5c27300b21",
   "metadata": {},
   "outputs": [],
   "source": []
  },
  {
   "cell_type": "code",
   "execution_count": 115,
   "id": "0d119264-d53b-4ccf-acf9-70ce00aeee3c",
   "metadata": {},
   "outputs": [
    {
     "name": "stdout",
     "output_type": "stream",
     "text": [
      "1\n",
      "a\n"
     ]
    }
   ],
   "source": [
    "# Tuple unpacking\n",
    "t = (1, 'a')\n",
    "index, value = t\n",
    "print(index)  # Outputs: 1\n",
    "print(value)  # Outputs: 'a'"
   ]
  },
  {
   "cell_type": "code",
   "execution_count": 127,
   "id": "f007acbd-a499-4d5d-8bf8-943772561307",
   "metadata": {
    "tags": []
   },
   "outputs": [
    {
     "name": "stdout",
     "output_type": "stream",
     "text": [
      "[(0, 'a'), (1, 'b'), (2, 'c'), (3, 'd')]\n"
     ]
    }
   ],
   "source": [
    "# Enumerate in a list comprehension\n",
    "chars = ['a', 'b', 'c', 'd']\n",
    "\n",
    "indexed_chars = [(index,char) for index, char in enumerate(chars)]\n",
    "print(indexed_chars)"
   ]
  },
  {
   "cell_type": "code",
   "execution_count": 131,
   "id": "7f1d867a-7a1b-4898-9237-59daa58a1407",
   "metadata": {},
   "outputs": [
    {
     "name": "stdout",
     "output_type": "stream",
     "text": [
      "['Index: 0, Character: a', 'Index: 1, Character: b', 'Index: 2, Character: c', 'Index: 3, Character: d']\n"
     ]
    }
   ],
   "source": [
    "# Tuple unpacking and enumerate in a list comprehension\n",
    "chars = ['a', 'b', 'c', 'd']\n",
    "\n",
    "indexed_chars = [f\"Index: {index}, Character: {char}\" for index, char in enumerate(chars)]\n",
    "print(indexed_chars)  # Outputs: ['0: a', '1: b', '2: c', '3: d']"
   ]
  },
  {
   "cell_type": "code",
   "execution_count": null,
   "id": "2213bb5b-a1e0-48e0-b387-6ff0eae442f9",
   "metadata": {},
   "outputs": [],
   "source": []
  }
 ],
 "metadata": {
  "kernelspec": {
   "display_name": "anaconda-panel-2023.05-py310",
   "language": "python",
   "name": "conda-env-anaconda-panel-2023.05-py310-py"
  },
  "language_info": {
   "codemirror_mode": {
    "name": "ipython",
    "version": 3
   },
   "file_extension": ".py",
   "mimetype": "text/x-python",
   "name": "python",
   "nbconvert_exporter": "python",
   "pygments_lexer": "ipython3",
   "version": "3.11.4"
  }
 },
 "nbformat": 4,
 "nbformat_minor": 5
}
