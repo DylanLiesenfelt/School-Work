{
 "cells": [
  {
   "cell_type": "markdown",
   "metadata": {},
   "source": [
    "Class Activity 3\n",
    "\n",
    "Dylan Liesenfelt"
   ]
  },
  {
   "cell_type": "markdown",
   "metadata": {},
   "source": [
    "# 1. Practice Logic Simplification with Karnaugh Maps:\n",
    "\n",
    "(A) Y(A,B) = AB\\` + AB +A\\`B\\`\n",
    "- Simplified: AB\\`+AB\n",
    "\n",
    "(B) Y(X,Y,Z) = m0 + m3 + m4 + m6\n",
    "- Simplified:\n"
   ]
  },
  {
   "cell_type": "markdown",
   "metadata": {},
   "source": []
  }
 ],
 "metadata": {
  "language_info": {
   "name": "python"
  }
 },
 "nbformat": 4,
 "nbformat_minor": 2
}
